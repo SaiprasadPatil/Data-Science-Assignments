{
 "cells": [
  {
   "cell_type": "markdown",
   "id": "742913fe-88ef-4bfc-a70f-552ad62cdc6d",
   "metadata": {},
   "source": [
    "Q1. What is multiprocessing in python? Why is it useful?"
   ]
  },
  {
   "cell_type": "markdown",
   "id": "c6ca8a7a-c158-459a-bf98-f86419699918",
   "metadata": {},
   "source": [
    "Multiprocessing refers to the ability of a system to support more than one processor at the same time. \n",
    "Applications in a multiprocessing system are broken to smaller routines that run independently. \n",
    "The operating system allocates these threads to the processors improving performance of the system.\n",
    "Improved Performance: By utilizing multiple processors or cores simultaneously, multiprocessing allows tasks to be executed in parallel. \n",
    "This parallelism can significantly enhance the performance of a system by reducing the overall execution time. \n",
    "It enables faster processing of computationally intensive tasks, such as data analysis, simulations, rendering, and complex calculations.\n",
    "Increased Throughput: With multiprocessing, multiple tasks can be executed simultaneously, leading to increased throughput \n",
    "or the number of tasks processed per unit of time. "
   ]
  },
  {
   "cell_type": "markdown",
   "id": "e88adf53-eaad-4557-a54b-62ece29984cf",
   "metadata": {},
   "source": [
    "Q2. What are the differences between multiprocessing and multithreading?"
   ]
  },
  {
   "cell_type": "markdown",
   "id": "eef97a6a-e3e3-4f23-8e5d-8d78f31998fa",
   "metadata": {},
   "source": [
    "In Multiprocessing, CPUs are added for increasing computing power.\n",
    "In Multiprocessing, Many processes are executed simultaneously.\n",
    "Multiprocessing are classified into Symmetric and Asymmetric.\n",
    "In Multiprocessing, Process creation is a time-consuming process.\n",
    "In Multiprocessing, every process owned a separate address space.\n",
    "\n",
    "While In Multithreading, many threads are created of a single process for increasing computing power.\n",
    "While in multithreading, many threads of a process are executed simultaneously.\n",
    "While Multithreading is not classified in any categories.\n",
    "While in Multithreading, process creation is according to economical.\n",
    "While in Multithreading, a common address space is shared by all the threads."
   ]
  },
  {
   "cell_type": "markdown",
   "id": "41c290dd-b9dc-46d9-9780-3c312b05fa40",
   "metadata": {},
   "source": [
    "Q3. Write a python code to create a process using the multiprocessing module."
   ]
  },
  {
   "cell_type": "code",
   "execution_count": 1,
   "id": "b89930e7-6d2f-45f5-98d1-1e5cdafdb1f3",
   "metadata": {},
   "outputs": [],
   "source": [
    "import multiprocessing"
   ]
  },
  {
   "cell_type": "code",
   "execution_count": 2,
   "id": "3d47512b-b554-4ede-961b-ca84782b5544",
   "metadata": {},
   "outputs": [
    {
     "name": "stdout",
     "output_type": "stream",
     "text": [
      "This is my main program\n",
      "this is my multiprocessing program\n"
     ]
    }
   ],
   "source": [
    "def test():\n",
    "    print(\"this is my multiprocessing program\")\n",
    "\n",
    "if __name__ == '__main__':\n",
    "    m=multiprocessing.Process(target=test)\n",
    "    print(\"This is my main program\")\n",
    "    m.start()\n",
    "    m.join()"
   ]
  },
  {
   "cell_type": "markdown",
   "id": "d3dbff20-fc38-4999-9543-786a9873bce6",
   "metadata": {},
   "source": [
    "Q4. What is a multiprocessing pool in python? Why is it used?"
   ]
  },
  {
   "cell_type": "markdown",
   "id": "d78d5e4d-8c61-4524-9a6c-f6c5ac1f5a17",
   "metadata": {},
   "source": [
    "In Python, a multiprocessing pool is a component provided by the multiprocessing module that allows for easy parallelization and distribution of tasks across multiple processes. \n",
    "It provides a convenient way to create a pool of worker processes that can execute tasks concurrently.\n",
    "\n",
    "The multiprocessing pool is represented by the Pool class, which manages a set of worker processes. \n",
    "The number of worker processes in the pool can be specified, or it can default to the number of available CPU cores.\n",
    "The multiprocessing pool is used to achieve parallelism and distribute the workload across multiple processes, \n",
    "making it beneficial in scenarios where tasks can be executed independently and in parallel.\n",
    "It can improve the overall performance and efficiency of the system by utilizing multiple CPU cores or processors effectively. "
   ]
  },
  {
   "cell_type": "markdown",
   "id": "5bddd8f5-aa7a-46fe-8750-e5b87b16cf5e",
   "metadata": {},
   "source": [
    "Q5. How can we create a pool of worker processes in python using the multiprocessing module?"
   ]
  },
  {
   "cell_type": "markdown",
   "id": "12c174e4-5087-408f-aecb-68b7813b7588",
   "metadata": {},
   "source": [
    "To create a pool of worker processes in Python using the multiprocessing module, you can utilize the Pool class. \n",
    "The Pool class provides a simple and convenient way to manage a pool of worker processes. "
   ]
  },
  {
   "cell_type": "code",
   "execution_count": 4,
   "id": "70e1e9ef-ba96-4025-94af-77c3312155cb",
   "metadata": {},
   "outputs": [
    {
     "name": "stdout",
     "output_type": "stream",
     "text": [
      "[1, 4, 9, 16, 25, 36, 49, 64, 81, 100]\n"
     ]
    }
   ],
   "source": [
    "def square(n):\n",
    "    return n**2\n",
    "\n",
    "if __name__ == '__main__':\n",
    "    with multiprocessing.Pool(processes=100) as pool:\n",
    "        out=pool.map(square,[1,2,3,4,5,6,7,8,9,10])\n",
    "        print(out)"
   ]
  },
  {
   "cell_type": "markdown",
   "id": "dac3bf36-b48f-4dbb-b9bf-5d6604ac9da8",
   "metadata": {},
   "source": [
    "Q6. Write a python program to create 4 processes, each process should print a different number using the\n",
    "multiprocessing module in python."
   ]
  },
  {
   "cell_type": "code",
   "execution_count": 13,
   "id": "e02491bf-cbb1-455e-9b3c-877b61c037bc",
   "metadata": {},
   "outputs": [
    {
     "name": "stdout",
     "output_type": "stream",
     "text": [
      "Process 1: Printing number 1\n",
      "Process 2: Printing number 2\n",
      "Process 3: Printing number 3\n",
      "Process 4: Printing number 4\n"
     ]
    }
   ],
   "source": [
    "def no(num):\n",
    "    print(f\"Process {num}: Printing number {num}\")\n",
    "\n",
    "if __name__ == \"__main__\":\n",
    "    numbers=[1,2,3,4]\n",
    "    \n",
    "    process=[]\n",
    "    \n",
    "    for num in numbers:\n",
    "        proceses=multiprocessing.Process(target=no,args=(num,))\n",
    "        process.append(proceses)\n",
    "        proceses.start()\n",
    "    for i in process:\n",
    "        i.join()"
   ]
  },
  {
   "cell_type": "code",
   "execution_count": null,
   "id": "8219d741-d083-4007-91ff-273a29ffea86",
   "metadata": {},
   "outputs": [],
   "source": []
  }
 ],
 "metadata": {
  "kernelspec": {
   "display_name": "Python 3 (ipykernel)",
   "language": "python",
   "name": "python3"
  },
  "language_info": {
   "codemirror_mode": {
    "name": "ipython",
    "version": 3
   },
   "file_extension": ".py",
   "mimetype": "text/x-python",
   "name": "python",
   "nbconvert_exporter": "python",
   "pygments_lexer": "ipython3",
   "version": "3.10.8"
  }
 },
 "nbformat": 4,
 "nbformat_minor": 5
}
