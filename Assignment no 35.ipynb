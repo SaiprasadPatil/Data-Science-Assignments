{
 "cells": [
  {
   "cell_type": "markdown",
   "id": "de347e42-5d07-4353-b66f-65fe50c0373e",
   "metadata": {},
   "source": [
    "Q1. Write a Python function that takes in two arrays of data and calculates the F-value for a variance ratio\n",
    "test. The function should return the F-value and the corresponding p-value for the test."
   ]
  },
  {
   "cell_type": "code",
   "execution_count": 1,
   "id": "64825a84-1290-4aba-b40a-fc5340db70e1",
   "metadata": {},
   "outputs": [
    {
     "name": "stdout",
     "output_type": "stream",
     "text": [
      "F-value: 4.235294117647059\n",
      "p-value: 0.07359018595681227\n"
     ]
    }
   ],
   "source": [
    "import numpy as np\n",
    "import scipy.stats as stats\n",
    "\n",
    "def variance_ratio_test(data1, data2):\n",
    "    \"\"\"\n",
    "    Perform a variance ratio test (F-test) on two arrays of data.\n",
    "\n",
    "    Parameters:\n",
    "    - data1: Array-like, first set of data\n",
    "    - data2: Array-like, second set of data\n",
    "\n",
    "    Returns:\n",
    "    - F_value: Float, F-value of the test\n",
    "    - p_value: Float, p-value of the test\n",
    "    \"\"\"\n",
    "    # Perform variance ratio test (F-test)\n",
    "    F_value, p_value = stats.f_oneway(data1, data2)\n",
    "    \n",
    "    return F_value, p_value\n",
    "\n",
    "# Example usage:\n",
    "data1 = [10, 12, 15, 14, 11]\n",
    "data2 = [8, 9, 11, 10, 12]\n",
    "F_value, p_value = variance_ratio_test(data1, data2)\n",
    "print(\"F-value:\", F_value)\n",
    "print(\"p-value:\", p_value)\n"
   ]
  },
  {
   "cell_type": "markdown",
   "id": "fed1181e-7b26-436f-868d-bc776c757406",
   "metadata": {},
   "source": [
    "Q2. Given a significance level of 0.05 and the degrees of freedom for the numerator and denominator of an\n",
    "F-distribution, write a Python function that returns the critical F-value for a two-tailed test.\n"
   ]
  },
  {
   "cell_type": "code",
   "execution_count": 2,
   "id": "49b6bf17-9efe-4958-8cca-f96d356cf43a",
   "metadata": {},
   "outputs": [
    {
     "name": "stdout",
     "output_type": "stream",
     "text": [
      "Critical F-value: 3.8586986662732143\n"
     ]
    }
   ],
   "source": [
    "import scipy.stats as stats\n",
    "\n",
    "def critical_f_value(alpha, dfn, dfd):\n",
    "    \"\"\"\n",
    "    Calculate the critical F-value for a two-tailed test given a significance level (alpha)\n",
    "    and the degrees of freedom for the numerator (dfn) and denominator (dfd) of an F-distribution.\n",
    "\n",
    "    Parameters:\n",
    "    - alpha: Float, significance level (e.g., 0.05)\n",
    "    - dfn: Int, degrees of freedom for the numerator\n",
    "    - dfd: Int, degrees of freedom for the denominator\n",
    "\n",
    "    Returns:\n",
    "    - f_critical: Float, critical F-value for the two-tailed test\n",
    "    \"\"\"\n",
    "    # Calculate critical F-value\n",
    "    f_critical = stats.f.ppf(1 - alpha / 2, dfn, dfd)\n",
    "    \n",
    "    return f_critical\n",
    "\n",
    "# Example usage:\n",
    "alpha = 0.05\n",
    "dfn = 3\n",
    "dfd = 20\n",
    "f_critical = critical_f_value(alpha, dfn, dfd)\n",
    "print(\"Critical F-value:\", f_critical)\n"
   ]
  },
  {
   "cell_type": "markdown",
   "id": "81e2e89d-de43-45bf-be68-08a8a7c60946",
   "metadata": {},
   "source": [
    "Q3. Write a Python program that generates random samples from two normal distributions with known\n",
    "\n",
    "variances and uses an F-test to determine if the variances are equal. The program should output the F-\n",
    "value, degrees of freedom, and p-value for the test."
   ]
  },
  {
   "cell_type": "code",
   "execution_count": 3,
   "id": "19b1049b-65cf-46eb-b3a3-7c4c30a7a470",
   "metadata": {},
   "outputs": [
    {
     "name": "stdout",
     "output_type": "stream",
     "text": [
      "Variance Ratio Test results:\n",
      "F-value: 1.4485238079262464\n",
      "Degrees of freedom (numerator): 29\n",
      "Degrees of freedom (denominator): 29\n",
      "p-value: 1.6760519636703755\n"
     ]
    }
   ],
   "source": [
    "import numpy as np\n",
    "import scipy.stats as stats\n",
    "\n",
    "def variance_ratio_test(data1, data2):\n",
    "    \"\"\"\n",
    "    Perform a variance ratio test (F-test) on two arrays of data.\n",
    "\n",
    "    Parameters:\n",
    "    - data1: Array-like, first set of data\n",
    "    - data2: Array-like, second set of data\n",
    "\n",
    "    Returns:\n",
    "    - F_value: Float, F-value of the test\n",
    "    - dfn: Degrees of freedom for the numerator\n",
    "    - dfd: Degrees of freedom for the denominator\n",
    "    - p_value: Float, p-value of the test\n",
    "    \"\"\"\n",
    "    # Calculate sample variances\n",
    "    var1 = np.var(data1, ddof=1)  # Degrees of freedom for sample variance: n-1\n",
    "    var2 = np.var(data2, ddof=1)\n",
    "    \n",
    "    # Perform F-test\n",
    "    F_value = var1 / var2 if var1 > var2 else var2 / var1\n",
    "    dfn = len(data1) - 1\n",
    "    dfd = len(data2) - 1\n",
    "    p_value = stats.f.cdf(F_value, dfn, dfd) * 2  # Two-tailed test\n",
    "    \n",
    "    return F_value, dfn, dfd, p_value\n",
    "\n",
    "# Generate random samples from two normal distributions with known variances\n",
    "np.random.seed(0)\n",
    "data1 = np.random.normal(loc=10, scale=2, size=30)  # Mean = 10, Variance = 2\n",
    "data2 = np.random.normal(loc=10, scale=2, size=30)  # Mean = 10, Variance = 2\n",
    "\n",
    "# Perform variance ratio test (F-test)\n",
    "F_value, dfn, dfd, p_value = variance_ratio_test(data1, data2)\n",
    "\n",
    "print(\"Variance Ratio Test results:\")\n",
    "print(\"F-value:\", F_value)\n",
    "print(\"Degrees of freedom (numerator):\", dfn)\n",
    "print(\"Degrees of freedom (denominator):\", dfd)\n",
    "print(\"p-value:\", p_value)\n"
   ]
  },
  {
   "cell_type": "markdown",
   "id": "18cfea36-76ee-4788-9f5f-6d459a7c9ffe",
   "metadata": {},
   "source": [
    "Q4.The variances of two populations are known to be 10 and 15. A sample of 12 observations is taken from\n",
    "each population. Conduct an F-test at the 5% significance level to determine if the variances are\n",
    "significantly different."
   ]
  },
  {
   "cell_type": "code",
   "execution_count": 4,
   "id": "31850ae0-7a69-45bb-b61e-f08183c2e945",
   "metadata": {},
   "outputs": [
    {
     "name": "stdout",
     "output_type": "stream",
     "text": [
      "F-statistic: 0.6666666666666666\n",
      "Critical F-value: 3.473699051085809\n",
      "p-value: 0.2561948993678998\n",
      "Fail to reject the null hypothesis. There is not enough evidence to conclude that the variances are significantly different.\n"
     ]
    }
   ],
   "source": [
    "import scipy.stats as stats\n",
    "\n",
    "# Known variances\n",
    "variance1 = 10\n",
    "variance2 = 15\n",
    "\n",
    "# Sample sizes\n",
    "n1 = 12\n",
    "n2 = 12\n",
    "\n",
    "# Calculate F-statistic\n",
    "F_statistic = variance1 / variance2\n",
    "\n",
    "# Degrees of freedom\n",
    "dfn = n1 - 1\n",
    "dfd = n2 - 1\n",
    "\n",
    "# Calculate p-value\n",
    "p_value = stats.f.cdf(F_statistic, dfn, dfd)\n",
    "\n",
    "# Significance level\n",
    "alpha = 0.05\n",
    "\n",
    "# Critical F-value\n",
    "critical_F_value = stats.f.ppf(1 - alpha/2, dfn, dfd)\n",
    "\n",
    "print(\"F-statistic:\", F_statistic)\n",
    "print(\"Critical F-value:\", critical_F_value)\n",
    "print(\"p-value:\", p_value)\n",
    "\n",
    "# Compare F-statistic with critical F-value\n",
    "if F_statistic > critical_F_value:\n",
    "    print(\"Reject the null hypothesis. The variances are significantly different.\")\n",
    "else:\n",
    "    print(\"Fail to reject the null hypothesis. There is not enough evidence to conclude that the variances are significantly different.\")\n"
   ]
  },
  {
   "cell_type": "markdown",
   "id": "ffc781b0-3308-43fb-9893-bf1792bcd140",
   "metadata": {},
   "source": [
    "Q5. A manufacturer claims that the variance of the diameter of a certain product is 0.005. A sample of 25\n",
    "products is taken, and the sample variance is found to be 0.006. Conduct an F-test at the 1% significance\n",
    "level to determine if the claim is justified."
   ]
  },
  {
   "cell_type": "code",
   "execution_count": 5,
   "id": "32d546db-9626-4ed5-9b3f-ed88b287a093",
   "metadata": {},
   "outputs": [
    {
     "name": "stdout",
     "output_type": "stream",
     "text": [
      "F-statistic: 1.2\n",
      "Critical F-value: 2.659072104348157\n",
      "Fail to reject the null hypothesis. There is not enough evidence to conclude that the sample variance is significantly greater than the claimed variance.\n"
     ]
    }
   ],
   "source": [
    "import scipy.stats as stats\n",
    "\n",
    "# Claimed population variance\n",
    "claimed_variance = 0.005\n",
    "\n",
    "# Sample variance\n",
    "sample_variance = 0.006\n",
    "\n",
    "# Sample size\n",
    "n = 25\n",
    "\n",
    "# Degrees of freedom for the numerator and denominator\n",
    "dfn = n - 1\n",
    "dfd = n - 1\n",
    "\n",
    "# Calculate F-statistic\n",
    "F_statistic = sample_variance / claimed_variance\n",
    "\n",
    "# Significance level\n",
    "alpha = 0.01\n",
    "\n",
    "# Critical F-value\n",
    "critical_F_value = stats.f.ppf(1 - alpha, dfn, dfd)\n",
    "\n",
    "print(\"F-statistic:\", F_statistic)\n",
    "print(\"Critical F-value:\", critical_F_value)\n",
    "\n",
    "# Compare F-statistic with critical F-value\n",
    "if F_statistic > critical_F_value:\n",
    "    print(\"Reject the null hypothesis. The sample variance is significantly greater than the claimed variance.\")\n",
    "else:\n",
    "    print(\"Fail to reject the null hypothesis. There is not enough evidence to conclude that the sample variance is significantly greater than the claimed variance.\")\n"
   ]
  },
  {
   "cell_type": "markdown",
   "id": "db8af6d6-cd12-4a61-9305-6639bb474590",
   "metadata": {},
   "source": [
    "Q6. Write a Python function that takes in the degrees of freedom for the numerator and denominator of an\n",
    "F-distribution and calculates the mean and variance of the distribution. The function should return the\n",
    "mean and variance as a tuple."
   ]
  },
  {
   "cell_type": "code",
   "execution_count": 6,
   "id": "b8cfe8eb-b295-4c02-ae86-78f10a0317f5",
   "metadata": {},
   "outputs": [
    {
     "name": "stdout",
     "output_type": "stream",
     "text": [
      "Mean of F-distribution: 1.1111111111111112\n",
      "Variance of F-distribution: 1.0802469135802468\n"
     ]
    }
   ],
   "source": [
    "def f_distribution_mean_and_variance(dfn, dfd):\n",
    "    \"\"\"\n",
    "    Calculate the mean and variance of an F-distribution given the degrees of freedom for the numerator and denominator.\n",
    "\n",
    "    Parameters:\n",
    "    - dfn: Int, degrees of freedom for the numerator\n",
    "    - dfd: Int, degrees of freedom for the denominator\n",
    "\n",
    "    Returns:\n",
    "    - mean: Float, mean of the F-distribution\n",
    "    - variance: Float, variance of the F-distribution\n",
    "    \"\"\"\n",
    "    # Mean of F-distribution\n",
    "    if dfd > 2:\n",
    "        mean = dfd / (dfd - 2)\n",
    "    else:\n",
    "        mean = float('inf')  # For dfd <= 2, mean is undefined\n",
    "\n",
    "    # Variance of F-distribution\n",
    "    if dfd > 4:\n",
    "        variance = (2 * dfd**2 * (dfn + dfd - 2)) / (dfn * (dfd - 2)**2 * (dfd - 4))\n",
    "    else:\n",
    "        variance = float('inf')  # For dfd <= 4, variance is undefined\n",
    "\n",
    "    return mean, variance\n",
    "\n",
    "# Example usage:\n",
    "dfn = 3\n",
    "dfd = 20\n",
    "mean, variance = f_distribution_mean_and_variance(dfn, dfd)\n",
    "print(\"Mean of F-distribution:\", mean)\n",
    "print(\"Variance of F-distribution:\", variance)\n"
   ]
  },
  {
   "cell_type": "markdown",
   "id": "6527b835-ea66-4b35-bf16-7d92aadcc938",
   "metadata": {},
   "source": [
    "Q7. A random sample of 10 measurements is taken from a normal population with unknown variance. The\n",
    "sample variance is found to be 25. Another random sample of 15 measurements is taken from another\n",
    "normal population with unknown variance, and the sample variance is found to be 20. Conduct an F-test\n",
    "at the 10% significance level to determine if the variances are significantly different."
   ]
  },
  {
   "cell_type": "code",
   "execution_count": 7,
   "id": "5544658a-c87d-40d5-8665-b38aa43fd354",
   "metadata": {},
   "outputs": [
    {
     "name": "stdout",
     "output_type": "stream",
     "text": [
      "F-statistic: 1.25\n",
      "Critical F-value: 2.121954566976902\n",
      "Fail to reject the null hypothesis. There is not enough evidence to conclude that the variances are significantly different.\n"
     ]
    }
   ],
   "source": [
    "import scipy.stats as stats\n",
    "\n",
    "# Sample variances\n",
    "sample_variance1 = 25\n",
    "sample_variance2 = 20\n",
    "\n",
    "# Sample sizes\n",
    "n1 = 10\n",
    "n2 = 15\n",
    "\n",
    "# Degrees of freedom for the numerator and denominator\n",
    "dfn = n1 - 1\n",
    "dfd = n2 - 1\n",
    "\n",
    "# Calculate F-statistic\n",
    "F_statistic = sample_variance1 / sample_variance2\n",
    "\n",
    "# Significance level\n",
    "alpha = 0.10\n",
    "\n",
    "# Critical F-value\n",
    "critical_F_value = stats.f.ppf(1 - alpha, dfn, dfd)\n",
    "\n",
    "print(\"F-statistic:\", F_statistic)\n",
    "print(\"Critical F-value:\", critical_F_value)\n",
    "\n",
    "# Compare F-statistic with critical F-value\n",
    "if F_statistic > critical_F_value:\n",
    "    print(\"Reject the null hypothesis. The variances are significantly different.\")\n",
    "else:\n",
    "    print(\"Fail to reject the null hypothesis. There is not enough evidence to conclude that the variances are significantly different.\")\n"
   ]
  },
  {
   "cell_type": "markdown",
   "id": "7fc5dd74-aa12-49dc-80e8-172a21219cc8",
   "metadata": {},
   "source": [
    "Q8. The following data represent the waiting times in minutes at two different restaurants on a Saturday\n",
    "night: Restaurant A: 24, 25, 28, 23, 22, 20, 27; Restaurant B: 31, 33, 35, 30, 32, 36. Conduct an F-test at the 5%\n",
    "significance level to determine if the variances are significantly different."
   ]
  },
  {
   "cell_type": "code",
   "execution_count": 8,
   "id": "6ac468a9-3bfc-4210-9c1e-0efb6716dbdf",
   "metadata": {},
   "outputs": [
    {
     "name": "stdout",
     "output_type": "stream",
     "text": [
      "F-statistic: 1.4551907719609583\n",
      "Critical F-value: 4.950288068694318\n",
      "Fail to reject the null hypothesis. There is not enough evidence to conclude that the variances are significantly different.\n"
     ]
    }
   ],
   "source": [
    "import numpy as np\n",
    "import scipy.stats as stats\n",
    "\n",
    "# Waiting times at Restaurant A and Restaurant B\n",
    "restaurant_A_times = np.array([24, 25, 28, 23, 22, 20, 27])\n",
    "restaurant_B_times = np.array([31, 33, 35, 30, 32, 36])\n",
    "\n",
    "# Sample variances\n",
    "sample_variance_A = np.var(restaurant_A_times, ddof=1)\n",
    "sample_variance_B = np.var(restaurant_B_times, ddof=1)\n",
    "\n",
    "# Sample sizes\n",
    "n_A = len(restaurant_A_times)\n",
    "n_B = len(restaurant_B_times)\n",
    "\n",
    "# Degrees of freedom for the numerator and denominator\n",
    "dfn = n_A - 1\n",
    "dfd = n_B - 1\n",
    "\n",
    "# Calculate F-statistic\n",
    "F_statistic = sample_variance_A / sample_variance_B\n",
    "\n",
    "# Significance level\n",
    "alpha = 0.05\n",
    "\n",
    "# Critical F-value\n",
    "critical_F_value = stats.f.ppf(1 - alpha, dfn, dfd)\n",
    "\n",
    "print(\"F-statistic:\", F_statistic)\n",
    "print(\"Critical F-value:\", critical_F_value)\n",
    "\n",
    "# Compare F-statistic with critical F-value\n",
    "if F_statistic > critical_F_value:\n",
    "    print(\"Reject the null hypothesis. The variances are significantly different.\")\n",
    "else:\n",
    "    print(\"Fail to reject the null hypothesis. There is not enough evidence to conclude that the variances are significantly different.\")\n"
   ]
  },
  {
   "cell_type": "markdown",
   "id": "fbb11d89-8473-4ed1-8b3c-477322b3cba0",
   "metadata": {},
   "source": [
    "Q9. The following data represent the test scores of two groups of students: Group A: 80, 85, 90, 92, 87, 83;\n",
    "Group B: 75, 78, 82, 79, 81, 84. Conduct an F-test at the 1% significance level to determine if the variances\n",
    "are significantly different."
   ]
  },
  {
   "cell_type": "code",
   "execution_count": 9,
   "id": "6f9239dc-83b0-4040-a9d3-be430267e7b0",
   "metadata": {},
   "outputs": [
    {
     "name": "stdout",
     "output_type": "stream",
     "text": [
      "F-statistic: 1.9442622950819677\n",
      "Critical F-value: 10.967020650907992\n",
      "Fail to reject the null hypothesis. There is not enough evidence to conclude that the variances are significantly different.\n"
     ]
    }
   ],
   "source": [
    "import numpy as np\n",
    "import scipy.stats as stats\n",
    "\n",
    "# Test scores of Group A and Group B\n",
    "group_A_scores = np.array([80, 85, 90, 92, 87, 83])\n",
    "group_B_scores = np.array([75, 78, 82, 79, 81, 84])\n",
    "\n",
    "# Sample variances\n",
    "sample_variance_A = np.var(group_A_scores, ddof=1)\n",
    "sample_variance_B = np.var(group_B_scores, ddof=1)\n",
    "\n",
    "# Sample sizes\n",
    "n_A = len(group_A_scores)\n",
    "n_B = len(group_B_scores)\n",
    "\n",
    "# Degrees of freedom for the numerator and denominator\n",
    "dfn = n_A - 1\n",
    "dfd = n_B - 1\n",
    "\n",
    "# Calculate F-statistic\n",
    "F_statistic = sample_variance_A / sample_variance_B\n",
    "\n",
    "# Significance level\n",
    "alpha = 0.01\n",
    "\n",
    "# Critical F-value\n",
    "critical_F_value = stats.f.ppf(1 - alpha, dfn, dfd)\n",
    "\n",
    "print(\"F-statistic:\", F_statistic)\n",
    "print(\"Critical F-value:\", critical_F_value)\n",
    "\n",
    "# Compare F-statistic with critical F-value\n",
    "if F_statistic > critical_F_value:\n",
    "    print(\"Reject the null hypothesis. The variances are significantly different.\")\n",
    "else:\n",
    "    print(\"Fail to reject the null hypothesis. There is not enough evidence to conclude that the variances are significantly different.\")\n"
   ]
  },
  {
   "cell_type": "code",
   "execution_count": null,
   "id": "4798f606-79d6-4b45-ae08-fe373742e43f",
   "metadata": {},
   "outputs": [],
   "source": []
  },
  {
   "cell_type": "code",
   "execution_count": null,
   "id": "9bbc64dd-b133-4ad5-882e-099ecec73dc0",
   "metadata": {},
   "outputs": [],
   "source": []
  },
  {
   "cell_type": "code",
   "execution_count": null,
   "id": "fc8f43ac-3c0b-4d62-b2b7-6177e8aef81b",
   "metadata": {},
   "outputs": [],
   "source": []
  }
 ],
 "metadata": {
  "kernelspec": {
   "display_name": "Python 3 (ipykernel)",
   "language": "python",
   "name": "python3"
  },
  "language_info": {
   "codemirror_mode": {
    "name": "ipython",
    "version": 3
   },
   "file_extension": ".py",
   "mimetype": "text/x-python",
   "name": "python",
   "nbconvert_exporter": "python",
   "pygments_lexer": "ipython3",
   "version": "3.10.8"
  }
 },
 "nbformat": 4,
 "nbformat_minor": 5
}
