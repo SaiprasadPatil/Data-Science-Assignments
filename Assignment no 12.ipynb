{
 "cells": [
  {
   "cell_type": "markdown",
   "id": "a67be38f-453d-4963-aa25-07498c11a091",
   "metadata": {},
   "source": [
    "Q1. What is a database? Differentiate between SQL and NoSQL databases."
   ]
  },
  {
   "cell_type": "markdown",
   "id": "fc03808d-0a95-4449-95eb-fa4904855580",
   "metadata": {},
   "source": [
    "A database is an organized collection of structured information, or data, typically stored electronically in a computer system.\n",
    "\n",
    "SQL\t\n",
    "RELATIONAL DATABASE MANAGEMENT SYSTEM (RDBMS)\t\n",
    "These databases have fixed or static or predefined schema\t\n",
    "These databases are not suited for hierarchical data storage.\t\n",
    "These databases are best suited for complex queries\t\n",
    "Vertically Scalable\t\n",
    "Follows ACID property\t\n",
    "Examples: MySQL, PostgreSQL, Oracle, MS-SQL Server, etc\t\n",
    "\n",
    "NoSQL\n",
    "Non-relational or distributed database system.\n",
    "They have a dynamic schema\n",
    "These databases are best suited for hierarchical data storage.\n",
    "These databases are not so good for complex queries\n",
    "Horizontally scalable\n",
    "Follows CAP(consistency, availability, partition tolerance)\n",
    "Examples: MongoDB, GraphQL, HBase, Neo4j, Cassandra, etc"
   ]
  },
  {
   "cell_type": "markdown",
   "id": "a3f4a227-a15d-4d89-ad0e-83e526a9d295",
   "metadata": {},
   "source": [
    "Q2. What is DDL? Explain why CREATE, DROP, ALTER, and TRUNCATE are used with an example."
   ]
  },
  {
   "cell_type": "markdown",
   "id": "95d5e64e-34b2-410d-b7fa-0a0acfe798ed",
   "metadata": {},
   "source": [
    "Data Definition Language(DDL) is a subset of SQL and a part of DBMS(Database Management System). DDL consist of Commands to commands like CREATE, ALTER, TRUNCATE and DROP. These commands are used to create or modify the tables in SQL.\n",
    "\n",
    "DDL Commands :\n",
    "In this section, We will cover the following DDL commands as follows.\n",
    "\n",
    "Create-\n",
    "This command is used to create a new table in SQL. The user has to give information like table name, column names, and their datatypes.\n",
    "Alter -\n",
    "his command is used to add, delete or change columns in the existing table. The user needs to know the existing table name and can do add, delete or modify tasks easily.\n",
    "truncate-\n",
    "This command is used to remove all rows from the table, but the structure of the table still exists\n",
    "drop- \n",
    "This command is used to remove an existing table along with its structure from the Database.\n",
    "Rename-\n",
    "It is possible to change name of table with or without data in it using simple RENAME command."
   ]
  },
  {
   "cell_type": "markdown",
   "id": "466edaaa-f470-4d13-9ef4-c3446919b3aa",
   "metadata": {},
   "source": [
    "Q3. What is DML? Explain INSERT, UPDATE, and DELETE with an example."
   ]
  },
  {
   "cell_type": "markdown",
   "id": "797922a2-a9c9-4a55-b4ff-60278063d1f0",
   "metadata": {},
   "source": [
    "The structured query language (SQL) commands deal with the manipulation of data present in the database that belongs to the DML or Data Manipulation Language. This includes most of the SQL statements.\n",
    "\n",
    "Examples of DML\n",
    "The examples of DML in the Database Management System (DBMS) are as follows −\n",
    "SELECT − Retrieve data from the database.\n",
    "SELECT * from <table_name>;\n",
    "INSERT − Insert data into a table.\n",
    "Insert into Employee(Emp_id, Emp_name) values (001, “ bhanu”);\n",
    "UPDATE − Update existing data within a table.\n",
    "UPDATE <table_name> SET column_number =value_number WHERE condition;\n",
    "DELETE − Delete records from a database table.\n",
    "Delete from <table_name>WHERE condition;"
   ]
  },
  {
   "cell_type": "markdown",
   "id": "0d507563-c103-44f6-83f3-af80c5049da8",
   "metadata": {},
   "source": [
    "Q4. What is DQL? Explain SELECT with an example."
   ]
  },
  {
   "cell_type": "markdown",
   "id": "7c6be6be-5477-4cf7-bfdc-d37a8873137a",
   "metadata": {},
   "source": [
    "DQL is a portion of a SQL statement that allows you to get and organise data from a database. \n",
    "You can use the SELECT command to extract data from a database in order to perform actions on it. \n",
    "The result of a SELECT statement on a table or collection of tables is compiled into a new temporary table, \n",
    "which is subsequently displayed or received by a program, i.e. a front-end.\n",
    "Example\n",
    "SELECT Stu_Name FROM Student WHERE Phone = 3562154054;"
   ]
  },
  {
   "cell_type": "markdown",
   "id": "28f55ef7-4b1d-4da5-96f6-3eef5cb69836",
   "metadata": {},
   "source": [
    "Q5. Explain Primary Key and Foreign Key."
   ]
  },
  {
   "cell_type": "markdown",
   "id": "62080bc3-51e0-43ae-9ee1-762ffe1e0934",
   "metadata": {},
   "source": [
    "Primary Key-A primary key is used to ensure data in the specific column is unique.\n",
    "It uniquely identifies a record in the relational database table.\n",
    "Only one primary key is allowed in a table.\n",
    "It does not allow NULL values.\n",
    "Its value cannot be deleted from the parent table.\n",
    "Foreign Key-\n",
    "A foreign key is a column or group of columns in a relational database table that provides a link between data in two tables.\n",
    "Whereas more than one foreign key is allowed in a table.\n",
    "It refers to the field in a table which is the primary key of another table.\n",
    "It can contain duplicate values and a table in a relational database.\n",
    "It can also contain NULL values"
   ]
  },
  {
   "cell_type": "markdown",
   "id": "d25e24cc-48cb-4ad5-aa90-64b4366c94c2",
   "metadata": {},
   "source": [
    "Q6. Write a python code to connect MySQL to python. Explain the cursor() and execute() method."
   ]
  },
  {
   "cell_type": "markdown",
   "id": "fd9bae5f-face-439e-bc42-84f0897fe146",
   "metadata": {},
   "source": [
    "\n",
    "The cursor() method returns a cursor object. The cursor is used to execute SQL queries and fetch the results.\n",
    "\n",
    "The execute() method is used to execute an SQL query. You pass the query as a string parameter. "
   ]
  },
  {
   "cell_type": "code",
   "execution_count": null,
   "id": "862f1c60-158b-4d69-9b7e-a0ba61df153f",
   "metadata": {
    "tags": []
   },
   "outputs": [],
   "source": [
    "import mysql.connector\n",
    "# import mysql.connector\n",
    "#create user 'user'@'%' identified by 'password'\n",
    "mydb = mysql.connector.connect(\n",
    "  host=\"localhost\",\n",
    "  user=\"abc\",\n",
    "  password=\"password\"\n",
    ")\n",
    "print(mydb)\n",
    "mycursor = mydb.cursor()\n",
    "mycursor.execute(\"SHOW DATABASES\")\n",
    "for x in mycursor:\n",
    "  print(x)\n",
    "\n"
   ]
  },
  {
   "cell_type": "markdown",
   "id": "5c36a725-1b04-406f-8fa0-38f519aa8ac5",
   "metadata": {},
   "source": [
    "Q7. Give the order of execution of SQL clauses in an SQL query."
   ]
  },
  {
   "cell_type": "markdown",
   "id": "fb07ac30-68a3-41ba-8367-c25551f2a593",
   "metadata": {},
   "source": [
    "FROM-Tables are joined to get the base data.\n",
    "WHERE-The base data is filtered.\n",
    "GROUP-The filtered base data is grouped.\n",
    "HAVING-The grouped base data is filtered.\n",
    "SELECT-The final data is returned.\n",
    "ORDER-The final data is sorted.\n",
    "LIMIT-The returned data is limited to row count."
   ]
  },
  {
   "cell_type": "code",
   "execution_count": null,
   "id": "acb8dda8-50c2-496a-9d77-fd8358a05365",
   "metadata": {},
   "outputs": [],
   "source": []
  }
 ],
 "metadata": {
  "kernelspec": {
   "display_name": "Python 3 (ipykernel)",
   "language": "python",
   "name": "python3"
  },
  "language_info": {
   "codemirror_mode": {
    "name": "ipython",
    "version": 3
   },
   "file_extension": ".py",
   "mimetype": "text/x-python",
   "name": "python",
   "nbconvert_exporter": "python",
   "pygments_lexer": "ipython3",
   "version": "3.10.8"
  }
 },
 "nbformat": 4,
 "nbformat_minor": 5
}
