{
 "cells": [
  {
   "cell_type": "code",
   "execution_count": 1,
   "id": "8ddce20b-46e5-4dc8-8f5f-6f34b983f723",
   "metadata": {},
   "outputs": [],
   "source": [
    "#Q1. Create one variable containing following type of data:\n",
    "\n",
    "#(i)\tstring\n",
    "\n",
    "#(ii)\tlist\n",
    "\n",
    "#(iii)\tfloat\n",
    "\n",
    "#(iv)\ttuple\n",
    "var1=\"Saiprasad Patil\""
   ]
  },
  {
   "cell_type": "code",
   "execution_count": 2,
   "id": "75536769-5550-4116-986a-b6f9502199dd",
   "metadata": {},
   "outputs": [
    {
     "data": {
      "text/plain": [
       "'Saiprasad Patil'"
      ]
     },
     "execution_count": 2,
     "metadata": {},
     "output_type": "execute_result"
    }
   ],
   "source": [
    "var1"
   ]
  },
  {
   "cell_type": "code",
   "execution_count": 4,
   "id": "1f567c47-4d19-47df-832e-c055c41c3327",
   "metadata": {},
   "outputs": [],
   "source": [
    "var2=['sai',1,2,3,4,5,12.5,13j]"
   ]
  },
  {
   "cell_type": "code",
   "execution_count": 6,
   "id": "fadc536d-a037-4b2f-ad54-322825239240",
   "metadata": {},
   "outputs": [
    {
     "data": {
      "text/plain": [
       "['sai', 1, 2, 3, 4, 5, 12.5, 13j]"
      ]
     },
     "execution_count": 6,
     "metadata": {},
     "output_type": "execute_result"
    }
   ],
   "source": [
    "var2"
   ]
  },
  {
   "cell_type": "code",
   "execution_count": 9,
   "id": "2a7f7b32-2e69-4316-ab99-4cee4463722b",
   "metadata": {},
   "outputs": [],
   "source": [
    "var3=78.98574621"
   ]
  },
  {
   "cell_type": "code",
   "execution_count": 10,
   "id": "a76d0049-1297-42be-a38e-0378ea57c445",
   "metadata": {},
   "outputs": [
    {
     "data": {
      "text/plain": [
       "78.98574621"
      ]
     },
     "execution_count": 10,
     "metadata": {},
     "output_type": "execute_result"
    }
   ],
   "source": [
    "var3"
   ]
  },
  {
   "cell_type": "code",
   "execution_count": 12,
   "id": "baa05c74-f6e6-48f6-a6e8-b4a592dd7048",
   "metadata": {},
   "outputs": [],
   "source": [
    "var4=(1,2,3,4,'sai')"
   ]
  },
  {
   "cell_type": "code",
   "execution_count": 14,
   "id": "751d6b3e-25c9-4472-bcda-e5125af08c9c",
   "metadata": {},
   "outputs": [
    {
     "data": {
      "text/plain": [
       "(1, 2, 3, 4, 'sai')"
      ]
     },
     "execution_count": 14,
     "metadata": {},
     "output_type": "execute_result"
    }
   ],
   "source": [
    "var4"
   ]
  },
  {
   "cell_type": "code",
   "execution_count": 33,
   "id": "afb02522-0f8f-47d5-96cc-2a48c3c32f29",
   "metadata": {},
   "outputs": [
    {
     "ename": "SyntaxError",
     "evalue": "unmatched ')' (3935055842.py, line 11)",
     "output_type": "error",
     "traceback": [
      "\u001b[0;36m  Cell \u001b[0;32mIn[33], line 11\u001b[0;36m\u001b[0m\n\u001b[0;31m    i)string\u001b[0m\n\u001b[0m     ^\u001b[0m\n\u001b[0;31mSyntaxError\u001b[0m\u001b[0;31m:\u001b[0m unmatched ')'\n"
     ]
    }
   ],
   "source": [
    "#Q2. Given are some following variables containing data:\n",
    "\n",
    "#(i)\tvar1 = ‘ ‘\n",
    "\n",
    "#(ii)\tvar2 = ‘[ DS , ML , Python]’\n",
    "\n",
    "#(iii)\tvar3 = [ ‘DS’ , ’ML’ , ‘Python’ ]\n",
    "\n",
    "#(iv)\tvar4 = 1.\n",
    "#Answer:\n",
    "i)string\n",
    "ii)string\n",
    "iii)list\n",
    "iv)int"
   ]
  },
  {
   "cell_type": "code",
   "execution_count": 35,
   "id": "bb8f907b-fbd6-480f-bcf1-5bb4eb6e11ef",
   "metadata": {},
   "outputs": [
    {
     "data": {
      "text/plain": [
       "6.0"
      ]
     },
     "execution_count": 35,
     "metadata": {},
     "output_type": "execute_result"
    }
   ],
   "source": [
    "#Q3. Explain the use of the following operators using an example:\n",
    "\n",
    "#(i)\t/\n",
    "\n",
    "#(ii)\t% \n",
    "\n",
    "#(iii)\t//\n",
    "\n",
    "#(iv)\t**\n",
    "12/2"
   ]
  },
  {
   "cell_type": "code",
   "execution_count": 36,
   "id": "339327b0-a3cf-4ad8-bf20-4efd32179280",
   "metadata": {},
   "outputs": [
    {
     "data": {
      "text/plain": [
       "0"
      ]
     },
     "execution_count": 36,
     "metadata": {},
     "output_type": "execute_result"
    }
   ],
   "source": [
    "12%2"
   ]
  },
  {
   "cell_type": "code",
   "execution_count": 37,
   "id": "26b2cb24-8c86-4240-becf-d55c4dc207a1",
   "metadata": {},
   "outputs": [
    {
     "data": {
      "text/plain": [
       "2"
      ]
     },
     "execution_count": 37,
     "metadata": {},
     "output_type": "execute_result"
    }
   ],
   "source": [
    "28//12"
   ]
  },
  {
   "cell_type": "code",
   "execution_count": 41,
   "id": "122915af-191e-4ea9-a81c-08a56b88011b",
   "metadata": {},
   "outputs": [
    {
     "data": {
      "text/plain": [
       "32"
      ]
     },
     "execution_count": 41,
     "metadata": {},
     "output_type": "execute_result"
    }
   ],
   "source": [
    "2**5"
   ]
  },
  {
   "cell_type": "code",
   "execution_count": 39,
   "id": "b5a6eb39-cbe9-4f84-9e74-a4c3cc35c64b",
   "metadata": {},
   "outputs": [],
   "source": [
    "#Q4. Create a list of length 10 of your choice containing multiple types of data. Using for loop print the\n",
    "#element and its data type.\n",
    "list1=['saiprasad','patil',1,2,3,4,5,55.2,12j,96]"
   ]
  },
  {
   "cell_type": "code",
   "execution_count": 40,
   "id": "1d4817c3-7d12-4967-b527-fbb1e334aecb",
   "metadata": {},
   "outputs": [
    {
     "name": "stdout",
     "output_type": "stream",
     "text": [
      "saiprasad\n",
      "patil\n",
      "1\n",
      "2\n",
      "3\n",
      "4\n",
      "5\n",
      "55.2\n",
      "12j\n",
      "96\n"
     ]
    }
   ],
   "source": [
    "for i in list1:\n",
    "    print(i)"
   ]
  },
  {
   "cell_type": "code",
   "execution_count": 25,
   "id": "cdb2a848-ddc8-4eab-b79d-590ed36a585a",
   "metadata": {},
   "outputs": [
    {
     "name": "stdin",
     "output_type": "stream",
     "text": [
      " 100\n",
      " 5\n"
     ]
    },
    {
     "name": "stdout",
     "output_type": "stream",
     "text": [
      "A is divisiable by B and count is: 2\n"
     ]
    }
   ],
   "source": [
    "#Q5. Using a while loop, verify if the number A is purely divisible by number B and if so then how many\n",
    "#times it can be divisible.\n",
    "A=int(input())\n",
    "B=int(input())\n",
    "i=0\n",
    "while A%B==0:\n",
    "    A=A/B\n",
    "    i=i+1\n",
    "if i > 0:\n",
    "    print(\"A is divisiable by B and count is:\",i)\n",
    "else:\n",
    "    print(\"A is not divisiable by B\")"
   ]
  },
  {
   "cell_type": "code",
   "execution_count": 45,
   "id": "c76230c8-4f1d-4a95-a9ce-902fe903df09",
   "metadata": {},
   "outputs": [
    {
     "name": "stdout",
     "output_type": "stream",
     "text": [
      "In list divisiable by 3 No are:\n",
      "3\n",
      "6\n",
      "9\n",
      "12\n",
      "15\n",
      "18\n",
      "21\n",
      "24\n"
     ]
    }
   ],
   "source": [
    "#Q6. Create a list containing 25 int type data. Using for loop and if-else condition print if the element is\n",
    "#divisible by 3 or not.\n",
    "list2=[1,2,3,4,5,6,7,8,9,10,11,12,13,14,15,16,17,18,19,20,21,22,23,24,25]\n",
    "print(\"In list divisiable by 3 No are:\")\n",
    "for i in list2:\n",
    "    if i % 3 ==0:\n",
    "        print(i)"
   ]
  },
  {
   "cell_type": "code",
   "execution_count": 29,
   "id": "50f016b2-cbda-4667-89f2-d8119cc82c5f",
   "metadata": {},
   "outputs": [
    {
     "data": {
      "text/plain": [
       "[1, 2, 3, 4, 5, 'Saiprasad', 12j]"
      ]
     },
     "execution_count": 29,
     "metadata": {},
     "output_type": "execute_result"
    }
   ],
   "source": [
    "#Q7. What do you understand about mutable and immutable data types? Give examples for both showing\n",
    "#this property\n",
    "#MUTABLE \n",
    "list2=[1,2,3,4,5,'sai',12j]\n",
    "list2[5]='Saiprasad'\n",
    "list2"
   ]
  },
  {
   "cell_type": "code",
   "execution_count": 31,
   "id": "94c82e5d-57a4-4237-a8d1-844ee1d5d7d6",
   "metadata": {},
   "outputs": [
    {
     "ename": "TypeError",
     "evalue": "'tuple' object does not support item assignment",
     "output_type": "error",
     "traceback": [
      "\u001b[0;31m---------------------------------------------------------------------------\u001b[0m",
      "\u001b[0;31mTypeError\u001b[0m                                 Traceback (most recent call last)",
      "Cell \u001b[0;32mIn[31], line 3\u001b[0m\n\u001b[1;32m      1\u001b[0m \u001b[38;5;66;03m#IMMUTABLE\u001b[39;00m\n\u001b[1;32m      2\u001b[0m tuple1\u001b[38;5;241m=\u001b[39m(\u001b[38;5;241m1\u001b[39m,\u001b[38;5;241m2\u001b[39m,\u001b[38;5;241m3\u001b[39m,\u001b[38;5;241m4\u001b[39m,\u001b[38;5;241m5\u001b[39m,\u001b[38;5;124m\"\u001b[39m\u001b[38;5;124msaiprasad\u001b[39m\u001b[38;5;124m\"\u001b[39m,\u001b[38;5;124m'\u001b[39m\u001b[38;5;124msai\u001b[39m\u001b[38;5;124m'\u001b[39m,\u001b[38;5;241m12\u001b[39mj)\n\u001b[0;32m----> 3\u001b[0m \u001b[43mtuple1\u001b[49m\u001b[43m[\u001b[49m\u001b[38;5;241;43m-\u001b[39;49m\u001b[38;5;241;43m1\u001b[39;49m\u001b[43m]\u001b[49m\u001b[38;5;241m=\u001b[39m\u001b[38;5;124m'\u001b[39m\u001b[38;5;124msai\u001b[39m\u001b[38;5;124m'\u001b[39m\n",
      "\u001b[0;31mTypeError\u001b[0m: 'tuple' object does not support item assignment"
     ]
    }
   ],
   "source": [
    "#IMMUTABLE\n",
    "tuple1=(1,2,3,4,5,\"saiprasad\",'sai',12j)\n",
    "tuple1[-1]='sai'"
   ]
  },
  {
   "cell_type": "code",
   "execution_count": 46,
   "id": "4eee2522-e0d9-4de4-bea2-40009983ea21",
   "metadata": {},
   "outputs": [
    {
     "data": {
      "text/plain": [
       "(1, 2, 3, 4, 5, 'saiprasad', 'sai', 12j)"
      ]
     },
     "execution_count": 46,
     "metadata": {},
     "output_type": "execute_result"
    }
   ],
   "source": [
    "tuple1"
   ]
  },
  {
   "cell_type": "code",
   "execution_count": null,
   "id": "feed2ed7-b164-4987-9c42-ec388d9b2579",
   "metadata": {},
   "outputs": [],
   "source": [
    "str1='saiprasad'\n",
    "str[]=''"
   ]
  }
 ],
 "metadata": {
  "kernelspec": {
   "display_name": "Python 3 (ipykernel)",
   "language": "python",
   "name": "python3"
  },
  "language_info": {
   "codemirror_mode": {
    "name": "ipython",
    "version": 3
   },
   "file_extension": ".py",
   "mimetype": "text/x-python",
   "name": "python",
   "nbconvert_exporter": "python",
   "pygments_lexer": "ipython3",
   "version": "3.10.8"
  }
 },
 "nbformat": 4,
 "nbformat_minor": 5
}
