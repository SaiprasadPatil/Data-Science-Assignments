{
 "cells": [
  {
   "cell_type": "markdown",
   "id": "6461b739-3c61-431d-8077-456e7e58fdab",
   "metadata": {},
   "source": [
    "Q1: What is Estimation Statistics? Explain point estimate and interval estimate."
   ]
  },
  {
   "cell_type": "markdown",
   "id": "c4313770-50e1-422f-9f82-dee012887af8",
   "metadata": {},
   "source": [
    "Estimation statistics is a branch of statistics that deals with estimating unknown population parameters based on sample data. The goal of estimation is to make inferences or predictions about population characteristics using information obtained from a sample.\n",
    "\n",
    "### Point Estimate:\n",
    "A point estimate is a single value (point) that serves as the best guess or estimate of a population parameter based on sample data. Point estimates are obtained by calculating a sample statistic that serves as an estimate of the corresponding population parameter. For example, the sample mean (\\( \\bar{x} \\)) is a point estimate of the population mean (\\( \\mu \\)), and the sample proportion (\\( \\hat{p} \\)) is a point estimate of the population proportion (\\( p \\)).\n",
    "\n",
    "Point estimates provide a single, concise summary of the population parameter and are often used in practice due to their simplicity. However, they do not convey information about the uncertainty associated with the estimate.\n",
    "\n",
    "### Interval Estimate:\n",
    "An interval estimate, also known as a confidence interval, is a range of values that is likely to contain the true value of the population parameter with a certain level of confidence. Interval estimates provide a measure of uncertainty associated with the point estimate by specifying a range of plausible values for the parameter.\n",
    "\n",
    "Interval estimates are constructed using the point estimate along with a margin of error, which is based on the variability of the sample data and the desired level of confidence. The margin of error defines the width of the interval around the point estimate. The confidence level represents the probability that the interval estimate contains the true population parameter.\n",
    "\n",
    "For example, a 95% confidence interval for the population mean (\\( \\mu \\)) would consist of a range of values centered around the sample mean (\\( \\bar{x} \\)), with a margin of error determined by the standard error of the mean and corresponding critical value from the t-distribution.\n",
    "\n",
    "### Importance of Point and Interval Estimates:\n",
    "- **Inference**: Point and interval estimates are essential for making inferences about population parameters based on sample data. They provide a basis for drawing conclusions and making decisions in various fields, such as business, science, and public policy.\n",
    "- **Decision Making**: Point estimates are often used for decision making when a single estimate of the population parameter is needed. Interval estimates, on the other hand, offer a more comprehensive understanding of the uncertainty associated with the estimate, allowing decision makers to assess risk and make more informed decisions.\n",
    "- **Communication**: Point and interval estimates facilitate communication of research findings and statistical results to stakeholders, policymakers, and the general public. They provide concise summaries of population characteristics and convey the level of uncertainty associated with the estimates.\n",
    "\n",
    "In summary, estimation statistics involves deriving point estimates and constructing interval estimates to make inferences about population parameters based on sample data. Point estimates provide single-value estimates of parameters, while interval estimates provide ranges of plausible values along with measures of uncertainty. Both types of estimates play important roles in statistical inference and decision making."
   ]
  },
  {
   "cell_type": "markdown",
   "id": "691eb0fa-8041-4936-b0f7-68fe854086d1",
   "metadata": {},
   "source": [
    "Q2. Write a Python function to estimate the population mean using a sample mean and standard\n",
    "deviation."
   ]
  },
  {
   "cell_type": "markdown",
   "id": "0788f724-c7ba-4ce7-b328-d4bc178388fd",
   "metadata": {},
   "source": [
    "To estimate the population mean using a sample mean and standard deviation, you can use the formula for estimating the population mean (\\( \\mu \\)) from a sample mean (\\( \\bar{x} \\)), sample standard deviation (\\( s \\)), and sample size (\\( n \\)). The formula is:\n",
    "\n",
    "\\[ \\mu = \\bar{x} \\]\n",
    "\n",
    "This is because the sample mean is an unbiased estimator of the population mean. Therefore, to estimate the population mean, you simply use the sample mean as the estimate.\n",
    "\n",
    "Here's a simple Python function to implement this:"
   ]
  },
  {
   "cell_type": "code",
   "execution_count": 2,
   "id": "36fc4b58-9f91-4ba3-b9a7-b66c765b3bbe",
   "metadata": {},
   "outputs": [
    {
     "name": "stdout",
     "output_type": "stream",
     "text": [
      "Estimated Population Mean: 50\n"
     ]
    }
   ],
   "source": [
    "def estimate_population_mean(sample_mean):\n",
    "    \"\"\"\n",
    "    Estimate the population mean using a sample mean.\n",
    "\n",
    "    Args:\n",
    "    sample_mean (float): The sample mean.\n",
    "\n",
    "    Returns:\n",
    "    float: The estimated population mean.\n",
    "    \"\"\"\n",
    "    return sample_mean\n",
    "\n",
    "# Example usage:\n",
    "sample_mean = 50  # Sample mean\n",
    "population_mean_estimate = estimate_population_mean(sample_mean)\n",
    "print(\"Estimated Population Mean:\", population_mean_estimate)"
   ]
  },
  {
   "cell_type": "markdown",
   "id": "3cd7e92e-d411-40e8-9cb8-adb1bd694375",
   "metadata": {},
   "source": [
    "\n",
    "\n",
    "In this function, `estimate_population_mean()` takes the sample mean as input and returns it as the estimated population mean. Since the sample mean is an unbiased estimator of the population mean, no further calculations are needed for estimation."
   ]
  },
  {
   "cell_type": "markdown",
   "id": "bfd49ed3-7834-4e81-b4b6-178f7c77aeb5",
   "metadata": {},
   "source": [
    "Q3: What is Hypothesis testing? Why is it used? State the importance of Hypothesis testing."
   ]
  },
  {
   "cell_type": "markdown",
   "id": "a26bc5a3-3f0b-4ca6-934a-7a8cd9cf60b1",
   "metadata": {},
   "source": [
    "**Hypothesis testing** is a statistical method used to make inferences about population parameters based on sample data. It involves testing a hypothesis or claim about a population parameter using sample evidence. The process typically involves the following steps:\n",
    "\n",
    "1. **Formulate Hypotheses**: The first step in hypothesis testing is to clearly state the null hypothesis (\\( H_0 \\)) and the alternative hypothesis (\\( H_1 \\)). The null hypothesis represents the default assumption or status quo, while the alternative hypothesis represents the claim or assertion that is being tested.\n",
    "\n",
    "2. **Collect Data**: Next, data is collected from a sample that is representative of the population of interest. This sample data will be used to evaluate the hypotheses.\n",
    "\n",
    "3. **Choose a Test Statistic**: Based on the hypotheses and the type of data being analyzed, a suitable test statistic is selected. The test statistic is a numerical value calculated from the sample data and is used to assess the strength of evidence against the null hypothesis.\n",
    "\n",
    "4. **Calculate the P-value**: Using the test statistic, the p-value is calculated. The p-value represents the probability of observing a test statistic as extreme as, or more extreme than, the one obtained from the sample data, assuming that the null hypothesis is true.\n",
    "\n",
    "5. **Make a Decision**: Based on the p-value and a predetermined significance level (alpha), a decision is made regarding whether to reject the null hypothesis or fail to reject it. If the p-value is less than or equal to the significance level, the null hypothesis is rejected in favor of the alternative hypothesis. Otherwise, the null hypothesis is not rejected.\n",
    "\n",
    "6. **Draw Conclusions**: Finally, conclusions are drawn based on the decision made in the previous step. These conclusions may have implications for the population being studied or for future research.\n",
    "\n",
    "### Importance of Hypothesis Testing:\n",
    "1. **Inference**: Hypothesis testing allows researchers to make inferences about population parameters based on sample data. It provides a systematic framework for evaluating competing hypotheses and drawing conclusions about the underlying population.\n",
    "\n",
    "2. **Decision Making**: Hypothesis testing helps in decision making by providing evidence for or against a claim or hypothesis. It enables researchers, policymakers, and practitioners to make informed decisions based on empirical evidence.\n",
    "\n",
    "3. **Scientific Research**: Hypothesis testing is essential in scientific research for testing theories, validating models, and exploring relationships between variables. It helps researchers assess the validity of their findings and draw reliable conclusions about the phenomena under investigation.\n",
    "\n",
    "4. **Quality Control**: In manufacturing and quality control processes, hypothesis testing is used to assess the quality of products and processes. It helps identify defects, improve performance, and ensure consistency in product quality.\n",
    "\n",
    "5. **Policy Evaluation**: Hypothesis testing is used in policy evaluation to assess the effectiveness of interventions, programs, or policies. It helps policymakers determine whether a policy change has had the desired effect and whether adjustments are needed.\n",
    "\n",
    "Overall, hypothesis testing is a fundamental tool in statistics and scientific research, providing a rigorous framework for evaluating hypotheses, drawing conclusions, and making informed decisions based on empirical evidence."
   ]
  },
  {
   "cell_type": "markdown",
   "id": "e52e2f0b-eda5-4e2e-8ff9-b19242a98d07",
   "metadata": {},
   "source": [
    "Q4. Create a hypothesis that states whether the average weight of male college students is greater than\n",
    "the average weight of female college students."
   ]
  },
  {
   "cell_type": "markdown",
   "id": "f1502e31-0176-445f-bd65-ec82ef871e90",
   "metadata": {},
   "source": [
    "The hypothesis regarding the average weight of male college students compared to female college students can be formulated as follows:\n",
    "\n",
    "**Null Hypothesis (\\(H_0\\)):** The average weight of male college students (\\( \\mu_m \\)) is equal to or less than the average weight of female college students (\\( \\mu_f \\)).\n",
    "\n",
    "\\[ H_0: \\mu_m \\leq \\mu_f \\]\n",
    "\n",
    "**Alternative Hypothesis (\\(H_1\\)):** The average weight of male college students (\\( \\mu_m \\)) is greater than the average weight of female college students (\\( \\mu_f \\)).\n",
    "\n",
    "\\[ H_1: \\mu_m > \\mu_f \\]\n",
    "\n",
    "In words, the null hypothesis suggests that there is no significant difference or that male college students may have equal or lower average weight compared to female college students. The alternative hypothesis proposes that male college students have a greater average weight compared to female college students.\n",
    "\n",
    "This hypothesis can be tested using appropriate statistical methods, such as a one-tailed t-test or z-test, with data collected from samples of male and female college students."
   ]
  },
  {
   "cell_type": "markdown",
   "id": "0d1fa7e4-ea94-4679-b8c2-36cc68cf1c61",
   "metadata": {},
   "source": [
    "Q5. Write a Python script to conduct a hypothesis test on the difference between two population means,\n",
    "given a sample from each population."
   ]
  },
  {
   "cell_type": "code",
   "execution_count": 4,
   "id": "ff336fe1-a057-456d-9708-c498d9389490",
   "metadata": {},
   "outputs": [
    {
     "name": "stdout",
     "output_type": "stream",
     "text": [
      "Test Statistic: -2.5671258664140177\n",
      "P-value: 0.012856201779605197\n",
      "Null Hypothesis Rejected: True\n"
     ]
    }
   ],
   "source": [
    "import numpy as np\n",
    "from scipy.stats import ttest_ind\n",
    "\n",
    "def hypothesis_test_two_sample(sample1, sample2, alpha):\n",
    "    # Perform independent two-sample t-test\n",
    "    t_statistic, p_value = ttest_ind(sample1, sample2)\n",
    "    \n",
    "    # Determine decision based on p-value and significance level\n",
    "    reject_null = p_value < alpha\n",
    "    \n",
    "    return t_statistic, p_value, reject_null\n",
    "\n",
    "# Example usage:\n",
    "# Generate sample data (replace with actual sample data)\n",
    "sample1 = np.random.normal(loc=50, scale=10, size=30)  # Sample from population 1\n",
    "sample2 = np.random.normal(loc=55, scale=10, size=30)  # Sample from population 2\n",
    "alpha = 0.05  # Significance level\n",
    "\n",
    "# Conduct hypothesis test\n",
    "t_statistic, p_value, reject_null = hypothesis_test_two_sample(sample1, sample2, alpha)\n",
    "\n",
    "# Print results\n",
    "print(\"Test Statistic:\", t_statistic)\n",
    "print(\"P-value:\", p_value)\n",
    "print(\"Null Hypothesis Rejected:\", reject_null)\n"
   ]
  },
  {
   "cell_type": "markdown",
   "id": "e2bb974b-fe07-4d3d-b917-2d93bc260683",
   "metadata": {},
   "source": [
    "Q6: What is a null and alternative hypothesis? Give some examples."
   ]
  },
  {
   "cell_type": "markdown",
   "id": "3fc9cafa-5d0d-4994-ad29-e72c35ded1c7",
   "metadata": {},
   "source": [
    "In hypothesis testing, the null hypothesis (\\( H_0 \\)) and alternative hypothesis (\\( H_1 \\)) are statements about the population parameters that are being tested. These hypotheses are formulated based on the research question or the claim being investigated.\n",
    "\n",
    "### Null Hypothesis (\\( H_0 \\)):\n",
    "The null hypothesis (\\( H_0 \\)) represents the default assumption or status quo. It suggests that there is no significant difference, effect, or relationship in the population parameters being studied. It is typically stated as an equality or absence of effect.\n",
    "\n",
    "**Example:** \n",
    "1. **Population Mean**: \\( H_0: \\mu = 100 \\) (The population mean is equal to 100)\n",
    "2. **Population Proportion**: \\( H_0: p = 0.5 \\) (The population proportion is equal to 0.5)\n",
    "3. **Population Difference**: \\( H_0: \\mu_1 - \\mu_2 = 0 \\) (There is no difference in the population means)\n",
    "\n",
    "### Alternative Hypothesis (\\( H_1 \\)):\n",
    "The alternative hypothesis (\\( H_1 \\)) represents the claim or assertion that is being tested. It suggests that there is a significant difference, effect, or relationship in the population parameters being studied. It is typically stated as an inequality, greater than, less than, or presence of effect.\n",
    "\n",
    "**Example:** \n",
    "1. **Population Mean**: \n",
    "   - \\( H_1: \\mu > 100 \\) (The population mean is greater than 100)\n",
    "   - \\( H_1: \\mu \\neq 100 \\) (The population mean is not equal to 100)\n",
    "2. **Population Proportion**: \n",
    "   - \\( H_1: p < 0.5 \\) (The population proportion is less than 0.5)\n",
    "   - \\( H_1: p \\neq 0.5 \\) (The population proportion is not equal to 0.5)\n",
    "3. **Population Difference**: \n",
    "   - \\( H_1: \\mu_1 - \\mu_2 > 0 \\) (Population 1 mean is greater than population 2 mean)\n",
    "   - \\( H_1: \\mu_1 - \\mu_2 \\neq 0 \\) (There is a difference in the population means)\n",
    "\n",
    "In summary, the null hypothesis represents the default assumption, while the alternative hypothesis represents the claim being tested. Hypothesis testing involves collecting data and assessing evidence to determine whether to reject the null hypothesis in favor of the alternative hypothesis, based on the observed sample data and chosen significance level."
   ]
  },
  {
   "cell_type": "markdown",
   "id": "e083d245-ee48-49c2-a22e-cd55e9a9b00c",
   "metadata": {},
   "source": [
    "Q7: Write down the steps involved in hypothesis testing."
   ]
  },
  {
   "cell_type": "markdown",
   "id": "c4a37ab9-a47b-424c-a6b1-d2ede5204931",
   "metadata": {},
   "source": [
    "The process of hypothesis testing involves several steps to evaluate a hypothesis or claim about a population parameter based on sample data. Here are the general steps involved in hypothesis testing:\n",
    "\n",
    "1. **Formulate Hypotheses**:\n",
    "   - **Null Hypothesis (\\( H_0 \\))**: Represents the default assumption or status quo.\n",
    "   - **Alternative Hypothesis (\\( H_1 \\))**: Represents the claim or assertion being tested.\n",
    "   - Clearly state the null and alternative hypotheses based on the research question or claim being investigated.\n",
    "\n",
    "2. **Choose a Significance Level (\\( \\alpha \\))**:\n",
    "   - Select the level of significance (\\( \\alpha \\)), which represents the maximum acceptable probability of Type I error (incorrectly rejecting a true null hypothesis).\n",
    "   - Commonly used significance levels include 0.05 (5%), 0.01 (1%), or others depending on the context and the level of confidence desired.\n",
    "\n",
    "3. **Select a Statistical Test**:\n",
    "   - Choose an appropriate statistical test based on the research question, type of data, and assumptions of the test.\n",
    "   - Common statistical tests include t-tests, z-tests, chi-square tests, ANOVA, etc.\n",
    "\n",
    "4. **Collect Data**:\n",
    "   - Collect a representative sample from the population of interest, ensuring that the sampling method is appropriate and avoids bias.\n",
    "   - The sample size should be large enough to provide sufficient power to detect effects if they exist.\n",
    "\n",
    "5. **Calculate Test Statistic**:\n",
    "   - Compute the test statistic based on the sample data and the chosen statistical test.\n",
    "   - The test statistic measures the strength of evidence against the null hypothesis and is used to determine the p-value.\n",
    "\n",
    "6. **Determine Critical Region**:\n",
    "   - Determine the critical region or rejection region based on the chosen significance level (\\( \\alpha \\)) and the null hypothesis.\n",
    "   - This critical region corresponds to the values of the test statistic that would lead to rejection of the null hypothesis.\n",
    "\n",
    "7. **Calculate P-value**:\n",
    "   - Calculate the p-value, which represents the probability of observing the test statistic or more extreme values under the null hypothesis.\n",
    "   - The p-value indicates the strength of evidence against the null hypothesis and is compared to the significance level to make a decision.\n",
    "\n",
    "8. **Make Decision**:\n",
    "   - Compare the p-value to the significance level (\\( \\alpha \\)) to make a decision regarding the null hypothesis.\n",
    "   - If the p-value is less than or equal to \\( \\alpha \\), reject the null hypothesis in favor of the alternative hypothesis.\n",
    "   - If the p-value is greater than \\( \\alpha \\), fail to reject the null hypothesis.\n",
    "\n",
    "9. **Draw Conclusion**:\n",
    "   - Based on the decision made in the previous step, draw a conclusion regarding the research question or claim being investigated.\n",
    "   - Interpret the results in the context of the problem and provide implications for further research or decision-making.\n",
    "\n",
    "10. **Report Results**:\n",
    "    - Clearly communicate the results of the hypothesis test, including the test statistic, p-value, decision, and conclusion.\n",
    "    - Provide any relevant supporting evidence, assumptions, and limitations of the analysis.\n",
    "\n",
    "By following these steps, hypothesis testing provides a systematic framework for evaluating hypotheses and making informed decisions based on empirical evidence."
   ]
  },
  {
   "cell_type": "markdown",
   "id": "9eb5e2d3-5768-45bf-9cd6-104d6f9dfa61",
   "metadata": {},
   "source": [
    "Q8. Define p-value and explain its significance in hypothesis testing."
   ]
  },
  {
   "cell_type": "markdown",
   "id": "29658aa7-b3d3-4094-a8dc-8be7b34101d7",
   "metadata": {},
   "source": [
    "The p-value, or probability value, is a measure of the strength of evidence against the null hypothesis (\\( H_0 \\)) in hypothesis testing. It quantifies the probability of observing the test statistic or more extreme values under the assumption that the null hypothesis is true. In other words, the p-value indicates how likely it is to obtain the observed sample data, or more extreme data, if the null hypothesis is actually true.\n",
    "\n",
    "### Significance of the p-value in Hypothesis Testing:\n",
    "1. **Decision Making**: The p-value serves as a crucial determinant in deciding whether to reject the null hypothesis or fail to reject it. It provides a quantitative basis for making decisions about the null hypothesis, based on the observed sample data and the chosen significance level (\\( \\alpha \\)).\n",
    "\n",
    "2. **Interpretation of Results**: A low p-value (typically less than the chosen significance level) indicates strong evidence against the null hypothesis. It suggests that the observed sample data is unlikely to have occurred by random chance alone if the null hypothesis were true. On the other hand, a high p-value suggests weak evidence against the null hypothesis, indicating that the observed sample data is plausible under the null hypothesis.\n",
    "\n",
    "3. **Inference**: The p-value guides inference about the population parameter being tested. If the null hypothesis is rejected (i.e., p-value is less than or equal to \\( \\alpha \\)), it implies that there is sufficient evidence to support the alternative hypothesis (\\( H_1 \\)). This leads to conclusions about the population parameter based on the observed sample data.\n",
    "\n",
    "4. **Comparative Analysis**: The p-value allows for comparative analysis across different studies or experiments. Researchers can compare the strength of evidence against the null hypothesis across studies by examining the p-values obtained. Lower p-values indicate stronger evidence against the null hypothesis, while higher p-values suggest weaker evidence.\n",
    "\n",
    "5. **Effect Size and Power**: The magnitude of the p-value is influenced by the effect size and sample size. A smaller effect size or larger sample size tends to result in higher p-values, indicating weaker evidence against the null hypothesis. Understanding the relationship between effect size, sample size, and p-value helps in interpreting the results of hypothesis tests accurately.\n",
    "\n",
    "In summary, the p-value plays a central role in hypothesis testing by providing a quantitative measure of the evidence against the null hypothesis. It aids in decision making, interpretation of results, inference about population parameters, comparative analysis, and understanding the effect size and power of the hypothesis test."
   ]
  },
  {
   "cell_type": "markdown",
   "id": "7875c966-bfeb-4131-905f-6a74c2f40223",
   "metadata": {},
   "source": [
    "Q9. Generate a Student's t-distribution plot using Python's matplotlib library, with the degrees of freedom\n",
    "parameter set to 10."
   ]
  },
  {
   "cell_type": "code",
   "execution_count": 5,
   "id": "6731dc0d-9ebe-48c7-b4d3-83056742a6e5",
   "metadata": {},
   "outputs": [
    {
     "data": {
      "image/png": "[encoded data removed]",
      "text/plain": [
       "<Figure size 640x480 with 1 Axes>"
      ]
     },
     "metadata": {},
     "output_type": "display_data"
    }
   ],
   "source": [
    "import numpy as np\n",
    "import matplotlib.pyplot as plt\n",
    "from scipy.stats import t\n",
    "\n",
    "# Define degrees of freedom\n",
    "df = 10\n",
    "\n",
    "# Generate x values for the plot\n",
    "x = np.linspace(-5, 5, 1000)\n",
    "\n",
    "# Calculate the probability density function (PDF) of the t-distribution\n",
    "pdf = t.pdf(x, df)\n",
    "\n",
    "# Plot the PDF\n",
    "plt.plot(x, pdf, label=f\"t-distribution (df={df})\")\n",
    "plt.title(\"Student's t-Distribution\")\n",
    "plt.xlabel(\"x\")\n",
    "plt.ylabel(\"Probability Density\")\n",
    "plt.legend()\n",
    "plt.grid(True)\n",
    "plt.show()\n"
   ]
  },
  {
   "cell_type": "markdown",
   "id": "75664933-f3b7-44cb-ae8a-0adf81407f2d",
   "metadata": {},
   "source": [
    "Q10. Write a Python program to calculate the two-sample t-test for independent samples, given two\n",
    "random samples of equal size and a null hypothesis that the population means are equal."
   ]
  },
  {
   "cell_type": "code",
   "execution_count": 6,
   "id": "1e81409a-6120-4d5c-bf2d-dfa16d95d052",
   "metadata": {},
   "outputs": [
    {
     "name": "stdout",
     "output_type": "stream",
     "text": [
      "Two-Sample T-Test Results:\n",
      "Test Statistic: -2.182754697146867\n",
      "P-value: 0.03311572028974523\n"
     ]
    }
   ],
   "source": [
    "import numpy as np\n",
    "from scipy.stats import ttest_ind\n",
    "\n",
    "def two_sample_t_test(sample1, sample2):\n",
    "    # Perform independent two-sample t-test\n",
    "    t_statistic, p_value = ttest_ind(sample1, sample2)\n",
    "\n",
    "    return t_statistic, p_value\n",
    "\n",
    "# Generate random samples (replace with your samples)\n",
    "sample_size = 30\n",
    "sample1 = np.random.normal(loc=50, scale=10, size=sample_size)\n",
    "sample2 = np.random.normal(loc=55, scale=10, size=sample_size)\n",
    "\n",
    "# Perform two-sample t-test\n",
    "t_statistic, p_value = two_sample_t_test(sample1, sample2)\n",
    "\n",
    "# Print results\n",
    "print(\"Two-Sample T-Test Results:\")\n",
    "print(\"Test Statistic:\", t_statistic)\n",
    "print(\"P-value:\", p_value)\n"
   ]
  },
  {
   "cell_type": "markdown",
   "id": "24dc8496-2a48-4a81-9ec0-6cde4dc2a6ac",
   "metadata": {},
   "source": [
    "Q11: What is Student’s t distribution? When to use the t-Distribution."
   ]
  },
  {
   "cell_type": "markdown",
   "id": "16e124cb-437f-4e32-9a6f-279944a7fbec",
   "metadata": {},
   "source": [
    "Student's t-distribution, often referred to simply as the t-distribution, is a probability distribution that arises when estimating the population mean of a normally distributed population with unknown variance, especially when the sample size is small. It is a family of distributions parameterized by the degrees of freedom (df), which influences its shape.\n",
    "\n",
    "### Characteristics of the t-Distribution:\n",
    "1. **Similarity to Normal Distribution**: The t-distribution is symmetric and bell-shaped, much like the standard normal distribution (z-distribution). However, it has heavier tails, which makes it more spread out compared to the normal distribution.\n",
    "  \n",
    "2. **Parameterized by Degrees of Freedom**: The shape of the t-distribution depends on the degrees of freedom (\\(df\\)). As \\(df\\) increases, the t-distribution approaches the standard normal distribution. For small sample sizes, the t-distribution has more variability due to the uncertainty in estimating the population standard deviation.\n",
    "\n",
    "### When to Use the t-Distribution:\n",
    "The t-distribution is commonly used in the following scenarios:\n",
    "1. **Small Sample Sizes**: When the sample size is small (typically less than 30) and the population standard deviation is unknown, the t-distribution is used to estimate the population mean. This is because the sample standard deviation is used to estimate the population standard deviation, leading to increased variability in the estimates.\n",
    "\n",
    "2. **Estimating Confidence Intervals**: When constructing confidence intervals for the population mean based on a sample, the t-distribution is used to account for the uncertainty in the estimation process. Confidence intervals provide a range of plausible values for the population parameter, taking into account the variability of the sample estimate.\n",
    "\n",
    "3. **Hypothesis Testing**: In hypothesis testing scenarios where the population standard deviation is unknown and the sample size is small, the t-distribution is used to calculate test statistics and p-values. This includes scenarios such as one-sample t-tests, independent samples t-tests, and paired samples t-tests.\n",
    "\n",
    "4. **Quality Control and Process Improvement**: The t-distribution is used in quality control and process improvement to analyze data from small sample sizes, such as measurements from production processes or experiments. It helps in assessing the variability in the process and making informed decisions about process improvements.\n",
    "\n",
    "In summary, the t-distribution is a fundamental probability distribution used in statistics when dealing with small sample sizes and uncertainty in estimating population parameters, particularly the population mean. It provides a more appropriate model for inference when the population standard deviation is unknown and the sample size is small."
   ]
  },
  {
   "cell_type": "markdown",
   "id": "06a98e3c-4f1e-4d75-815f-7de585546032",
   "metadata": {},
   "source": [
    "Q12: What is t-statistic? State the formula for t-statistic."
   ]
  },
  {
   "cell_type": "markdown",
   "id": "a5464132-6c26-4e8c-97cd-f8b78100f1eb",
   "metadata": {},
   "source": [
    "The t-statistic is a measure of the difference between the sample mean and the hypothesized population mean, relative to the variability in the sample data. It is used in hypothesis testing to determine whether there is evidence to reject the null hypothesis in favor of the alternative hypothesis.\n",
    "\n",
    "### Formula for t-Statistic:\n",
    "The formula for the t-statistic depends on the type of hypothesis test being performed. Here are the formulas for commonly used types of t-tests:\n",
    "\n",
    "1. **One-Sample t-Test**:\n",
    "   - When comparing the sample mean (\\( \\bar{x} \\)) to a hypothesized population mean (\\( \\mu_0 \\)) with a known or estimated population standard deviation (\\( \\sigma \\) or \\( s \\)):\n",
    "     \\[ t = \\frac{\\bar{x} - \\mu_0}{s / \\sqrt{n}} \\]\n",
    "\n",
    "2. **Independent Samples t-Test**:\n",
    "   - When comparing the means of two independent samples (\\( \\bar{x}_1 \\) and \\( \\bar{x}_2 \\)) with unknown population standard deviations but assumed equal:\n",
    "     \\[ t = \\frac{\\bar{x}_1 - \\bar{x}_2}{s_p \\sqrt{\\frac{1}{n_1} + \\frac{1}{n_2}}} \\]\n",
    "   where \\( s_p \\) is the pooled standard deviation and is calculated as:\n",
    "     \\[ s_p = \\sqrt{\\frac{(n_1 - 1)s_1^2 + (n_2 - 1)s_2^2}{n_1 + n_2 - 2}} \\]\n",
    "\n",
    "3. **Paired Samples t-Test**:\n",
    "   - When comparing the means of two related samples (paired observations):\n",
    "     \\[ t = \\frac{\\bar{d}}{s_d / \\sqrt{n}} \\]\n",
    "   where \\( \\bar{d} \\) is the mean of the differences between paired observations, \\( s_d \\) is the standard deviation of the differences, and \\( n \\) is the number of paired observations.\n",
    "\n",
    "In each formula, \\( \\bar{x} \\) represents the sample mean, \\( \\mu_0 \\) represents the hypothesized population mean, \\( s \\) represents the sample standard deviation, \\( n \\) represents the sample size, \\( s_1 \\) and \\( s_2 \\) represent the standard deviations of the two samples, and \\( n_1 \\) and \\( n_2 \\) represent the sample sizes of the two samples.\n",
    "\n",
    "The t-statistic measures the number of standard errors the sample mean is away from the hypothesized population mean, taking into account the variability in the sample data. It is used to assess the significance of the observed difference and determine whether it is statistically significant."
   ]
  },
  {
   "cell_type": "markdown",
   "id": "e012db20-9b89-4ff2-a935-79e9a8bd2195",
   "metadata": {},
   "source": [
    "Q13. A coffee shop owner wants to estimate the average daily revenue for their shop. They take a random\n",
    "sample of 50 days and find the sample mean revenue to be $500 with a standard deviation of $50.\n",
    "Estimate the population mean revenue with a 95% confidence interval."
   ]
  },
  {
   "cell_type": "code",
   "execution_count": 8,
   "id": "1dc04d77-b9d9-4be4-95eb-a06a3b43a174",
   "metadata": {},
   "outputs": [
    {
     "name": "stdout",
     "output_type": "stream",
     "text": [
      "Confidence Interval for Population Mean Revenue (95%):\n",
      "Lower Bound: 485.79015724388137\n",
      "Upper Bound: 514.2098427561186\n"
     ]
    }
   ],
   "source": [
    "import numpy as np\n",
    "from scipy.stats import t\n",
    "\n",
    "# Given data\n",
    "sample_mean = 500  # Sample mean (average daily revenue)\n",
    "sample_std_dev = 50  # Sample standard deviation\n",
    "sample_size = 50  # Sample size\n",
    "confidence_level = 0.95  # Confidence level\n",
    "\n",
    "# Calculate critical value (t) from t-distribution\n",
    "degrees_of_freedom = sample_size - 1\n",
    "t_critical = t.ppf((1 + confidence_level) / 2, df=degrees_of_freedom)\n",
    "\n",
    "# Calculate margin of error\n",
    "margin_of_error = t_critical * (sample_std_dev / np.sqrt(sample_size))\n",
    "\n",
    "# Calculate lower and upper bounds of the confidence interval\n",
    "lower_bound = sample_mean - margin_of_error\n",
    "upper_bound = sample_mean + margin_of_error\n",
    "\n",
    "# Print results\n",
    "print(\"Confidence Interval for Population Mean Revenue (95%):\")\n",
    "print(\"Lower Bound:\", lower_bound)\n",
    "print(\"Upper Bound:\", upper_bound)\n"
   ]
  },
  {
   "cell_type": "markdown",
   "id": "4a8219ff-d410-499b-899d-f8978b927f2e",
   "metadata": {},
   "source": [
    "Q14. A researcher hypothesizes that a new drug will decrease blood pressure by 10 mmHg. They conduct a\n",
    "clinical trial with 100 patients and find that the sample mean decrease in blood pressure is 8 mmHg with a\n",
    "standard deviation of 3 mmHg. Test the hypothesis with a significance level of 0.05."
   ]
  },
  {
   "cell_type": "code",
   "execution_count": 9,
   "id": "c1297c7c-7a09-4f59-8601-e4a67793e157",
   "metadata": {},
   "outputs": [
    {
     "name": "stdout",
     "output_type": "stream",
     "text": [
      "Reject the null hypothesis.\n"
     ]
    }
   ],
   "source": [
    "import numpy as np\n",
    "from scipy.stats import t\n",
    "\n",
    "# Given data\n",
    "sample_mean = 8  # Sample mean decrease in blood pressure\n",
    "population_mean = 10  # Hypothesized population mean decrease in blood pressure\n",
    "sample_std_dev = 3  # Sample standard deviation\n",
    "sample_size = 100  # Sample size\n",
    "significance_level = 0.05  # Significance level\n",
    "\n",
    "# Calculate the t-statistic\n",
    "t_statistic = (sample_mean - population_mean) / (sample_std_dev / np.sqrt(sample_size))\n",
    "\n",
    "# Degrees of freedom\n",
    "degrees_of_freedom = sample_size - 1\n",
    "\n",
    "# Calculate the critical value from the t-distribution\n",
    "t_critical = t.ppf(1 - significance_level / 2, df=degrees_of_freedom)\n",
    "\n",
    "# Compare t-statistic with critical value\n",
    "if np.abs(t_statistic) > t_critical:\n",
    "    print(\"Reject the null hypothesis.\")\n",
    "else:\n",
    "    print(\"Fail to reject the null hypothesis.\")\n"
   ]
  },
  {
   "cell_type": "markdown",
   "id": "16f3deff-a8f6-48bd-97fa-fc6d063d978d",
   "metadata": {},
   "source": [
    "Q15. An electronics company produces a certain type of product with a mean weight of 5 pounds and a\n",
    "standard deviation of 0.5 pounds. A random sample of 25 products is taken, and the sample mean weight\n",
    "is found to be 4.8 pounds. Test the hypothesis that the true mean weight of the products is less than 5\n",
    "pounds with a significance level of 0.01."
   ]
  },
  {
   "cell_type": "code",
   "execution_count": 10,
   "id": "a1e93580-1e55-47c3-a6d7-325c78b71c76",
   "metadata": {},
   "outputs": [
    {
     "name": "stdout",
     "output_type": "stream",
     "text": [
      "Fail to reject the null hypothesis.\n"
     ]
    }
   ],
   "source": [
    "import numpy as np\n",
    "from scipy.stats import t\n",
    "\n",
    "# Given data\n",
    "population_mean = 5  # Population mean weight (in pounds)\n",
    "population_std_dev = 0.5  # Population standard deviation (in pounds)\n",
    "sample_mean = 4.8  # Sample mean weight (in pounds)\n",
    "sample_size = 25  # Sample size\n",
    "significance_level = 0.01  # Significance level\n",
    "\n",
    "# Calculate the standard error of the mean (SEM)\n",
    "SEM = population_std_dev / np.sqrt(sample_size)\n",
    "\n",
    "# Calculate the t-statistic\n",
    "t_statistic = (sample_mean - population_mean) / SEM\n",
    "\n",
    "# Degrees of freedom\n",
    "degrees_of_freedom = sample_size - 1\n",
    "\n",
    "# Calculate the critical value from the t-distribution\n",
    "t_critical = t.ppf(significance_level, df=degrees_of_freedom)\n",
    "\n",
    "# Compare t-statistic with critical value\n",
    "if t_statistic < t_critical:\n",
    "    print(\"Reject the null hypothesis.\")\n",
    "else:\n",
    "    print(\"Fail to reject the null hypothesis.\")\n"
   ]
  },
  {
   "cell_type": "markdown",
   "id": "53ac1adf-35e3-44f3-883e-a5acc9a539da",
   "metadata": {},
   "source": [
    "Q16. Two groups of students are given different study materials to prepare for a test. The first group (n1 =\n",
    "30) has a mean score of 80 with a standard deviation of 10, and the second group (n2 = 40) has a mean\n",
    "score of 75 with a standard deviation of 8. Test the hypothesis that the population means for the two\n",
    "groups are equal with a significance level of 0.01."
   ]
  },
  {
   "cell_type": "code",
   "execution_count": 11,
   "id": "54e91336-2b18-43f4-8f50-9b292ebe631d",
   "metadata": {},
   "outputs": [
    {
     "name": "stdout",
     "output_type": "stream",
     "text": [
      "Fail to reject the null hypothesis.\n"
     ]
    }
   ],
   "source": [
    "import numpy as np\n",
    "from scipy.stats import t\n",
    "\n",
    "# Given data\n",
    "n1 = 30  # Sample size for the first group\n",
    "n2 = 40  # Sample size for the second group\n",
    "x1_bar = 80  # Mean score for the first group\n",
    "x2_bar = 75  # Mean score for the second group\n",
    "s1 = 10  # Standard deviation for the first group\n",
    "s2 = 8  # Standard deviation for the second group\n",
    "alpha = 0.01  # Significance level\n",
    "\n",
    "# Calculate the pooled standard deviation\n",
    "s_pooled = np.sqrt(((n1 - 1) * s1**2 + (n2 - 1) * s2**2) / (n1 + n2 - 2))\n",
    "\n",
    "# Calculate the standard error of the difference between means\n",
    "SE_diff = np.sqrt(s_pooled**2 / n1 + s_pooled**2 / n2)\n",
    "\n",
    "# Calculate the t-statistic\n",
    "t_statistic = (x1_bar - x2_bar) / SE_diff\n",
    "\n",
    "# Degrees of freedom\n",
    "degrees_of_freedom = n1 + n2 - 2\n",
    "\n",
    "# Calculate the critical value from the t-distribution\n",
    "t_critical = t.ppf(1 - alpha / 2, df=degrees_of_freedom)\n",
    "\n",
    "# Compare t-statistic with critical value\n",
    "if np.abs(t_statistic) > t_critical:\n",
    "    print(\"Reject the null hypothesis.\")\n",
    "else:\n",
    "    print(\"Fail to reject the null hypothesis.\")\n"
   ]
  },
  {
   "cell_type": "markdown",
   "id": "d8ffa2e1-290b-4858-b6f1-f379b9ecb7b2",
   "metadata": {},
   "source": [
    "Q17. A marketing company wants to estimate the average number of ads watched by viewers during a TV\n",
    "program. They take a random sample of 50 viewers and find that the sample mean is 4 with a standard\n",
    "deviation of 1.5. Estimate the population mean with a 99% confidence interval."
   ]
  },
  {
   "cell_type": "code",
   "execution_count": 12,
   "id": "f55ea285-ae03-4f53-a444-02242578cfa9",
   "metadata": {},
   "outputs": [
    {
     "name": "stdout",
     "output_type": "stream",
     "text": [
      "Confidence Interval for Population Mean Number of Ads Watched (99%):\n",
      "Lower Bound: 3.4314963358572577\n",
      "Upper Bound: 4.568503664142742\n"
     ]
    }
   ],
   "source": [
    "import numpy as np\n",
    "from scipy.stats import t\n",
    "\n",
    "# Given data\n",
    "sample_mean = 4  # Sample mean\n",
    "sample_std_dev = 1.5  # Sample standard deviation\n",
    "sample_size = 50  # Sample size\n",
    "confidence_level = 0.99  # Confidence level\n",
    "\n",
    "# Calculate degrees of freedom\n",
    "degrees_of_freedom = sample_size - 1\n",
    "\n",
    "# Calculate the critical value (t) from the t-distribution\n",
    "t_critical = t.ppf((1 + confidence_level) / 2, df=degrees_of_freedom)\n",
    "\n",
    "# Calculate margin of error\n",
    "margin_of_error = t_critical * (sample_std_dev / np.sqrt(sample_size))\n",
    "\n",
    "# Calculate lower and upper bounds of the confidence interval\n",
    "lower_bound = sample_mean - margin_of_error\n",
    "upper_bound = sample_mean + margin_of_error\n",
    "\n",
    "# Print results\n",
    "print(\"Confidence Interval for Population Mean Number of Ads Watched (99%):\")\n",
    "print(\"Lower Bound:\", lower_bound)\n",
    "print(\"Upper Bound:\", upper_bound)\n"
   ]
  }
 ],
 "metadata": {
  "kernelspec": {
   "display_name": "Python 3 (ipykernel)",
   "language": "python",
   "name": "python3"
  },
  "language_info": {
   "codemirror_mode": {
    "name": "ipython",
    "version": 3
   },
   "file_extension": ".py",
   "mimetype": "text/x-python",
   "name": "python",
   "nbconvert_exporter": "python",
   "pygments_lexer": "ipython3",
   "version": "3.10.8"
  }
 },
 "nbformat": 4,
 "nbformat_minor": 5
}
