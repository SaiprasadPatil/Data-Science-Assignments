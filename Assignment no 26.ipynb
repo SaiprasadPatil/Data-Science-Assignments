{
 "cells": [
  {
   "cell_type": "markdown",
   "id": "31bce7c1-417a-467e-9bc4-09ec1f774134",
   "metadata": {},
   "source": [
    "Q1. How can you create a Bokeh plot using Python code?"
   ]
  },
  {
   "cell_type": "code",
   "execution_count": 5,
   "id": "91b977da-e267-469e-b072-e0f0b3590676",
   "metadata": {},
   "outputs": [],
   "source": [
    "from bokeh.plotting import figure, show\n",
    "\n",
    "x = [1, 2, 3, 4, 5]\n",
    "y = [6, 7, 2, 4, 5]\n",
    "\n",
    "p = figure(title=\"Simple Bokeh Plot\", x_axis_label='X-axis', y_axis_label='Y-axis')\n",
    "p.circle(x, y, size=10, color=\"navy\", alpha=0.5)\n",
    "\n",
    "show(p)\n"
   ]
  },
  {
   "cell_type": "markdown",
   "id": "c532d539-9f5e-42b2-a4d8-2ca25b1b3ebe",
   "metadata": {},
   "source": [
    "Q2. What are glyphs in Bokeh, and how can you add them to a Bokeh plot? Explain with an example"
   ]
  },
  {
   "cell_type": "markdown",
   "id": "d28d151f-c2e9-49b8-a26e-fec31ef9dbec",
   "metadata": {},
   "source": [
    "In Bokeh, glyphs are the visual shapes or markers that represent data points on a plot. They are used to create various types of visualizations, such as scatter plots, line plots, bars, and more. Glyphs allow you to represent your data in a visual and interactive manner.\n",
    "\n",
    "To add glyphs to a Bokeh plot, you typically use glyph methods provided by the figure object. These methods take data and various attributes to control the appearance of the glyphs."
   ]
  },
  {
   "cell_type": "code",
   "execution_count": 10,
   "id": "e41807c5-b663-43f2-8501-540fb80954aa",
   "metadata": {},
   "outputs": [],
   "source": [
    "from bokeh.models import ColumnDataSource\n",
    "from bokeh.plotting import figure, show\n",
    "x = [1, 2, 3, 4, 5]\n",
    "y = [6, 7, 2, 4, 5]\n",
    "\n",
    "source = ColumnDataSource(data={'x': x, 'y': y})\n",
    "\n",
    "p = figure(title=\"Glyph Example\", x_axis_label='X-axis', y_axis_label='Y-axis')\n",
    "p.circle('x', 'y', size=10, color=\"navy\", alpha=0.5, source=source)\n",
    "p.line('x', 'y', line_width=2, line_color=\"green\", source=source)\n",
    "show(p)"
   ]
  },
  {
   "cell_type": "markdown",
   "id": "45617ec7-f6b3-4f6a-87b8-8f0a50acab20",
   "metadata": {},
   "source": [
    "Explaination-\n",
    "We import the necessary modules from Bokeh, including figure for creating plots and ColumnDataSource for managing data.\n",
    "We define sample data x and y.\n",
    "We create a ColumnDataSource named source to hold the data. This is an essential step as it allows Bokeh to efficiently handle the data and update the plot if necessary.\n",
    "We create a figure named p with a title and axis labels.\n",
    "We use the circle glyph method to add circle markers at the specified x and y coordinates. We provide the data source source and specify attributes like size, color, and alpha to customize the appearance.\n",
    "We use the line glyph method to add a line connecting the data points. Again, we provide the data source source and set attributes like line_width and line_color.\n",
    "The show(p) function displays the plot in a web browser."
   ]
  },
  {
   "cell_type": "markdown",
   "id": "d8410341-723a-465b-9266-913441180415",
   "metadata": {},
   "source": [
    "Q3. How can you customize the appearance of a Bokeh plot, including the axes, title, and legend?"
   ]
  },
  {
   "cell_type": "markdown",
   "id": "19bebc27-fb5c-4928-8ec1-c6bafcc8ee4c",
   "metadata": {},
   "source": [
    "Customizing the appearance of a Bokeh plot involves modifying various attributes of the figure object and its components, such as axes, title, and legend. Here's a breakdown of how you can customize these aspects:\n",
    "\n",
    "Customizing Axes:\n",
    "You can customize the appearance of the axes by accessing the properties of the axis objects (xaxis and yaxis) of the figure object. Here are some common customizations:"
   ]
  },
  {
   "cell_type": "markdown",
   "id": "75330212-c7e2-46d8-8ff0-aa8c06fbb8c0",
   "metadata": {},
   "source": [
    "Customizing Title and Legends:\n",
    "You can customize the plot's title and add legends to distinguish different data series. "
   ]
  },
  {
   "cell_type": "markdown",
   "id": "1efc5b90-8cf4-4a50-9a10-31c591b80b66",
   "metadata": {},
   "source": [
    "Customizing Plot Background and Grid Lines:\n",
    "You can customize the background color and appearance of grid lines in the plot:"
   ]
  },
  {
   "cell_type": "code",
   "execution_count": 8,
   "id": "65a3cce7-c62c-47b3-b855-2f29d6623206",
   "metadata": {},
   "outputs": [],
   "source": [
    "from bokeh.plotting import figure, show\n",
    "\n",
    "# Sample data\n",
    "x = [1, 2, 3, 4, 5]\n",
    "y1 = [6, 7, 2, 4, 5]\n",
    "y2 = [5, 4, 3, 2, 1]\n",
    "\n",
    "p = figure(\n",
    "    title=\"Customized Bokeh Plot\",\n",
    "    x_axis_label='X-axis Label',\n",
    "    y_axis_label='Y-axis Label',\n",
    "    background_fill_color=\"lightgrey\"\n",
    ")\n",
    "\n",
    "p.xaxis.axis_label_text_color = \"blue\"\n",
    "p.yaxis.axis_label_text_color = \"green\"\n",
    "p.xaxis.major_label_text_color = \"red\"\n",
    "p.yaxis.major_tick_line_color = \"blue\"\n",
    "p.xaxis.minor_tick_line_color = None\n",
    "\n",
    "p.line(x, y1, line_color=\"blue\", legend_label=\"Series A\")\n",
    "p.circle(x, y2, size=10, color=\"red\", legend_label=\"Series B\")\n",
    "\n",
    "p.legend.title = \"Legend Title\"\n",
    "p.legend.label_text_font_size = \"12pt\"\n",
    "p.legend.location = \"top_left\"\n",
    "\n",
    "\n",
    "p.xgrid.grid_line_color = \"white\"\n",
    "p.ygrid.grid_line_color = \"white\"\n",
    "p.grid.grid_line_dash = \"dashed\"\n",
    "\n",
    "show(p)\n"
   ]
  },
  {
   "cell_type": "markdown",
   "id": "7421dcf4-a631-46e2-96b6-ff7efd58e96b",
   "metadata": {},
   "source": [
    "Q4. What is a Bokeh server, and how can you use it to create interactive plots that can be updated in\n",
    "real time?"
   ]
  },
  {
   "cell_type": "markdown",
   "id": "567b152a-c274-46b8-ba19-e23034128a92",
   "metadata": {},
   "source": [
    "A Bokeh server is a Python framework provided by the Bokeh library that allows you to create interactive web applications and dashboards with live, real-time updates. With Bokeh server, you can build complex and dynamic visualizations that respond to user interactions or changing data without the need to regenerate and reload the entire plot."
   ]
  },
  {
   "cell_type": "markdown",
   "id": "516db4c8-343d-4a6b-9cae-6446afcdd5a2",
   "metadata": {},
   "source": [
    "When you run the Bokeh server, a web page will open in your browser with the interactive plot and widget(s). You can use the slider or other widgets you've added to dynamically update the plot in real time."
   ]
  },
  {
   "cell_type": "markdown",
   "id": "3d3cd0d1-1959-491c-8975-c2e76366ec4d",
   "metadata": {},
   "source": [
    "Import Required Modules: Import the necessary modules for Bokeh server:\n",
    "\n",
    "from bokeh.plotting import figure, curdoc\n",
    "from bokeh.models import ColumnDataSource\n",
    "from bokeh.layouts import column\n",
    "from bokeh.models.widgets import Slider"
   ]
  },
  {
   "cell_type": "markdown",
   "id": "c72314ba-db48-4d2d-bd0a-415363669312",
   "metadata": {},
   "source": [
    "Create a Figure and Data: Create a figure and initialize a ColumnDataSource with your initial data.\n",
    "p = figure(plot_height=300, plot_width=600, title=\"Interactive Bokeh Plot\")\n",
    "source = ColumnDataSource(data={'x': [1, 2, 3, 4, 5], 'y': [6, 7, 2, 4, 5]})"
   ]
  },
  {
   "cell_type": "markdown",
   "id": "a5b0bc2c-e42e-41e8-b42b-97e955482166",
   "metadata": {},
   "source": [
    "from bokeh.plotting import figure, curdoc\n",
    "from bokeh.models import ColumnDataSource\n",
    "from bokeh.layouts import column\n",
    "from bokeh.models.widgets import Slider\n",
    "\n",
    "# Create a figure\n",
    "p = figure(plot_height=300, plot_width=600, title=\"Interactive Bokeh Plot\")\n",
    "\n",
    "# Initialize ColumnDataSource with initial data\n",
    "source = ColumnDataSource(data={'x': [1, 2, 3, 4, 5], 'y': [6, 7, 2, 4, 5]})\n",
    "\n",
    "# Define callback function\n",
    "def update_data(attrname, old, new):\n",
    "    # Get slider value\n",
    "    value = slider.value\n",
    "\n",
    "    # Update data based on the slider value\n",
    "    new_data = {'x': [1, 2, 3, 4, 5], 'y': [value * i for i in range(1, 6)]}\n",
    "    source.data = new_data\n",
    "\n",
    "# Create slider widget\n",
    "slider = Slider(title=\"Multiplier\", value=1, start=1, end=10, step=1)\n",
    "slider.on_change('value', update_data)\n",
    "\n",
    "# Add data to the figure\n",
    "p.circle('x', 'y', size=10, color=\"navy\", alpha=0.5, source=source)\n",
    "\n",
    "# Create layout\n",
    "layout = column(slider, p)\n",
    "\n",
    "# Add layout to the document\n",
    "curdoc().add_root(layout)\n"
   ]
  },
  {
   "cell_type": "markdown",
   "id": "818ce73c-304e-4de0-b837-0ce8a375148a",
   "metadata": {},
   "source": [
    "Run Bokeh Server: To run the Bokeh server and see the interactive plot in action, use the following command in your terminal:\n",
    "bokeh serve --show your_script_name.py"
   ]
  },
  {
   "cell_type": "markdown",
   "id": "ef1feab7-2d65-4d8b-a73b-67cbf1569734",
   "metadata": {},
   "source": [
    "Q5. How can you embed a Bokeh plot into a web page or dashboard using Flask or Django?"
   ]
  },
  {
   "cell_type": "markdown",
   "id": "64a9152f-056e-44fa-9780-5d616811af3b",
   "metadata": {},
   "source": [
    "Flask:\n",
    "\n",
    "Install Flask and Bokeh.\n",
    "-pip install Flask bokeh\n",
    "Create a Flask app and import necessary modules.\n",
    "Create a Bokeh plot and generate its components using components.\n",
    "Define an app route that renders an HTML template.\n",
    "-<!DOCTYPE html>\n",
    "<html>\n",
    "<head>\n",
    "    <title>Flask Bokeh Embed</title>\n",
    "    {{ script|safe }}\n",
    "</head>\n",
    "<body>\n",
    "    <h1>Bokeh Plot Embedded with Flask</h1>\n",
    "    {{ div|safe }}\n",
    "</body>\n",
    "</html>\n",
    "Create an HTML template with placeholders for the Bokeh plot components.\n",
    "Run the Flask app to see the embedded Bokeh plot.\n",
    "\n",
    "Django:\n",
    "\n",
    "Install Django and Bokeh.\n",
    "-pip install Django bokeh\n",
    "Create a Django project and app.\n",
    "Configure URLs to map to your views.\n",
    "\n",
    "from django.contrib import admin\n",
    "from django.urls import path\n",
    "from bokeh_app.views import plot_view\n",
    "\n",
    "urlpatterns = [\n",
    "    path('admin/', admin.site.urls),\n",
    "    path('plot/', plot_view, name='plot'),\n",
    "]\n",
    "\n",
    "\n",
    "Create a view function that generates a Bokeh plot and its components.\n",
    "\n",
    "-from django.shortcuts import render\n",
    "from bokeh.plotting import figure, show\n",
    "from bokeh.embed import components\n",
    "from django.http import HttpResponse\n",
    "import numpy as np\n",
    "\n",
    "def plot_view(request):\n",
    "    x = np.linspace(0, 10, 100)\n",
    "    y = np.sin(x)\n",
    "    plot = figure(plot_width=400, plot_height=400)\n",
    "    plot.line(x, y)\n",
    "\n",
    "    script, div = components(plot)\n",
    "    return render(request, 'plot.html', {'script': script, 'div': div})\n",
    "\n",
    "\n",
    "Create an HTML template for the view with placeholders for the Bokeh components.\n",
    "\n",
    "-<!DOCTYPE html>\n",
    "<html>\n",
    "<head>\n",
    "    <title>Django Bokeh Embed</title>\n",
    "    {{ script|safe }}\n",
    "</head>\n",
    "<body>\n",
    "    <h1>Bokeh Plot Embedded with Django</h1>\n",
    "    {{ div|safe }}\n",
    "</body>\n",
    "</html>\n",
    "\n",
    "\n",
    "Run the Django development server to see the embedded Bokeh plot.\n",
    "In both frameworks, the key is to use the components function to generate the JavaScript and HTML components needed to render the Bokeh plot within your templates. The main difference lies in how you structure your views, templates, and URLs within each framework. Once embedded, you can serve interactive Bokeh plots alongside other web content in your applications."
   ]
  },
  {
   "cell_type": "code",
   "execution_count": null,
   "id": "9d0b2da8-2c60-4eb6-87fe-5568fe57c580",
   "metadata": {},
   "outputs": [],
   "source": []
  }
 ],
 "metadata": {
  "kernelspec": {
   "display_name": "Python 3 (ipykernel)",
   "language": "python",
   "name": "python3"
  },
  "language_info": {
   "codemirror_mode": {
    "name": "ipython",
    "version": 3
   },
   "file_extension": ".py",
   "mimetype": "text/x-python",
   "name": "python",
   "nbconvert_exporter": "python",
   "pygments_lexer": "ipython3",
   "version": "3.10.8"
  }
 },
 "nbformat": 4,
 "nbformat_minor": 5
}
