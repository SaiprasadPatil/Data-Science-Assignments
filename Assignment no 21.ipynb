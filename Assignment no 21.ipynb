{
 "cells": [
  {
   "cell_type": "markdown",
   "id": "8a75d25d-9975-45bb-864d-cfb356298891",
   "metadata": {},
   "source": [
    "In Below All codes are run in local system because i use selenium so you can use like pycharm editor to run this codes "
   ]
  },
  {
   "cell_type": "markdown",
   "id": "8b2d9a2f-6950-4239-b3f5-8e20bfbc6369",
   "metadata": {},
   "source": [
    "Go to this given URL and solve the following questions\n",
    "URL: https://www.youtube.com/@PW-Foundation/videos"
   ]
  },
  {
   "cell_type": "markdown",
   "id": "86da78f9-94d8-417f-8ceb-9cc2923c1417",
   "metadata": {},
   "source": [
    "Q1. Write a python program to extract the video URL of the first five videos."
   ]
  },
  {
   "cell_type": "code",
   "execution_count": null,
   "id": "704d48a5-7f71-4753-b903-6155715b208e",
   "metadata": {},
   "outputs": [],
   "source": [
    "from selenium import webdriver\n",
    "from bs4 import BeautifulSoup\n",
    "\n",
    "url = \"https://www.youtube.com/@PW-Foundation/videos\"\n",
    "\n",
    "driver = webdriver.Chrome()\n",
    "\n",
    "driver.get(url)\n",
    "\n",
    "page_source = driver.page_source\n",
    "\n",
    "soup = BeautifulSoup(page_source, 'html.parser')\n",
    "\n",
    "url_data = soup.find_all(\"a\", {\"class\": \"yt-simple-endpoint focus-on-expand style-scope ytd-rich-grid-media\", \"id\": \"video-title-link\"})\n",
    "\n",
    "if url_data:\n",
    "    base_url = \"https://www.youtube.com/\"\n",
    "    for element in url_data[:5]:\n",
    "        relative_url = element.get(\"href\")\n",
    "        full_url = base_url + relative_url\n",
    "        print(full_url)\n",
    "else:\n",
    "    print(\"No matching elements found in the HTML.\")\n",
    "\n",
    "driver.quit()\n"
   ]
  },
  {
   "cell_type": "markdown",
   "id": "39fbeaab-d62d-4f47-84bc-82a36216f4fd",
   "metadata": {},
   "source": [
    "Q2. Write a python program to extract the URL of the video thumbnails of the first five videos."
   ]
  },
  {
   "cell_type": "markdown",
   "id": "85353a6d-0862-48db-9365-e1b23f6b2394",
   "metadata": {},
   "source": [
    "scroll down to extract all thumbnail data"
   ]
  },
  {
   "cell_type": "code",
   "execution_count": null,
   "id": "d5a4fcc7-d0c0-4b14-8b01-90dcbe01cda0",
   "metadata": {},
   "outputs": [],
   "source": [
    "from selenium import webdriver\n",
    "from bs4 import BeautifulSoup\n",
    "\n",
    "url = \"https://www.youtube.com/@PW-Foundation/videos\"\n",
    "\n",
    "driver = webdriver.Chrome()\n",
    "\n",
    "driver.get(url)\n",
    "\n",
    "page_source = driver.page_source\n",
    "\n",
    "soup = BeautifulSoup(page_source, 'html.parser')\n",
    "\n",
    "thumbnail_data = soup.find_all(\"img\", {\"class\": \"yt-core-image--fill-parent-height yt-core-image--fill-parent-width yt-core-image yt-core-image--content-mode-scale-aspect-fill yt-core-image--loaded\"})\n",
    "\n",
    "\n",
    "if thumbnail_data:\n",
    "    for element in thumbnail_data[:5]:\n",
    "        relative_url = element.get(\"src\")\n",
    "        print(relative_url)\n",
    "else:\n",
    "    print(\"No matching elements found in the HTML.\")\n",
    "\n",
    "driver.quit()\n"
   ]
  },
  {
   "cell_type": "markdown",
   "id": "88192242-99fd-45e9-bb83-f702f6c6603e",
   "metadata": {},
   "source": [
    "Q3. Write a python program to extract the title of the first five videos."
   ]
  },
  {
   "cell_type": "code",
   "execution_count": null,
   "id": "f46c6dd5-fd6f-45c5-be05-ff3a1dcd0a66",
   "metadata": {},
   "outputs": [],
   "source": [
    "url = \"https://www.youtube.com/@PW-Foundation/videos\"\n",
    "from selenium import webdriver\n",
    "from bs4 import BeautifulSoup\n",
    "\n",
    "url = \"https://www.youtube.com/@PW-Foundation/videos\"\n",
    "\n",
    "driver = webdriver.Chrome()\n",
    "\n",
    "driver.get(url)\n",
    "\n",
    "page_source = driver.page_source\n",
    "\n",
    "soup = BeautifulSoup(page_source, 'html.parser')\n",
    "\n",
    "title_data = soup.find_all(\"yt-formatted-string\", {\"class\": \"style-scope ytd-rich-grid-media\",\"id\":\"video-title\"})\n",
    "\n",
    "if title_data:\n",
    "    for element in title_data[:5]:\n",
    "        title = element.get(\"aria-label\")\n",
    "        print(title)\n",
    "else:\n",
    "    print(\"No matching elements found in the HTML.\")\n",
    "\n",
    "driver.quit()\n"
   ]
  },
  {
   "cell_type": "markdown",
   "id": "b18f128e-bab0-4dfd-b588-76c7abaf5705",
   "metadata": {},
   "source": [
    "Q4. Write a python program to extract the number of views of the first five videos."
   ]
  },
  {
   "cell_type": "code",
   "execution_count": null,
   "id": "bf2fc752-7774-4d31-bf2c-b7d42f2a4c5c",
   "metadata": {},
   "outputs": [],
   "source": [
    "url = \"https://www.youtube.com/@PW-Foundation/videos\"\n",
    "from selenium import webdriver\n",
    "from bs4 import BeautifulSoup\n",
    "\n",
    "\n",
    "url = \"https://www.youtube.com/@PW-Foundation/videos\"\n",
    "\n",
    "driver = webdriver.Chrome()\n",
    "\n",
    "driver.get(url)\n",
    "\n",
    "page_source = driver.page_source\n",
    "\n",
    "soup = BeautifulSoup(page_source, 'html.parser')\n",
    "\n",
    "video_views_time_data = soup.find_all(\"span\", {\"class\": \"inline-metadata-item style-scope ytd-video-meta-block\"})\n",
    "\n",
    "if video_views_time_data:\n",
    "    for element in video_views_time_data[:10]:\n",
    "        data = element.get_text()\n",
    "        print(data)\n",
    "else:\n",
    "    print(\"No matching elements found in the HTML.\")\n",
    "\n",
    "driver.quit()\n"
   ]
  },
  {
   "cell_type": "markdown",
   "id": "f6d5af91-cbdb-4ec5-98b2-d0e00b730780",
   "metadata": {},
   "source": [
    "Q5. Write a python program to extract the time of posting of video for the first five videos."
   ]
  },
  {
   "cell_type": "code",
   "execution_count": null,
   "id": "c11f86f0-89a7-4fb9-b6a6-d5067cd56e28",
   "metadata": {},
   "outputs": [],
   "source": [
    "url = \"https://www.youtube.com/@PW-Foundation/videos\"\n",
    "from selenium import webdriver\n",
    "from bs4 import BeautifulSoup\n",
    "\n",
    "\n",
    "url = \"https://www.youtube.com/@PW-Foundation/videos\"\n",
    "\n",
    "driver = webdriver.Chrome()\n",
    "\n",
    "driver.get(url)\n",
    "\n",
    "page_source = driver.page_source\n",
    "\n",
    "soup = BeautifulSoup(page_source, 'html.parser')\n",
    "\n",
    "video_views_time_data = soup.find_all(\"span\", {\"class\": \"inline-metadata-item style-scope ytd-video-meta-block\"})\n",
    "\n",
    "if video_views_time_data:\n",
    "    for element in video_views_time_data[:10]:\n",
    "        data = element.get_text()\n",
    "        print(data)\n",
    "else:\n",
    "    print(\"No matching elements found in the HTML.\")\n",
    "\n",
    "driver.quit()\n"
   ]
  }
 ],
 "metadata": {
  "kernelspec": {
   "display_name": "Python 3 (ipykernel)",
   "language": "python",
   "name": "python3"
  },
  "language_info": {
   "codemirror_mode": {
    "name": "ipython",
    "version": 3
   },
   "file_extension": ".py",
   "mimetype": "text/x-python",
   "name": "python",
   "nbconvert_exporter": "python",
   "pygments_lexer": "ipython3",
   "version": "3.10.8"
  }
 },
 "nbformat": 4,
 "nbformat_minor": 5
}
