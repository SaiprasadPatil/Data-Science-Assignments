{
 "cells": [
  {
   "cell_type": "markdown",
   "id": "dce689bb-cc4d-4e70-8ed0-ff4f9822587b",
   "metadata": {},
   "source": [
    "Q1. What is an API? Give an example, where an API is used in real life."
   ]
  },
  {
   "cell_type": "markdown",
   "id": "b44d6d19-87fb-4d6d-92e9-b6011b11eece",
   "metadata": {},
   "source": [
    "An API, or Application Programming Interface, is a set of rules and protocols that allows different software applications to\n",
    "communicate and interact with each other. It defines the methods, data formats, \n",
    "and rules that developers can use to request and exchange information or perform specific actions between different software systems.\n",
    "APIs are used in web applications to connect user-facing front ends with critical back-end functionality and data. APIs are used to deliver material by streaming services such as Spotify and Netflix."
   ]
  },
  {
   "cell_type": "markdown",
   "id": "3ce5cfc8-f674-43a9-ada3-84ac7af64666",
   "metadata": {},
   "source": [
    "Q2. Give advantages and disadvantages of using API."
   ]
  },
  {
   "cell_type": "markdown",
   "id": "2dca501b-5be6-4fb4-b715-99fea02716a7",
   "metadata": {},
   "source": [
    "Advantages of using APIs:\n",
    "\n",
    "Modularity and code reusability: APIs allow developers to modularize their code and build upon existing functionality, saving time and effort. \n",
    "Simplified development process: APIs provide a higher level of abstraction, enabling developers to interact with complex systems without having to understand the underlying implementation details.\n",
    "Efficiency and productivity: By utilizing APIs, developers can focus on specific functionalities without having to develop everything from scratch. \n",
    "Scalability and flexibility: APIs facilitate scalability by allowing applications to interact with external services or resources as needed.\n",
    "Collaboration and integration: APIs enable different software systems to communicate and exchange data seamlessly, fostering collaboration between different developers or organizations.\n",
    "\n",
    "Disadvantages of using APIs:\n",
    "\n",
    "Dependency on third-party services: When integrating with external APIs, applications become dependent on the availability, reliability, and maintenance of those APIs. \n",
    "Security and privacy concerns: APIs introduce potential security risks if not properly implemented or secured. \n",
    "Lack of control over changes: API providers may introduce updates, changes, or deprecate certain functionalities in their APIs. \n",
    "Performance considerations: Depending on network conditions and the efficiency of the API implementation, API calls can introduce additional latency into an application. \n",
    "Documentation and learning curve: Some APIs may have incomplete or inadequate documentation, making it challenging for developers to understand and utilize them effectively."
   ]
  },
  {
   "cell_type": "markdown",
   "id": "c1f3c0bf-8e46-47de-bf47-1ba3a9a9e959",
   "metadata": {},
   "source": [
    "Q3. What is a Web API? Differentiate between API and Web API."
   ]
  },
  {
   "cell_type": "markdown",
   "id": "09c73d13-3572-4041-81b0-8b41769b9388",
   "metadata": {},
   "source": [
    "A Web API, also known as a web service API or HTTP API, is a type of API specifically designed to facilitate communication and data exchange over the web. \n",
    "It is a set of rules and protocols that enables interaction between different software systems using standard web technologies such as HTTP (Hypertext Transfer Protocol) \n",
    "and REST (Representational State Transfer).\n",
    "\n",
    "Web Services-\t\n",
    "Web services are a type of API, which must be accessed through a network connection.\t\n",
    "Web service is used for REST, SOAP and XML-RPC for communication.\t\n",
    "All Web services are APIs.\t\n",
    "It doesn’t have lightweight design, needs a SOAP convention to send or receive data over the system.\t\n",
    "It provides supports only for the HTTP protocol.\t\n",
    "Web API-\n",
    "APIs are application interfaces, implying that one application can communicate with another application in a standardized manner.\n",
    "API is used for any style of communication.\n",
    "APIs are not web services.\n",
    "It has a light-weight architecture furthermore, useful for gadgets which have constrained transmission capacity like smart phones.\n",
    "It provides support for the HTTP/s protocol: URL Request/Response Headers, and so on."
   ]
  },
  {
   "cell_type": "markdown",
   "id": "d8502720-f802-4054-8a0d-7ef15e95f195",
   "metadata": {},
   "source": [
    "Q4. Explain REST and SOAP Architecture. Mention shortcomings of SOAP."
   ]
  },
  {
   "cell_type": "markdown",
   "id": "5e0329e7-1e0b-434b-99c3-2ab927e43413",
   "metadata": {},
   "source": [
    "REST (Representational State Transfer) and SOAP (Simple Object Access Protocol) \n",
    "are two different architectural styles used for designing web services.\n",
    "\n",
    "REST Architecture:\n",
    "REST is an architectural style that emphasizes a stateless, client-server communication model using standard HTTP protocols.\n",
    "It is based on a set of principles and constraints for building scalable, lightweight, and loosely coupled web services. \n",
    "The main features of REST include:\n",
    "Stateless communication\n",
    "Resource-based\n",
    "Uniform interface\n",
    "\n",
    "SOAP is a protocol that defines a standardized messaging framework for exchanging structured information between web services.\n",
    "It relies on XML (eXtensible Markup Language) for message format and typically uses protocols such as HTTP,\n",
    "SMTP (Simple Mail Transfer Protocol), or others for transportation. The main features of SOAP include:\n",
    "Complex messaging: \n",
    "Protocol flexibility: \n",
    "WSDL (Web Services Description Language): "
   ]
  },
  {
   "cell_type": "markdown",
   "id": "49966ed9-dbea-469d-bf05-574d199fb7de",
   "metadata": {},
   "source": [
    "Q5. Differentiate between REST and SOAP."
   ]
  },
  {
   "cell_type": "markdown",
   "id": "8b16e738-67a3-46a2-89bd-08fad213e8d4",
   "metadata": {},
   "source": [
    "SOAP API\n",
    "\n",
    "Relies on SOAP (Simple Object Access Protocol)\t\n",
    "Transports data in standard XML format.\tBecause it is XML based and relies on SOAP, it works with WSDL\t\n",
    "Works over HTTP, HTTPS, SMTP, XMPP\t\n",
    "Highly structured/typed\t\n",
    "Designed with large enterprise applications in mind\n",
    "\n",
    "\n",
    "REST API\n",
    "\n",
    "Relies on REST (Representational State Transfer) architecture using HTTP.\n",
    "Generally transports data in JSON. It is based on URI. Because REST follows stateless model, REST does not enforces message format as XML or JSON etc.\n",
    "It works with GET, POST, PUT, DELETE\n",
    "Works over HTTP and HTTPS\n",
    "Less structured -> less bulky data\n",
    "Designed with mobile devices in mind"
   ]
  }
 ],
 "metadata": {
  "kernelspec": {
   "display_name": "Python 3 (ipykernel)",
   "language": "python",
   "name": "python3"
  },
  "language_info": {
   "codemirror_mode": {
    "name": "ipython",
    "version": 3
   },
   "file_extension": ".py",
   "mimetype": "text/x-python",
   "name": "python",
   "nbconvert_exporter": "python",
   "pygments_lexer": "ipython3",
   "version": "3.10.8"
  }
 },
 "nbformat": 4,
 "nbformat_minor": 5
}
