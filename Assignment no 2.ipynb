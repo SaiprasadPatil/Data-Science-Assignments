{
 "cells": [
  {
   "cell_type": "code",
   "execution_count": 46,
   "id": "2d7f60d4-fd70-4ad3-bb6d-3cb2ad32c519",
   "metadata": {},
   "outputs": [],
   "source": [
    "#Q1. How do you comment code in Python? What are the different types of comments?\n",
    "\n",
    "#single line comment-Python is an interpreted, object-oriented, high-level programming language  \n",
    "com1=\"\"\"Multiline comments-Python is an interpreted, object-oriented, high-level programming language with \n",
    "dynamic semantics developed by Guido van Rossum. It was originally released in 1991. \n",
    "Designed to be easy as well as fun, the name \"Python\" is a nod to the British comedy group M|onty Python.\"\"\"\n",
    "com2='''Python is an interpreted, object-oriented, high-level programming language with \n",
    "dynamic semantics developed by Guido van Rossum. It was originally released in 1991. \n",
    "Designed to be easy as well as fun, the name \"Python\" is a nod to the British comedy group Monty Python.'''"
   ]
  },
  {
   "cell_type": "code",
   "execution_count": 47,
   "id": "f9d84b5e-8bca-4c40-ac64-eb8c5d4ad78d",
   "metadata": {},
   "outputs": [
    {
     "data": {
      "text/plain": [
       "'Multiline comments-Python is an interpreted, object-oriented, high-level programming language with \\ndynamic semantics developed by Guido van Rossum. It was originally released in 1991. \\nDesigned to be easy as well as fun, the name \"Python\" is a nod to the British comedy group M|onty Python.'"
      ]
     },
     "execution_count": 47,
     "metadata": {},
     "output_type": "execute_result"
    }
   ],
   "source": [
    "com1"
   ]
  },
  {
   "cell_type": "code",
   "execution_count": 48,
   "id": "c8ffadd8-984f-4984-a0fe-34d69be70b22",
   "metadata": {},
   "outputs": [
    {
     "data": {
      "text/plain": [
       "'Python is an interpreted, object-oriented, high-level programming language with \\ndynamic semantics developed by Guido van Rossum. It was originally released in 1991. \\nDesigned to be easy as well as fun, the name \"Python\" is a nod to the British comedy group Monty Python.'"
      ]
     },
     "execution_count": 48,
     "metadata": {},
     "output_type": "execute_result"
    }
   ],
   "source": [
    "com2"
   ]
  },
  {
   "cell_type": "code",
   "execution_count": 10,
   "id": "a2b6e952-c15c-4dfe-8ee8-989a2c87cfe3",
   "metadata": {},
   "outputs": [],
   "source": [
    "#Q2. What are variables in Python? How do you declare and assign values to variables?\n",
    "#variable is entity that are store and refernce the name,numbers etc\n",
    "age=25\n",
    "price=2.555\n",
    "name=\"Saiprasad\"\n",
    "complex1=5j\n"
   ]
  },
  {
   "cell_type": "code",
   "execution_count": 11,
   "id": "e7ff6909-0453-48a8-a716-ecfa697cc7dd",
   "metadata": {},
   "outputs": [
    {
     "data": {
      "text/plain": [
       "25"
      ]
     },
     "execution_count": 11,
     "metadata": {},
     "output_type": "execute_result"
    }
   ],
   "source": [
    "age"
   ]
  },
  {
   "cell_type": "code",
   "execution_count": 12,
   "id": "5d464608-e70a-48ab-8f5a-5104fb8e073e",
   "metadata": {},
   "outputs": [
    {
     "data": {
      "text/plain": [
       "2.555"
      ]
     },
     "execution_count": 12,
     "metadata": {},
     "output_type": "execute_result"
    }
   ],
   "source": [
    "price"
   ]
  },
  {
   "cell_type": "code",
   "execution_count": 13,
   "id": "eca1c8f9-d009-420b-b154-5cb2806c55e4",
   "metadata": {},
   "outputs": [
    {
     "data": {
      "text/plain": [
       "'Saiprasad'"
      ]
     },
     "execution_count": 13,
     "metadata": {},
     "output_type": "execute_result"
    }
   ],
   "source": [
    "name"
   ]
  },
  {
   "cell_type": "code",
   "execution_count": 14,
   "id": "e1ac9f46-5c2e-4a25-bd2a-f77570dfa79e",
   "metadata": {},
   "outputs": [
    {
     "data": {
      "text/plain": [
       "5j"
      ]
     },
     "execution_count": 14,
     "metadata": {},
     "output_type": "execute_result"
    }
   ],
   "source": [
    "complex1"
   ]
  },
  {
   "cell_type": "code",
   "execution_count": 31,
   "id": "aebc8ef4-aed0-497e-9945-8a93a95fbbc8",
   "metadata": {},
   "outputs": [],
   "source": [
    "#Q3. How do you convert one data type to another in Python?\n",
    "price=25\n",
    "name=1313\n",
    "no=25.25\n",
    "bol=True\n",
    "s1=float(price)\n",
    "s2=str(name)\n",
    "s3=int(no)\n",
    "s4=str(bol)"
   ]
  },
  {
   "cell_type": "code",
   "execution_count": 16,
   "id": "b306c7d0-e4e2-4c58-a33a-116f4c3e5399",
   "metadata": {},
   "outputs": [
    {
     "data": {
      "text/plain": [
       "25.0"
      ]
     },
     "execution_count": 16,
     "metadata": {},
     "output_type": "execute_result"
    }
   ],
   "source": [
    "s1"
   ]
  },
  {
   "cell_type": "code",
   "execution_count": 25,
   "id": "045a8f75-3774-443d-b310-8b9115f7b98d",
   "metadata": {},
   "outputs": [
    {
     "data": {
      "text/plain": [
       "'1313'"
      ]
     },
     "execution_count": 25,
     "metadata": {},
     "output_type": "execute_result"
    }
   ],
   "source": [
    "s2"
   ]
  },
  {
   "cell_type": "code",
   "execution_count": 30,
   "id": "39ec68ff-13a8-46a6-89df-385fe7474440",
   "metadata": {},
   "outputs": [
    {
     "data": {
      "text/plain": [
       "25"
      ]
     },
     "execution_count": 30,
     "metadata": {},
     "output_type": "execute_result"
    }
   ],
   "source": [
    "s3"
   ]
  },
  {
   "cell_type": "code",
   "execution_count": 32,
   "id": "fb03b3e3-4366-44a1-b078-697efb4315c6",
   "metadata": {},
   "outputs": [
    {
     "data": {
      "text/plain": [
       "'True'"
      ]
     },
     "execution_count": 32,
     "metadata": {},
     "output_type": "execute_result"
    }
   ],
   "source": [
    "s4"
   ]
  },
  {
   "cell_type": "code",
   "execution_count": 33,
   "id": "2cfd3c8d-b8d8-49c1-8c81-8cd04d3ed95d",
   "metadata": {},
   "outputs": [
    {
     "name": "stdout",
     "output_type": "stream",
     "text": [
      "Hello World!!!\n"
     ]
    }
   ],
   "source": [
    "#Q4. How do you write and execute a Python script from the command line?\n",
    "#open a command-line and type in the word python , or python3 if you have both versions, \n",
    "#followed by the path to your script, just like this: \n",
    "#$ python3 hello.py Hello World! If everything works okay, after you press Enter , you'll see the phrase Hello World!\n",
    "script=\"Hello World!!!\"\n",
    "print(script)"
   ]
  },
  {
   "cell_type": "code",
   "execution_count": 34,
   "id": "7c9a6e10-bf1e-4662-bc67-0c29f0b210be",
   "metadata": {},
   "outputs": [
    {
     "data": {
      "text/plain": [
       "[2, 3]"
      ]
     },
     "execution_count": 34,
     "metadata": {},
     "output_type": "execute_result"
    }
   ],
   "source": [
    "#Q5. Given a list Q5. Given a list my_list = [1, 2, 3, 4, 5], write the code to slice the list and obtain the \n",
    "#sub-list [2, 3]., write the code to slice the list and obtain the sub-list [2, 3].\n",
    "my_list = [1, 2, 3, 4, 5]\n",
    "my_list[1:3:1]"
   ]
  },
  {
   "cell_type": "code",
   "execution_count": 36,
   "id": "39a54cd5-0645-489b-a4d4-1ced4eaf5d5d",
   "metadata": {},
   "outputs": [
    {
     "data": {
      "text/plain": [
       "(12+3j)"
      ]
     },
     "execution_count": 36,
     "metadata": {},
     "output_type": "execute_result"
    }
   ],
   "source": [
    "#Q6. What is a complex number in mathematics, and how is it represented in Python?\n",
    "complex_no=12+3j\n",
    "#complex Number is combination of real and imaginary number\n",
    "complex_no"
   ]
  },
  {
   "cell_type": "code",
   "execution_count": 37,
   "id": "4b263342-8c42-478f-b2ae-3cba48e84a1a",
   "metadata": {},
   "outputs": [
    {
     "data": {
      "text/plain": [
       "25"
      ]
     },
     "execution_count": 37,
     "metadata": {},
     "output_type": "execute_result"
    }
   ],
   "source": [
    "#Q7. What is the correct way to declare a variable named age and assign the value 25 to it?\n",
    "age=25\n",
    "age"
   ]
  },
  {
   "cell_type": "code",
   "execution_count": 40,
   "id": "726f009c-c9ef-4899-aa00-da56580137e1",
   "metadata": {},
   "outputs": [
    {
     "name": "stdout",
     "output_type": "stream",
     "text": [
      "9.99\n"
     ]
    },
    {
     "data": {
      "text/plain": [
       "float"
      ]
     },
     "execution_count": 40,
     "metadata": {},
     "output_type": "execute_result"
    }
   ],
   "source": [
    "#Q8. Declare a variable named price and assign the value 9.99 to it. What data type does this variable\n",
    "#belong to?\n",
    "price=9.99\n",
    "print(price)\n",
    "type(price)"
   ]
  },
  {
   "cell_type": "code",
   "execution_count": 49,
   "id": "93d45855-668a-4480-8b31-c58b87a11941",
   "metadata": {},
   "outputs": [
    {
     "data": {
      "text/plain": [
       "'Patil'"
      ]
     },
     "execution_count": 49,
     "metadata": {},
     "output_type": "execute_result"
    }
   ],
   "source": [
    "#Q9. Create a variable named name and assign your full name to it as a string. How would you print the\n",
    "#value of this variable?\n",
    "name=\"saiprasad Dipak Patil\"\n",
    "name\n",
    "name[16::1]"
   ]
  },
  {
   "cell_type": "code",
   "execution_count": 44,
   "id": "a9916ae7-8e60-4175-81aa-b8a7ef695963",
   "metadata": {},
   "outputs": [
    {
     "data": {
      "text/plain": [
       "'World!'"
      ]
     },
     "execution_count": 44,
     "metadata": {},
     "output_type": "execute_result"
    }
   ],
   "source": [
    "#Q10. Given the string \"Hello, World!\", extract the substring \"World\".\n",
    "string=\"Hello, World!\"\n",
    "string[7::1]"
   ]
  },
  {
   "cell_type": "code",
   "execution_count": 45,
   "id": "fc3701a1-69b8-430f-87a0-0366b6715afd",
   "metadata": {},
   "outputs": [
    {
     "data": {
      "text/plain": [
       "True"
      ]
     },
     "execution_count": 45,
     "metadata": {},
     "output_type": "execute_result"
    }
   ],
   "source": [
    "#Q11. Create a variable named \"is_student\" and assign it a boolean value indicating whether you are\n",
    "#currently a student or not.\n",
    "is_student=True\n",
    "is_student"
   ]
  },
  {
   "cell_type": "code",
   "execution_count": null,
   "id": "58da07e2-206e-4719-8703-1150e0cce538",
   "metadata": {},
   "outputs": [],
   "source": []
  }
 ],
 "metadata": {
  "kernelspec": {
   "display_name": "Python 3 (ipykernel)",
   "language": "python",
   "name": "python3"
  },
  "language_info": {
   "codemirror_mode": {
    "name": "ipython",
    "version": 3
   },
   "file_extension": ".py",
   "mimetype": "text/x-python",
   "name": "python",
   "nbconvert_exporter": "python",
   "pygments_lexer": "ipython3",
   "version": "3.10.8"
  }
 },
 "nbformat": 4,
 "nbformat_minor": 5
}
