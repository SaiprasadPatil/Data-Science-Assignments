{
 "cells": [
  {
   "cell_type": "code",
   "execution_count": 2,
   "id": "184c111e-c85e-40b3-b157-1d30210acd3f",
   "metadata": {},
   "outputs": [],
   "source": [
    "#Q1.Explain Class and Object with respect to Object-Oriented Programming. Give a suitable example."
   ]
  },
  {
   "cell_type": "code",
   "execution_count": null,
   "id": "8b61a524-7a5f-4ec4-87ce-31148a3298ad",
   "metadata": {},
   "outputs": [],
   "source": [
    "#Class-class is a blueprint or scalaten it is classify real world enties\n",
    "#Obect-object is real world enties is also called instance or variable"
   ]
  },
  {
   "cell_type": "code",
   "execution_count": 7,
   "id": "48122624-d0f4-4da9-b4d7-04d3a87219b1",
   "metadata": {},
   "outputs": [],
   "source": [
    "class test:\n",
    "    def method(self):\n",
    "        return \"This is class\""
   ]
  },
  {
   "cell_type": "code",
   "execution_count": 12,
   "id": "025c2d69-cd3b-4009-bdff-6a3cc3569578",
   "metadata": {
    "tags": []
   },
   "outputs": [],
   "source": [
    "#object\n",
    "s=test()"
   ]
  },
  {
   "cell_type": "code",
   "execution_count": 11,
   "id": "ed756607-71e2-43eb-8b02-f7bdc216fdad",
   "metadata": {},
   "outputs": [
    {
     "data": {
      "text/plain": [
       "'This is class'"
      ]
     },
     "execution_count": 11,
     "metadata": {},
     "output_type": "execute_result"
    }
   ],
   "source": [
    "s.method()"
   ]
  },
  {
   "cell_type": "code",
   "execution_count": 13,
   "id": "491847ce-edca-4ee2-9161-3b5f14be5059",
   "metadata": {},
   "outputs": [],
   "source": [
    "#Q2.Name the four pillars of OOPs.\n",
    "#Polymorphism\n",
    "#Abstraction\n",
    "#Inheritance\n",
    "#Encapsulation"
   ]
  },
  {
   "cell_type": "code",
   "execution_count": 14,
   "id": "7fadd326-58fa-41fc-9240-3e39a18c040e",
   "metadata": {},
   "outputs": [],
   "source": [
    "#Q3. Explain why the __init__() function is used. Give a suitable example.\n",
    "#The __init__ method is the Python is an object-oriented approach.\n",
    "#The __init__  function is called every time an object is created from a class. The __init__ method lets the class initialize the\n",
    "#object’s attributes and serves no other purpose. It is only used within classes. "
   ]
  },
  {
   "cell_type": "code",
   "execution_count": 16,
   "id": "a298b0a8-a6e5-4bc1-a699-41dcf59ab1a2",
   "metadata": {},
   "outputs": [],
   "source": [
    "class test1:\n",
    "    def __init__(self,age):\n",
    "        self.age=age\n",
    "    def show(self):\n",
    "        return self.age"
   ]
  },
  {
   "cell_type": "code",
   "execution_count": 17,
   "id": "079fc66c-ae80-4637-bf39-786103a4ce16",
   "metadata": {},
   "outputs": [],
   "source": [
    "t=test1(20)"
   ]
  },
  {
   "cell_type": "code",
   "execution_count": 18,
   "id": "a7c59345-a562-480a-bd84-c4c4344985ae",
   "metadata": {},
   "outputs": [
    {
     "data": {
      "text/plain": [
       "20"
      ]
     },
     "execution_count": 18,
     "metadata": {},
     "output_type": "execute_result"
    }
   ],
   "source": [
    "t.show()"
   ]
  },
  {
   "cell_type": "code",
   "execution_count": 19,
   "id": "374f43c4-b615-4f80-8f4c-920e0a4ffc53",
   "metadata": {},
   "outputs": [],
   "source": [
    "#Q4. Why self is used in OOPs?\n",
    "#The self in keyword in Python is used to all the instances in a class. By using the self keyword, one can easily access all\n",
    "#the instances defined within a class, including its methods and attributes."
   ]
  },
  {
   "cell_type": "code",
   "execution_count": 20,
   "id": "9c2065a5-8a64-4ec4-985d-86208da87843",
   "metadata": {},
   "outputs": [],
   "source": [
    "#Q5. What is inheritance? Give an example for each type of inheritance.\n",
    "#single Inheritance\n",
    "#multiple Inheritance\n",
    "#multilevel Inheritance\n",
    "#Heracical Inheritance\n",
    "#Hybrid Inheritance"
   ]
  },
  {
   "cell_type": "code",
   "execution_count": 26,
   "id": "6ef9982b-f04f-4993-bfeb-4e6160510598",
   "metadata": {},
   "outputs": [],
   "source": [
    "#single Inheritance\n",
    "class A:\n",
    "    def method1(self):\n",
    "        return \"class A\"\n",
    "class B(A):\n",
    "    def method2(self):\n",
    "        return \"class B\"\n",
    "        "
   ]
  },
  {
   "cell_type": "code",
   "execution_count": 27,
   "id": "cb1fc155-fd4e-496b-9aa4-8b4927c3ff4a",
   "metadata": {},
   "outputs": [],
   "source": [
    "b=B()"
   ]
  },
  {
   "cell_type": "code",
   "execution_count": 30,
   "id": "f25ec66c-faba-441c-9874-43faab98c6d5",
   "metadata": {},
   "outputs": [
    {
     "data": {
      "text/plain": [
       "'class A'"
      ]
     },
     "execution_count": 30,
     "metadata": {},
     "output_type": "execute_result"
    }
   ],
   "source": [
    "b.method1()"
   ]
  },
  {
   "cell_type": "code",
   "execution_count": 31,
   "id": "4777a1cc-7b6f-4992-b0b6-9667c965fe96",
   "metadata": {},
   "outputs": [
    {
     "data": {
      "text/plain": [
       "'class B'"
      ]
     },
     "execution_count": 31,
     "metadata": {},
     "output_type": "execute_result"
    }
   ],
   "source": [
    "b.method2()"
   ]
  },
  {
   "cell_type": "code",
   "execution_count": 32,
   "id": "bfe279e8-c18c-4fa8-b167-a92e1869d67e",
   "metadata": {},
   "outputs": [],
   "source": [
    "##multiple Inheritance\n",
    "class A:\n",
    "    def method1(self):\n",
    "        return \"class A\"\n",
    "class B():\n",
    "    def method2(self):\n",
    "        return \"class B\"\n",
    "class C(A,B):\n",
    "    def method3(self):\n",
    "        return \"class C\"\n",
    "    "
   ]
  },
  {
   "cell_type": "code",
   "execution_count": 34,
   "id": "9efe31ee-fd92-4de4-b03c-fa0ace392b7e",
   "metadata": {},
   "outputs": [],
   "source": [
    "c=C()"
   ]
  },
  {
   "cell_type": "code",
   "execution_count": 39,
   "id": "138473f8-3699-451d-b2bd-8ec936fe1ccf",
   "metadata": {},
   "outputs": [
    {
     "data": {
      "text/plain": [
       "'class A'"
      ]
     },
     "execution_count": 39,
     "metadata": {},
     "output_type": "execute_result"
    }
   ],
   "source": [
    "c.method1()"
   ]
  },
  {
   "cell_type": "code",
   "execution_count": 41,
   "id": "c1783702-a2c5-49c8-9f40-d1e1d1dee4ce",
   "metadata": {},
   "outputs": [
    {
     "data": {
      "text/plain": [
       "'class B'"
      ]
     },
     "execution_count": 41,
     "metadata": {},
     "output_type": "execute_result"
    }
   ],
   "source": [
    "c.method2()"
   ]
  },
  {
   "cell_type": "code",
   "execution_count": 42,
   "id": "bdc997c2-336a-4542-ac7f-d64c02e165b3",
   "metadata": {},
   "outputs": [
    {
     "data": {
      "text/plain": [
       "'class C'"
      ]
     },
     "execution_count": 42,
     "metadata": {},
     "output_type": "execute_result"
    }
   ],
   "source": [
    "c.method3()"
   ]
  },
  {
   "cell_type": "code",
   "execution_count": 43,
   "id": "c048a7d3-79f4-4dc6-af39-85addf929712",
   "metadata": {},
   "outputs": [],
   "source": [
    "##Mulitilevel Inheritance\n",
    "class A:\n",
    "    def method1(self):\n",
    "        return \"class A\"\n",
    "class B(A):\n",
    "    def method2(self):\n",
    "        return \"class B\"\n",
    "class C(B):\n",
    "    def method3(self):\n",
    "        return \"class C\"\n",
    "    "
   ]
  },
  {
   "cell_type": "code",
   "execution_count": 44,
   "id": "ea20cfd4-eff7-4ca7-8b11-3783ce5a280d",
   "metadata": {},
   "outputs": [],
   "source": [
    "c=C()"
   ]
  },
  {
   "cell_type": "code",
   "execution_count": 45,
   "id": "2674ce7a-6af5-4f1d-81e1-488e178ba58b",
   "metadata": {},
   "outputs": [
    {
     "data": {
      "text/plain": [
       "'class A'"
      ]
     },
     "execution_count": 45,
     "metadata": {},
     "output_type": "execute_result"
    }
   ],
   "source": [
    "c.method1()"
   ]
  },
  {
   "cell_type": "code",
   "execution_count": 46,
   "id": "ee784d80-1b06-4e72-b4b6-7a4e2a12717c",
   "metadata": {},
   "outputs": [
    {
     "data": {
      "text/plain": [
       "'class B'"
      ]
     },
     "execution_count": 46,
     "metadata": {},
     "output_type": "execute_result"
    }
   ],
   "source": [
    "c.method2()"
   ]
  },
  {
   "cell_type": "code",
   "execution_count": 47,
   "id": "2a2070d0-2924-49be-852d-ce3ace787909",
   "metadata": {},
   "outputs": [
    {
     "data": {
      "text/plain": [
       "'class C'"
      ]
     },
     "execution_count": 47,
     "metadata": {},
     "output_type": "execute_result"
    }
   ],
   "source": [
    "c.method3()"
   ]
  },
  {
   "cell_type": "code",
   "execution_count": 48,
   "id": "0d4a2f60-3a2e-4744-ac64-4451127ddcc9",
   "metadata": {},
   "outputs": [],
   "source": [
    "##Heracical Inheritanc\n",
    "class A:\n",
    "    def method1(self):\n",
    "        return \"class A\"\n",
    "class B(A):\n",
    "    def method2(self):\n",
    "        return \"class B\"\n",
    "class C(A):\n",
    "    def method3(self):\n",
    "        return \"class C\"\n",
    "    "
   ]
  },
  {
   "cell_type": "code",
   "execution_count": 50,
   "id": "6bd0b011-60b3-452a-905c-84e71a1b2426",
   "metadata": {},
   "outputs": [],
   "source": [
    "c=C()\n",
    "b=B()"
   ]
  },
  {
   "cell_type": "code",
   "execution_count": 51,
   "id": "318b8976-63b3-4843-a43d-fb0aeb8b5580",
   "metadata": {},
   "outputs": [
    {
     "data": {
      "text/plain": [
       "'class C'"
      ]
     },
     "execution_count": 51,
     "metadata": {},
     "output_type": "execute_result"
    }
   ],
   "source": [
    "c.method3()"
   ]
  },
  {
   "cell_type": "code",
   "execution_count": 53,
   "id": "84e30fa0-2b49-4096-80e4-c98f7021eebb",
   "metadata": {},
   "outputs": [
    {
     "data": {
      "text/plain": [
       "'class A'"
      ]
     },
     "execution_count": 53,
     "metadata": {},
     "output_type": "execute_result"
    }
   ],
   "source": [
    "c.method1()"
   ]
  },
  {
   "cell_type": "code",
   "execution_count": 54,
   "id": "a8f1f5e0-c111-43fc-b9e3-e5bcbde35b24",
   "metadata": {},
   "outputs": [
    {
     "data": {
      "text/plain": [
       "'class B'"
      ]
     },
     "execution_count": 54,
     "metadata": {},
     "output_type": "execute_result"
    }
   ],
   "source": [
    "b.method2()"
   ]
  },
  {
   "cell_type": "code",
   "execution_count": 55,
   "id": "fa597f2b-d855-42c7-b3e1-974b1b9864cd",
   "metadata": {},
   "outputs": [
    {
     "data": {
      "text/plain": [
       "'class A'"
      ]
     },
     "execution_count": 55,
     "metadata": {},
     "output_type": "execute_result"
    }
   ],
   "source": [
    "b.method1()"
   ]
  },
  {
   "cell_type": "code",
   "execution_count": 62,
   "id": "a0f43ecf-4163-4966-ad06-736fcd874e08",
   "metadata": {},
   "outputs": [],
   "source": [
    "##Hybrid Inheritance\n",
    "class A:\n",
    "    def method1(self):\n",
    "        return \"class A\"\n",
    "class B(A):\n",
    "    def method2(self):\n",
    "        return \"class B\"\n",
    "class C(B):\n",
    "    def method3(self):\n",
    "        return \"class C\"\n",
    "class D(B,A):\n",
    "    def method4(self):\n",
    "        return \"class D\"    "
   ]
  },
  {
   "cell_type": "code",
   "execution_count": 75,
   "id": "43706423-24bb-472f-9bf3-8fabd4b60f40",
   "metadata": {},
   "outputs": [],
   "source": [
    "d=D()\n",
    "c=C()"
   ]
  },
  {
   "cell_type": "code",
   "execution_count": 76,
   "id": "06c9445a-758c-437f-9526-7514b8146568",
   "metadata": {},
   "outputs": [
    {
     "data": {
      "text/plain": [
       "'class D'"
      ]
     },
     "execution_count": 76,
     "metadata": {},
     "output_type": "execute_result"
    }
   ],
   "source": [
    "d.method4()"
   ]
  },
  {
   "cell_type": "code",
   "execution_count": 77,
   "id": "08c48a15-18d8-4b27-8a68-75e1a33836d5",
   "metadata": {},
   "outputs": [
    {
     "data": {
      "text/plain": [
       "'class A'"
      ]
     },
     "execution_count": 77,
     "metadata": {},
     "output_type": "execute_result"
    }
   ],
   "source": [
    "d.method1()"
   ]
  },
  {
   "cell_type": "code",
   "execution_count": 78,
   "id": "bc20f361-47af-4f52-b999-05438b87cea6",
   "metadata": {},
   "outputs": [
    {
     "data": {
      "text/plain": [
       "'class C'"
      ]
     },
     "execution_count": 78,
     "metadata": {},
     "output_type": "execute_result"
    }
   ],
   "source": [
    "c.method3()"
   ]
  },
  {
   "cell_type": "code",
   "execution_count": 80,
   "id": "4fed9001-0d36-4bfb-b978-1738529481d6",
   "metadata": {},
   "outputs": [
    {
     "data": {
      "text/plain": [
       "'class B'"
      ]
     },
     "execution_count": 80,
     "metadata": {},
     "output_type": "execute_result"
    }
   ],
   "source": [
    "c.method2()"
   ]
  },
  {
   "cell_type": "code",
   "execution_count": null,
   "id": "dcdb8322-67e9-403c-b960-6e14da14623a",
   "metadata": {},
   "outputs": [],
   "source": []
  }
 ],
 "metadata": {
  "kernelspec": {
   "display_name": "Python 3 (ipykernel)",
   "language": "python",
   "name": "python3"
  },
  "language_info": {
   "codemirror_mode": {
    "name": "ipython",
    "version": 3
   },
   "file_extension": ".py",
   "mimetype": "text/x-python",
   "name": "python",
   "nbconvert_exporter": "python",
   "pygments_lexer": "ipython3",
   "version": "3.10.8"
  }
 },
 "nbformat": 4,
 "nbformat_minor": 5
}
