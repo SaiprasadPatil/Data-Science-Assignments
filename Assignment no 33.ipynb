{
 "cells": [
  {
   "cell_type": "markdown",
   "id": "6de9b818-00e0-4ff3-b7c8-a74074c722d9",
   "metadata": {},
   "source": [
    "Q1. Calculate the 95% confidence interval for a sample of data with a mean of 50 and a standard deviation\n",
    "of 5 using Python. Interpret the results."
   ]
  },
  {
   "cell_type": "code",
   "execution_count": 3,
   "id": "aa4ad4c2-a109-40fd-8647-05458a41c566",
   "metadata": {},
   "outputs": [
    {
     "name": "stdout",
     "output_type": "stream",
     "text": [
      "95% Confidence Interval: (40.200180077299734, 59.799819922700266)\n"
     ]
    }
   ],
   "source": [
    "from scipy.stats import norm\n",
    "\n",
    "# Given data\n",
    "sample_mean = 50\n",
    "sample_std_dev = 5\n",
    "confidence_level = 0.95\n",
    "sample_size = 1  # Since we are given the sample mean and standard deviation directly\n",
    "\n",
    "# Calculate margin of error\n",
    "margin_of_error = norm.ppf((1 + confidence_level) / 2) * (sample_std_dev / (sample_size ** 0.5))\n",
    "\n",
    "# Calculate confidence interval\n",
    "confidence_interval = (sample_mean - margin_of_error, sample_mean + margin_of_error)\n",
    "\n",
    "print(\"95% Confidence Interval:\", confidence_interval)\n"
   ]
  },
  {
   "cell_type": "markdown",
   "id": "5a378286-798f-4a11-8f63-4dc15970cfee",
   "metadata": {},
   "source": [
    "n this code, we directly use the provided sample mean and standard deviation. Since we are not provided with the sample size, we assume it to be 1, as we are dealing with a single data point (sample mean). Therefore, the margin of error calculation simplifies to \n",
    "margin of error\n",
    "=\n",
    "�\n",
    "×\n",
    "sample standard deviation\n",
    "1\n",
    "=\n",
    "�\n",
    "×\n",
    "sample standard deviation\n",
    "margin of error=Z× \n",
    "1\n",
    "​\n",
    " \n",
    "sample standard deviation\n",
    "​\n",
    " =Z×sample standard deviation, where \n",
    "�\n",
    "Z is the z-score obtained from the inverse cumulative distribution function of the standard normal distribution. We then calculate the confidence interval by adding and subtracting the margin of error from the sample mean.\n",
    "\n",
    "This will give us the 95% confidence interval for the population mean based on the provided sample data."
   ]
  },
  {
   "cell_type": "markdown",
   "id": "e6d52b4b-2579-4a08-ae7c-fccfc11395ef",
   "metadata": {},
   "source": [
    "Q2. Conduct a chi-square goodness of fit test to determine if the distribution of colors of M&Ms in a bag\n",
    "matches the expected distribution of 20% blue, 20% orange, 20% green, 10% yellow, 10% red, and 20%\n",
    "brown. Use Python to perform the test with a significance level of 0.05."
   ]
  },
  {
   "cell_type": "code",
   "execution_count": 5,
   "id": "1ab37390-6c9e-4687-b3d1-e4dbde72fd22",
   "metadata": {},
   "outputs": [
    {
     "name": "stdout",
     "output_type": "stream",
     "text": [
      "Chi-square statistic: 2.5\n",
      "p-value: 0.7764950711233227\n",
      "Fail to reject the null hypothesis: The distribution of colors matches the expected distribution.\n"
     ]
    }
   ],
   "source": [
    "from scipy.stats import chisquare\n",
    "\n",
    "# Observed frequencies of colors in the bag\n",
    "observed_frequencies = [50, 45, 55, 25, 30, 45]  # Blue, Orange, Green, Yellow, Red, Brown\n",
    "\n",
    "# Calculate total observed frequency\n",
    "total_observed = sum(observed_frequencies)\n",
    "\n",
    "# Expected frequencies based on the given distribution\n",
    "expected_percentages = [0.20, 0.20, 0.20, 0.10, 0.10, 0.20]  # Blue, Orange, Green, Yellow, Red, Brown\n",
    "expected_frequencies = [percentage * total_observed for percentage in expected_percentages]\n",
    "\n",
    "# Perform the chi-square test\n",
    "chi2_stat, p_value = chisquare(observed_frequencies, f_exp=expected_frequencies)\n",
    "\n",
    "# Print the results\n",
    "print(\"Chi-square statistic:\", chi2_stat)\n",
    "print(\"p-value:\", p_value)\n",
    "\n",
    "# Check significance level\n",
    "alpha = 0.05\n",
    "if p_value < alpha:\n",
    "    print(\"Reject the null hypothesis: The distribution of colors is not as expected.\")\n",
    "else:\n",
    "    print(\"Fail to reject the null hypothesis: The distribution of colors matches the expected distribution.\")\n"
   ]
  },
  {
   "cell_type": "markdown",
   "id": "d64c2d99-7ed8-44ba-9440-446fc6bf59e6",
   "metadata": {},
   "source": [
    "Q3. Use Python to calculate the chi-square statistic and p-value for a contingency table with the following\n",
    "data:"
   ]
  },
  {
   "cell_type": "code",
   "execution_count": 7,
   "id": "fdc418d5-8de7-4ba5-9fc3-32638e52a54f",
   "metadata": {},
   "outputs": [
    {
     "name": "stdout",
     "output_type": "stream",
     "text": [
      "Chi-square statistic: 5.833333333333334\n",
      "p-value: 0.05411376622282158\n",
      "Fail to reject the null hypothesis: There is no significant association between the outcomes.\n"
     ]
    }
   ],
   "source": [
    "from scipy.stats import chi2_contingency\n",
    "\n",
    "# Contingency table data\n",
    "observed_data = [[20, 15],\n",
    "                 [10, 25],\n",
    "                 [15, 20]]\n",
    "\n",
    "# Perform the chi-square test\n",
    "chi2_stat, p_value, _, _ = chi2_contingency(observed_data)\n",
    "\n",
    "# Print the results\n",
    "print(\"Chi-square statistic:\", chi2_stat)\n",
    "print(\"p-value:\", p_value)\n",
    "\n",
    "# Check significance level\n",
    "alpha = 0.05\n",
    "if p_value < alpha:\n",
    "    print(\"Reject the null hypothesis: There is a significant association between the outcomes.\")\n",
    "else:\n",
    "    print(\"Fail to reject the null hypothesis: There is no significant association between the outcomes.\")\n"
   ]
  },
  {
   "cell_type": "markdown",
   "id": "b2636ca5-8027-44be-80a4-81f4bfbf7e91",
   "metadata": {},
   "source": [
    "Q4. A study of the prevalence of smoking in a population of 500 individuals found that 60 individuals\n",
    "smoked. Use Python to calculate the 95% confidence interval for the true proportion of individuals in the\n",
    "population who smoke."
   ]
  },
  {
   "cell_type": "code",
   "execution_count": 8,
   "id": "7cd6858a-06e0-48c9-8390-5a6213e1f648",
   "metadata": {},
   "outputs": [
    {
     "name": "stdout",
     "output_type": "stream",
     "text": [
      "95% Confidence Interval for the true proportion of smokers: (0.09151638887130707, 0.1484836111286929)\n"
     ]
    }
   ],
   "source": [
    "import numpy as np\n",
    "from scipy.stats import norm\n",
    "\n",
    "# Given data\n",
    "sample_proportion = 60 / 500  # Proportion of individuals who smoke\n",
    "sample_size = 500\n",
    "confidence_level = 0.95\n",
    "\n",
    "# Calculate the critical value (Z-score) for 95% confidence level\n",
    "z_score = norm.ppf((1 + confidence_level) / 2)\n",
    "\n",
    "# Calculate the standard error\n",
    "standard_error = np.sqrt((sample_proportion * (1 - sample_proportion)) / sample_size)\n",
    "\n",
    "# Calculate the margin of error\n",
    "margin_of_error = z_score * standard_error\n",
    "\n",
    "# Calculate the confidence interval\n",
    "confidence_interval = (sample_proportion - margin_of_error, sample_proportion + margin_of_error)\n",
    "\n",
    "print(\"95% Confidence Interval for the true proportion of smokers:\", confidence_interval)\n"
   ]
  },
  {
   "cell_type": "markdown",
   "id": "e0b0a2d2-00e0-4363-a4d4-88653b42fd36",
   "metadata": {},
   "source": [
    "Q5. Calculate the 90% confidence interval for a sample of data with a mean of 75 and a standard deviation\n",
    "of 12 using Python. Interpret the results."
   ]
  },
  {
   "cell_type": "code",
   "execution_count": 9,
   "id": "53cf5943-d19e-4eac-ad71-7a8fef7d65a5",
   "metadata": {},
   "outputs": [
    {
     "name": "stdout",
     "output_type": "stream",
     "text": [
      "90% Confidence Interval: (55.261756476582335, 94.73824352341767)\n"
     ]
    }
   ],
   "source": [
    "import numpy as np\n",
    "from scipy.stats import norm\n",
    "\n",
    "# Given data\n",
    "sample_mean = 75\n",
    "sample_std_dev = 12\n",
    "sample_size = 1  # Since we are given the sample mean and standard deviation directly\n",
    "confidence_level = 0.90\n",
    "\n",
    "# Calculate the critical value (Z-score) for 90% confidence level\n",
    "z_score = norm.ppf((1 + confidence_level) / 2)\n",
    "\n",
    "# Calculate the margin of error\n",
    "margin_of_error = z_score * (sample_std_dev / (sample_size ** 0.5))\n",
    "\n",
    "# Calculate the confidence interval\n",
    "confidence_interval = (sample_mean - margin_of_error, sample_mean + margin_of_error)\n",
    "\n",
    "print(\"90% Confidence Interval:\", confidence_interval)\n"
   ]
  },
  {
   "cell_type": "markdown",
   "id": "ee295a6b-fcc1-4bbd-a425-0a05272e0ab7",
   "metadata": {},
   "source": [
    "Q6. Use Python to plot the chi-square distribution with 10 degrees of freedom. Label the axes and shade the\n",
    "area corresponding to a chi-square statistic of 15."
   ]
  },
  {
   "cell_type": "code",
   "execution_count": 10,
   "id": "ceefb187-775f-4785-bcd8-5881857daf73",
   "metadata": {},
   "outputs": [
    {
     "data": {
      "image/png": "[encoded data removed]",
      "text/plain": [
       "<Figure size 640x480 with 1 Axes>"
      ]
     },
     "metadata": {},
     "output_type": "display_data"
    }
   ],
   "source": [
    "import numpy as np\n",
    "import matplotlib.pyplot as plt\n",
    "from scipy.stats import chi2\n",
    "\n",
    "# Define the degrees of freedom\n",
    "df = 10\n",
    "\n",
    "# Generate values for the chi-square distribution\n",
    "x = np.linspace(0, 30, 1000)\n",
    "y = chi2.pdf(x, df)\n",
    "\n",
    "# Plot the chi-square distribution\n",
    "plt.plot(x, y, label='Chi-square Distribution (df=10)')\n",
    "plt.fill_between(x, 0, y, where=(x >= 15), color='skyblue', alpha=0.5, label='Area for x >= 15')\n",
    "\n",
    "# Label the axes\n",
    "plt.xlabel('Chi-square Statistic')\n",
    "plt.ylabel('Probability Density Function')\n",
    "plt.title('Chi-square Distribution with 10 Degrees of Freedom')\n",
    "\n",
    "# Add legend\n",
    "plt.legend()\n",
    "\n",
    "# Show plot\n",
    "plt.grid(True)\n",
    "plt.show()\n"
   ]
  },
  {
   "cell_type": "markdown",
   "id": "75a6ca0b-46e6-4b7d-98f3-94174214c861",
   "metadata": {},
   "source": [
    "Q7. A random sample of 1000 people was asked if they preferred Coke or Pepsi. Of the sample, 520\n",
    "preferred Coke. Calculate a 99% confidence interval for the true proportion of people in the population who\n",
    "prefer Coke."
   ]
  },
  {
   "cell_type": "code",
   "execution_count": 11,
   "id": "21f946f2-4f04-4ee9-ae43-60aeb136bc87",
   "metadata": {},
   "outputs": [
    {
     "name": "stdout",
     "output_type": "stream",
     "text": [
      "99% Confidence Interval for the true proportion of people who prefer Coke: (0.4793051576779699, 0.5606948423220302)\n"
     ]
    }
   ],
   "source": [
    "import numpy as np\n",
    "from scipy.stats import norm\n",
    "\n",
    "# Given data\n",
    "sample_proportion = 520 / 1000  # Proportion of people who prefer Coke\n",
    "sample_size = 1000\n",
    "confidence_level = 0.99\n",
    "\n",
    "# Calculate the critical value (Z-score) for 99% confidence level\n",
    "z_score = norm.ppf((1 + confidence_level) / 2)\n",
    "\n",
    "# Calculate the standard error\n",
    "standard_error = np.sqrt((sample_proportion * (1 - sample_proportion)) / sample_size)\n",
    "\n",
    "# Calculate the margin of error\n",
    "margin_of_error = z_score * standard_error\n",
    "\n",
    "# Calculate the confidence interval\n",
    "confidence_interval = (sample_proportion - margin_of_error, sample_proportion + margin_of_error)\n",
    "\n",
    "print(\"99% Confidence Interval for the true proportion of people who prefer Coke:\", confidence_interval)\n"
   ]
  },
  {
   "cell_type": "markdown",
   "id": "cf227714-476a-4989-9f12-646f3daee237",
   "metadata": {},
   "source": [
    "Q8. A researcher hypothesizes that a coin is biased towards tails. They flip the coin 100 times and observe\n",
    "45 tails. Conduct a chi-square goodness of fit test to determine if the observed frequencies match the\n",
    "expected frequencies of a fair coin. Use a significance level of 0.05."
   ]
  },
  {
   "cell_type": "code",
   "execution_count": 1,
   "id": "6d272af4-adb4-43ec-8f63-09f6c02f2b06",
   "metadata": {},
   "outputs": [
    {
     "name": "stdout",
     "output_type": "stream",
     "text": [
      "Chi-square statistic: 1.0\n",
      "Critical value: 3.841458820694124\n",
      "Fail to reject the null hypothesis: There is no evidence to suggest that the coin is biased towards tails.\n"
     ]
    }
   ],
   "source": [
    "from scipy.stats import chi2\n",
    "\n",
    "# Observed frequencies\n",
    "observed_tails = 45\n",
    "total_flips = 100\n",
    "\n",
    "# Expected frequencies for a fair coin\n",
    "expected_tails = total_flips / 2\n",
    "expected_heads = total_flips / 2\n",
    "\n",
    "# Calculate the chi-square statistic\n",
    "chi2_stat = ((observed_tails - expected_tails)**2 / expected_tails) + ((total_flips - observed_tails - expected_heads)**2 / expected_heads)\n",
    "\n",
    "# Determine the degrees of freedom\n",
    "df = 1  # Since we are testing for one degree of freedom (biased towards tails)\n",
    "\n",
    "# Calculate the critical value from the chi-square distribution\n",
    "alpha = 0.05\n",
    "critical_value = chi2.ppf(1 - alpha, df)\n",
    "\n",
    "# Print the results\n",
    "print(\"Chi-square statistic:\", chi2_stat)\n",
    "print(\"Critical value:\", critical_value)\n",
    "\n",
    "# Make a decision\n",
    "if chi2_stat > critical_value:\n",
    "    print(\"Reject the null hypothesis: The coin is biased towards tails.\")\n",
    "else:\n",
    "    print(\"Fail to reject the null hypothesis: There is no evidence to suggest that the coin is biased towards tails.\")\n"
   ]
  },
  {
   "cell_type": "markdown",
   "id": "2fb3054c-e63c-4232-a16b-39769a5432aa",
   "metadata": {},
   "source": [
    "Q9. A study was conducted to determine if there is an association between smoking status (smoker or\n",
    "non-smoker) and lung cancer diagnosis (yes or no). The results are shown in the contingency table below.\n",
    "Conduct a chi-square test for independence to determine if there is a significant association between\n",
    "smoking status and lung cancer diagnosis."
   ]
  },
  {
   "cell_type": "code",
   "execution_count": 4,
   "id": "2ce3de1f-fd81-46df-9aa0-b7aa1abe4c69",
   "metadata": {},
   "outputs": [
    {
     "name": "stdout",
     "output_type": "stream",
     "text": [
      "Chi-square statistic: 12.057347670250895\n",
      "p-value: 0.0005158863863703744\n",
      "Reject the null hypothesis: There is a significant association between smoking status and lung cancer diagnosis.\n"
     ]
    }
   ],
   "source": [
    "from scipy.stats import chi2_contingency\n",
    "\n",
    "# Contingency table data\n",
    "observed_data = [[60, 140],\n",
    "                 [30, 170]]\n",
    "\n",
    "# Perform the chi-square test for independence\n",
    "chi2_stat, p_value, _, _ = chi2_contingency(observed_data)\n",
    "\n",
    "# Print the results\n",
    "print(\"Chi-square statistic:\", chi2_stat)\n",
    "print(\"p-value:\", p_value)\n",
    "\n",
    "# Check significance level\n",
    "alpha = 0.05\n",
    "if p_value < alpha:\n",
    "    print(\"Reject the null hypothesis: There is a significant association between smoking status and lung cancer diagnosis.\")\n",
    "else:\n",
    "    print(\"Fail to reject the null hypothesis: There is no significant association between smoking status and lung cancer diagnosis.\")\n"
   ]
  },
  {
   "cell_type": "markdown",
   "id": "da33294a-c142-44eb-a0e7-7a296f470ce9",
   "metadata": {},
   "source": [
    "Q10. A study was conducted to determine if the proportion of people who prefer milk chocolate, dark\n",
    "chocolate, or white chocolate is different in the U.S. versus the U.K. A random sample of 500 people from\n",
    "the U.S. and a random sample of 500 people from the U.K. were surveyed. The results are shown in the\n",
    "contingency table below. Conduct a chi-square test for independence to determine if there is a significant\n",
    "association between chocolate preference and country of origin."
   ]
  },
  {
   "cell_type": "code",
   "execution_count": 7,
   "id": "b4188cb7-1e41-4b81-8bed-61d68e41ee15",
   "metadata": {},
   "outputs": [
    {
     "name": "stdout",
     "output_type": "stream",
     "text": [
      "Chi-square statistic: 13.393665158371041\n",
      "p-value: 0.0012348168997745918\n",
      "Reject the null hypothesis: There is a significant association between chocolate preference and country of origin.\n"
     ]
    }
   ],
   "source": [
    "from scipy.stats import chi2_contingency\n",
    "\n",
    "# Contingency table data\n",
    "observed_data = [[200, 150, 150],\n",
    "                 [225, 175, 100]]\n",
    "\n",
    "# Perform the chi-square test for independence\n",
    "chi2_stat, p_value, _, _ = chi2_contingency(observed_data)\n",
    "\n",
    "# Print the results\n",
    "print(\"Chi-square statistic:\", chi2_stat)\n",
    "print(\"p-value:\", p_value)\n",
    "\n",
    "# Check significance level\n",
    "alpha = 0.01  # Updated significance level\n",
    "if p_value < alpha:\n",
    "    print(\"Reject the null hypothesis: There is a significant association between chocolate preference and country of origin.\")\n",
    "else:\n",
    "    print(\"Fail to reject the null hypothesis: There is no significant association between chocolate preference and country of origin.\")\n"
   ]
  },
  {
   "cell_type": "markdown",
   "id": "c21c83b4-11f2-4113-8b19-0be09aa3c0d8",
   "metadata": {},
   "source": [
    "Q11. A random sample of 30 people was selected from a population with an unknown mean and standard\n",
    "deviation. The sample mean was found to be 72 and the sample standard deviation was found to be 10.\n",
    "Conduct a hypothesis test to determine if the population mean is significantly different from 70. Use a\n",
    "significance level of 0.05."
   ]
  },
  {
   "cell_type": "code",
   "execution_count": 8,
   "id": "1a4329ca-d2d3-499b-a605-b266d49283c2",
   "metadata": {},
   "outputs": [
    {
     "name": "stdout",
     "output_type": "stream",
     "text": [
      "Fail to reject the null hypothesis: There is not enough evidence to conclude that the population mean is significantly different from 70.\n"
     ]
    }
   ],
   "source": [
    "import numpy as np\n",
    "from scipy.stats import t\n",
    "\n",
    "# Given data\n",
    "sample_mean = 72\n",
    "sample_std_dev = 10\n",
    "sample_size = 30\n",
    "population_mean = 70\n",
    "significance_level = 0.05\n",
    "\n",
    "# Calculate the test statistic\n",
    "t_statistic = (sample_mean - population_mean) / (sample_std_dev / np.sqrt(sample_size))\n",
    "\n",
    "# Determine the critical value\n",
    "degrees_of_freedom = sample_size - 1\n",
    "critical_value = t.ppf(1 - significance_level / 2, degrees_of_freedom)\n",
    "\n",
    "# Make a decision\n",
    "if np.abs(t_statistic) > critical_value:\n",
    "    print(\"Reject the null hypothesis: The population mean is significantly different from 70.\")\n",
    "else:\n",
    "    print(\"Fail to reject the null hypothesis: There is not enough evidence to conclude that the population mean is significantly different from 70.\")\n"
   ]
  }
 ],
 "metadata": {
  "kernelspec": {
   "display_name": "Python 3 (ipykernel)",
   "language": "python",
   "name": "python3"
  },
  "language_info": {
   "codemirror_mode": {
    "name": "ipython",
    "version": 3
   },
   "file_extension": ".py",
   "mimetype": "text/x-python",
   "name": "python",
   "nbconvert_exporter": "python",
   "pygments_lexer": "ipython3",
   "version": "3.10.8"
  }
 },
 "nbformat": 4,
 "nbformat_minor": 5
}
