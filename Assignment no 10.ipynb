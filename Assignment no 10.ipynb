{
 "cells": [
  {
   "cell_type": "markdown",
   "id": "ee356c3e-b77f-40c6-9615-c74596cb0541",
   "metadata": {},
   "source": [
    "Q)1. What is multithreading in python? why is it used? Name the module used to handle threads in python"
   ]
  },
  {
   "cell_type": "markdown",
   "id": "8ad08db2-9a4c-49f5-abc6-51b3b640d50c",
   "metadata": {},
   "source": [
    "Multithreading is defined as the ability of a processor to execute multiple threads concurrently.\n",
    "In a simple, single-core CPU, it is achieved using frequent switching between threads. \n",
    "This is termed context switching. In context switching, the state of a thread is saved and the state of another thread is loaded whenever any interrupt (due to I/O or manually set) takes place. \n",
    "Context switching takes place so frequently that all the threads appear to be running parallelly \n",
    "we use t is an exceptionally valuable strategy for efficient and working on the presentation of an application.\n",
    "Programmers can run multiple subtasks of an application at the same time by using multithreading. It lets threads talk to the same processor and share resources like files, data, and memory.\n",
    "In addition, it makes it easier for the user to continue running a program even when a portion of it is blocked or too long.\n",
    "threading the module used to handle threads in python"
   ]
  },
  {
   "cell_type": "markdown",
   "id": "47a75910-1bb2-42d7-ab84-980e806cab2e",
   "metadata": {},
   "source": [
    "Q)2. Why threading module used? Write the use of the following functions:\n",
    "activeCount()\n",
    "currentThread()\n",
    "enumerate()"
   ]
  },
  {
   "cell_type": "markdown",
   "id": "d5a0f100-5cab-4983-b0c9-a5912f5c6409",
   "metadata": {},
   "source": [
    "Python threading allows you to have different parts of your program run concurrently and can simplify your design.\n",
    "threading.activeCount() − Returns the number of thread objects that are active.\n",
    "threading.currentThread() − Returns the number of thread objects in the caller's thread control.\n",
    "threading.enumerate() − Returns a list of all thread objects that are currently active."
   ]
  },
  {
   "cell_type": "markdown",
   "id": "d0c071e1-61c6-4120-bcaa-a7f5d5c8b9f9",
   "metadata": {},
   "source": [
    "Q)3.Explain the following functions\n",
    "run()\n",
    "start()\n",
    "join()\n",
    "isAlive()"
   ]
  },
  {
   "cell_type": "markdown",
   "id": "5ca1fbb2-2a9f-4088-b6c8-f0dda08c149a",
   "metadata": {},
   "source": [
    "run()  − The run() method is the entry point for a thread.\n",
    "start()  − The start() method starts a thread by calling the run method.\n",
    "join([time])  − The join() waits for threads to terminate.\n",
    "isAlive()  − The isAlive() method checks whether a thread is still executing."
   ]
  },
  {
   "cell_type": "markdown",
   "id": "f54f1427-8d0e-4b67-9c49-2952adb59898",
   "metadata": {},
   "source": [
    "Q)4.Write a python program to create two threads. Thread one must print the list of squares and thread\n",
    "two must print the list of cubes"
   ]
  },
  {
   "cell_type": "code",
   "execution_count": 2,
   "id": "87c49253-506a-4321-8032-b2db552c3cf2",
   "metadata": {},
   "outputs": [],
   "source": [
    "import threading"
   ]
  },
  {
   "cell_type": "code",
   "execution_count": 68,
   "id": "ab35cf09-7217-4790-a40c-f93a505c6c71",
   "metadata": {},
   "outputs": [],
   "source": [
    "def lisi_square():\n",
    "    l=[]\n",
    "    for i in range(1,11):\n",
    "        square=i**2\n",
    "        l.append(square)\n",
    "    print(\"Square of list is:\",l)"
   ]
  },
  {
   "cell_type": "code",
   "execution_count": 69,
   "id": "22105e8d-63db-4690-8f7c-d9693ad18cf3",
   "metadata": {},
   "outputs": [],
   "source": [
    "def list_quabe():\n",
    "    l=[]\n",
    "    for i in range(1,11):\n",
    "        quabe=i**3\n",
    "        l.append(quabe)\n",
    "    print(\"Cube of list is:\",l)"
   ]
  },
  {
   "cell_type": "code",
   "execution_count": 70,
   "id": "78e1ba48-6cf7-4b05-ac29-960a614b697b",
   "metadata": {},
   "outputs": [],
   "source": [
    "data1=threading.Thread(target=lisi_square)"
   ]
  },
  {
   "cell_type": "code",
   "execution_count": 71,
   "id": "bd5cf6b2-5a63-4f5e-8253-1d061e47d69d",
   "metadata": {},
   "outputs": [],
   "source": [
    "data2=threading.Thread(target=list_quabe)"
   ]
  },
  {
   "cell_type": "code",
   "execution_count": 72,
   "id": "7d80062d-d336-4beb-8cd1-403eebdf30da",
   "metadata": {},
   "outputs": [
    {
     "name": "stdout",
     "output_type": "stream",
     "text": [
      "Square of list is: [1, 4, 9, 16, 25, 36, 49, 64, 81, 100]\n",
      "Cube of list is: [1, 8, 27, 64, 125, 216, 343, 512, 729, 1000]\n"
     ]
    }
   ],
   "source": [
    "data1.start()\n",
    "data2.start()\n",
    "data1.join()\n",
    "data2.join()"
   ]
  },
  {
   "cell_type": "markdown",
   "id": "388d7daa-00c2-44a8-8912-943097365e70",
   "metadata": {},
   "source": [
    "Q)5. State advantages and disadvantages of multithreading"
   ]
  },
  {
   "cell_type": "markdown",
   "id": "cf04d419-08fe-4925-a3c7-5731acbc2793",
   "metadata": {},
   "source": [
    "Advantages\n",
    "Responsiveness-Multithreading allows programs to remain responsive and interactive even when performing time-consuming tasks. ,\n",
    "Resource Sharing-Multithreading enables efficient utilization of system resources, such as CPU cycles,\n",
    "Scalability,\n",
    "Better Communication,\n",
    "Minimized system resource usage,\n",
    "\n",
    "Disadvantages\n",
    "It needs more careful synchronization.\n",
    "It can consume a large space of stocks of blocked threads.\n",
    "It needs support for thread or process.\n",
    "If a parent process has several threads for proper process functioning, the child processes should also be multithreaded because they may be required.\n",
    "It imposes context switching overhead.\n"
   ]
  },
  {
   "cell_type": "markdown",
   "id": "7d96d1ff-5b0a-4189-9a6a-ab45dc0e5028",
   "metadata": {},
   "source": [
    "Q)6. Explain deadlocks and race conditions."
   ]
  },
  {
   "cell_type": "code",
   "execution_count": null,
   "id": "28042230-21cd-40a3-bad0-d27bc233ac73",
   "metadata": {},
   "outputs": [],
   "source": [
    "Deadlock:\n",
    "A deadlock is a situation where two or more threads are blocked indefinitely, \n",
    "waiting for each other to release resources that they hold. In a deadlock,\n",
    "none of the involved threads can proceed, resulting in a system halt or unresponsiveness. \n",
    "Deadlocks typically occur when the following four conditions are met simultaneously:Mutual Exclusion,Hold and Wait,No Preemption,Circular Wait\n",
    "Race Condition:\n",
    "A race condition occurs when the behavior of a program depends on the relative timing of events or actions performed by multiple threads. \n",
    "It arises when two or more threads access shared data or resources concurrently, and the final outcome depends on the order of execution. "
   ]
  }
 ],
 "metadata": {
  "kernelspec": {
   "display_name": "Python 3 (ipykernel)",
   "language": "python",
   "name": "python3"
  },
  "language_info": {
   "codemirror_mode": {
    "name": "ipython",
    "version": 3
   },
   "file_extension": ".py",
   "mimetype": "text/x-python",
   "name": "python",
   "nbconvert_exporter": "python",
   "pygments_lexer": "ipython3",
   "version": "3.10.8"
  }
 },
 "nbformat": 4,
 "nbformat_minor": 5
}
