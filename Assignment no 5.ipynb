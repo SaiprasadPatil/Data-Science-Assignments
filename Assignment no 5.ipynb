{
 "cells": [
  {
   "cell_type": "code",
   "execution_count": 1,
   "id": "70f59b6a-ffbb-49c8-a6e0-40b4a96b425f",
   "metadata": {},
   "outputs": [],
   "source": [
    "#Q1, Create a vehicle class with an init method having instance variables as name_of_vehicle, max_speed\n",
    "#and average_of_vehicle."
   ]
  },
  {
   "cell_type": "code",
   "execution_count": 2,
   "id": "b5beaa0b-7a80-4bc3-8879-1b3b203b7921",
   "metadata": {},
   "outputs": [],
   "source": [
    "class vehicle:\n",
    "    def __init__(self,name_of_vehicle,max_speed,average_of_vehicle):\n",
    "        self.name_of_vehicle=name_of_vehicle\n",
    "        self.max_speed=max_speed\n",
    "        self.average_of_vehicle=average_of_vehicle\n",
    "        "
   ]
  },
  {
   "cell_type": "code",
   "execution_count": 3,
   "id": "51179ed8-5a95-424a-b622-7b6e3e7e34b7",
   "metadata": {},
   "outputs": [],
   "source": [
    "#Q2. Create a child class car from the vehicle class created in Que 1, which will inherit the vehicle class.\n",
    "#Create a method named seating_capacity which takes capacity as an argument and returns the name of\n",
    "#the vehicle and its seating capacity."
   ]
  },
  {
   "cell_type": "code",
   "execution_count": 10,
   "id": "20651ef8-9154-4b0c-b731-81527eaba143",
   "metadata": {},
   "outputs": [],
   "source": [
    "class vehicle:\n",
    "    def __init__(self,name_of_vehicle,max_speed,average_of_vehicle):\n",
    "        self.name_of_vehicle=name_of_vehicle\n",
    "        self.max_speed=max_speed\n",
    "        self.average_of_vehicle=average_of_vehicle\n",
    "class car(vehicle):\n",
    "    def seating_capacity(self,capacity):\n",
    "        self.capacity=capacity\n",
    "        return (self.name_of_vehicle,self.capacity)"
   ]
  },
  {
   "cell_type": "code",
   "execution_count": 14,
   "id": "2fe35293-9ade-443d-bb4a-afc5d4a40cce",
   "metadata": {},
   "outputs": [],
   "source": [
    "s=car(\"Audi\",100,25)"
   ]
  },
  {
   "cell_type": "code",
   "execution_count": 15,
   "id": "63e65090-0b92-4386-a9e4-30a35c564d8f",
   "metadata": {},
   "outputs": [
    {
     "data": {
      "text/plain": [
       "('Audi', 5)"
      ]
     },
     "execution_count": 15,
     "metadata": {},
     "output_type": "execute_result"
    }
   ],
   "source": [
    "s.seating_capacity(5)"
   ]
  },
  {
   "cell_type": "code",
   "execution_count": 16,
   "id": "bb3ae25f-52d9-46c5-a4af-11d74f8ca01b",
   "metadata": {},
   "outputs": [],
   "source": [
    "#Q3. What is multiple inheritance? Write a python code to demonstrate multiple inheritance.\n",
    "#Multiple Inheritance is a class can inherit from more than one classes."
   ]
  },
  {
   "cell_type": "code",
   "execution_count": 30,
   "id": "32eafa3e-d0c8-4206-9244-2cba0de6d15a",
   "metadata": {},
   "outputs": [],
   "source": [
    "class A:\n",
    "    def method1(self):\n",
    "        print(\"class of A\")\n",
    "class B:\n",
    "    def method2(self):\n",
    "        print(\"class of B\")\n",
    "class C(A,B):\n",
    "    def method3(self):\n",
    "        print(\"class of C\")\n",
    "        "
   ]
  },
  {
   "cell_type": "code",
   "execution_count": 31,
   "id": "b57713d2-e98d-45a4-ad41-862bb60f93dc",
   "metadata": {},
   "outputs": [],
   "source": [
    "c=C()"
   ]
  },
  {
   "cell_type": "code",
   "execution_count": 34,
   "id": "56239af1-2a6b-4db2-99b5-851ba7d7ac5e",
   "metadata": {},
   "outputs": [
    {
     "name": "stdout",
     "output_type": "stream",
     "text": [
      "class of C\n",
      "class of B\n",
      "class of A\n"
     ]
    }
   ],
   "source": [
    "c.method3()\n",
    "c.method2()\n",
    "c.method1()"
   ]
  },
  {
   "cell_type": "code",
   "execution_count": 35,
   "id": "7654f05d-12f1-4be9-a7db-6af73585fe16",
   "metadata": {},
   "outputs": [],
   "source": [
    "#Q4. What are getter and setter in python? Create a class and create a getter and a setter method in this\n",
    "#class.\n",
    "#Getter: A method that allows you to access an attribute in a given class\n",
    "#Setter: A method that allows you to set or mutate the value of an attribute in a class"
   ]
  },
  {
   "cell_type": "code",
   "execution_count": 37,
   "id": "fd7450fb-ed28-41a3-9d33-b8546304ba4e",
   "metadata": {},
   "outputs": [],
   "source": [
    "class test:\n",
    "    def __init__(self,age):\n",
    "        self._age=age\n",
    "        \n",
    "    def get_age(self):\n",
    "        return self._age\n",
    "    def set_age(self,x):\n",
    "        self._age=x"
   ]
  },
  {
   "cell_type": "code",
   "execution_count": 39,
   "id": "096ad567-e775-4db8-94d3-d138286627f1",
   "metadata": {},
   "outputs": [],
   "source": [
    "t=test(21)"
   ]
  },
  {
   "cell_type": "code",
   "execution_count": 40,
   "id": "7a4dc713-2614-4768-91c0-397f16e2bb04",
   "metadata": {},
   "outputs": [
    {
     "data": {
      "text/plain": [
       "21"
      ]
     },
     "execution_count": 40,
     "metadata": {},
     "output_type": "execute_result"
    }
   ],
   "source": [
    "t.get_age()"
   ]
  },
  {
   "cell_type": "code",
   "execution_count": 41,
   "id": "35ac2f25-175d-47e1-9ad3-d402580ac9a3",
   "metadata": {},
   "outputs": [],
   "source": [
    "t.set_age(20)"
   ]
  },
  {
   "cell_type": "code",
   "execution_count": 42,
   "id": "07e17ad0-4fbb-41ac-accb-5be9a7e6ac59",
   "metadata": {},
   "outputs": [
    {
     "data": {
      "text/plain": [
       "20"
      ]
     },
     "execution_count": 42,
     "metadata": {},
     "output_type": "execute_result"
    }
   ],
   "source": [
    "t.get_age()"
   ]
  },
  {
   "cell_type": "code",
   "execution_count": 43,
   "id": "0049ef32-3257-40b6-b5d7-69107fa36001",
   "metadata": {},
   "outputs": [],
   "source": [
    "#Q5.What is method overriding in python? Write a python code to demonstrate method overriding.\n",
    "#Method overriding is an ability of any object-oriented programming language that allows a subclass or \n",
    "#child class to provide a specific implementation of a method that is already provided by one of its \n",
    "#super-classes or parent classes. When a method in a subclass has the same name, same parameters or \n",
    "#signature and same return type(or sub-type) as a method in its super-class, then the method in the subclass\n",
    "#is said to override the method in the super-class."
   ]
  },
  {
   "cell_type": "code",
   "execution_count": 57,
   "id": "438d081c-f900-49a5-8f80-8e7d6c126c13",
   "metadata": {},
   "outputs": [],
   "source": [
    "class A:\n",
    "    def __init__(self):\n",
    "        self.value=\"Inside Parent\"\n",
    "    def show(self): \n",
    "        return self.value\n",
    "class B(A):\n",
    "    def __init__(self):\n",
    "        self.value=\"Inside Child\"\n",
    "    def show(self): \n",
    "        return self.value        "
   ]
  },
  {
   "cell_type": "code",
   "execution_count": 58,
   "id": "57da29d0-a9f9-4d99-83d9-c89952b71bb8",
   "metadata": {},
   "outputs": [],
   "source": [
    "b=B()\n",
    "a=A()"
   ]
  },
  {
   "cell_type": "code",
   "execution_count": 61,
   "id": "5e2072be-f93c-4ef2-9111-21bfd50044fd",
   "metadata": {},
   "outputs": [
    {
     "data": {
      "text/plain": [
       "'Inside Child'"
      ]
     },
     "execution_count": 61,
     "metadata": {},
     "output_type": "execute_result"
    }
   ],
   "source": [
    "b.show()"
   ]
  },
  {
   "cell_type": "code",
   "execution_count": 62,
   "id": "8af62076-a0e9-4306-ab0d-e69039859d9a",
   "metadata": {},
   "outputs": [
    {
     "data": {
      "text/plain": [
       "'Inside Parent'"
      ]
     },
     "execution_count": 62,
     "metadata": {},
     "output_type": "execute_result"
    }
   ],
   "source": [
    "a.show()"
   ]
  },
  {
   "cell_type": "code",
   "execution_count": null,
   "id": "a1dca815-8ba5-468a-a36e-b1dc928ae0c7",
   "metadata": {},
   "outputs": [],
   "source": []
  }
 ],
 "metadata": {
  "kernelspec": {
   "display_name": "Python 3 (ipykernel)",
   "language": "python",
   "name": "python3"
  },
  "language_info": {
   "codemirror_mode": {
    "name": "ipython",
    "version": 3
   },
   "file_extension": ".py",
   "mimetype": "text/x-python",
   "name": "python",
   "nbconvert_exporter": "python",
   "pygments_lexer": "ipython3",
   "version": "3.10.8"
  }
 },
 "nbformat": 4,
 "nbformat_minor": 5
}
