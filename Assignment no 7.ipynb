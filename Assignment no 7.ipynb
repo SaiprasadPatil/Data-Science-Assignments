{
 "cells": [
  {
   "cell_type": "markdown",
   "id": "6dce4994-4795-43b5-a3c2-f028d26b68a3",
   "metadata": {},
   "source": [
    "Q1. What is Abstraction in OOps? Explain with an example."
   ]
  },
  {
   "cell_type": "code",
   "execution_count": 2,
   "id": "fc84da7d-8783-43fd-8429-25ec2c411260",
   "metadata": {},
   "outputs": [],
   "source": [
    "import abc\n",
    "class test1:\n",
    "    @abc.abstractmethod\n",
    "    def student1(self):\n",
    "        pass\n",
    "    @abc.abstractmethod\n",
    "    def student2(self):\n",
    "        pass\n",
    "    "
   ]
  },
  {
   "cell_type": "code",
   "execution_count": 3,
   "id": "8e8735db-a7c2-4a4c-9355-c1acb6670eea",
   "metadata": {},
   "outputs": [],
   "source": [
    "class student_info(test1):\n",
    "     \n",
    "    def student1(self):\n",
    "        return \"This is student 1\"    \n",
    "    def student2(self):\n",
    "        return \"This is student 2\""
   ]
  },
  {
   "cell_type": "code",
   "execution_count": 4,
   "id": "bb3f74e8-3410-47b5-aa5b-8174a5c3b8b7",
   "metadata": {},
   "outputs": [],
   "source": [
    "class student_roll_no(test1):\n",
    "     \n",
    "    def student1(self):\n",
    "        return \"This is student 1 roll no is 45\"    \n",
    "    def student2(self):\n",
    "        return \"This is student 2 roll no is 13\""
   ]
  },
  {
   "cell_type": "code",
   "execution_count": 5,
   "id": "37e1c3e8-df7f-4db2-a15e-c57f22b6bab4",
   "metadata": {},
   "outputs": [],
   "source": [
    "s=student_roll_no()"
   ]
  },
  {
   "cell_type": "code",
   "execution_count": 7,
   "id": "7b269849-cb86-4420-9736-c1c7122079fc",
   "metadata": {},
   "outputs": [
    {
     "data": {
      "text/plain": [
       "'This is student 1 roll no is 45'"
      ]
     },
     "execution_count": 7,
     "metadata": {},
     "output_type": "execute_result"
    }
   ],
   "source": [
    "s.student1()"
   ]
  },
  {
   "cell_type": "code",
   "execution_count": 9,
   "id": "648e0f8f-e52b-4213-b267-cf90c643ed87",
   "metadata": {},
   "outputs": [
    {
     "data": {
      "text/plain": [
       "'This is student 2 roll no is 13'"
      ]
     },
     "execution_count": 9,
     "metadata": {},
     "output_type": "execute_result"
    }
   ],
   "source": [
    "s.student2()"
   ]
  },
  {
   "cell_type": "code",
   "execution_count": 10,
   "id": "cedf0ac1-09fc-4699-97f3-73d4ceef3456",
   "metadata": {},
   "outputs": [],
   "source": [
    "s1=student_roll_no()"
   ]
  },
  {
   "cell_type": "code",
   "execution_count": 14,
   "id": "65c1b054-518a-48df-8321-1bb7dd6108c6",
   "metadata": {},
   "outputs": [
    {
     "data": {
      "text/plain": [
       "'This is student 1 roll no is 45'"
      ]
     },
     "execution_count": 14,
     "metadata": {},
     "output_type": "execute_result"
    }
   ],
   "source": [
    "s1.student1()"
   ]
  },
  {
   "cell_type": "code",
   "execution_count": 13,
   "id": "94a240e1-10c0-48f5-986f-4b64ea884b31",
   "metadata": {},
   "outputs": [
    {
     "data": {
      "text/plain": [
       "'This is student 2 roll no is 13'"
      ]
     },
     "execution_count": 13,
     "metadata": {},
     "output_type": "execute_result"
    }
   ],
   "source": [
    "s1.student2()"
   ]
  },
  {
   "cell_type": "markdown",
   "id": "a1ecdb49-35aa-4d17-bd69-ad6962be3093",
   "metadata": {},
   "source": [
    "Q2. Differentiate between Abstraction and Encapsulation. Explain with an example."
   ]
  },
  {
   "cell_type": "markdown",
   "id": "724c4ab6-13a5-44a1-880f-e30768fa784e",
   "metadata": {},
   "source": [
    "Abstraction is defined as a process of hiding the implementation details of a system from the user. \n",
    "Thus, by using abstraction, we provided only the functionality of the system to the user. Consequently, the user will have information on \n",
    "what the system does, but not on how the system does it."
   ]
  },
  {
   "cell_type": "markdown",
   "id": "16ce29bf-9bd5-4582-b0df-b4ef072f92c1",
   "metadata": {},
   "source": [
    "Encapsulation is one of the fundamental OOP concepts. Encapsulation is defined as a method by which data wrapping\n",
    "is done into a single unit. It is used in wrapping up the data and the code acting on the data together as a single unit."
   ]
  },
  {
   "cell_type": "code",
   "execution_count": 16,
   "id": "a8ebfe42-4504-46c7-86f8-0482d1ec8f57",
   "metadata": {},
   "outputs": [],
   "source": [
    "#abstraction"
   ]
  },
  {
   "cell_type": "code",
   "execution_count": 17,
   "id": "768c03b2-7a08-4a9f-b901-c0648ecadfae",
   "metadata": {},
   "outputs": [],
   "source": [
    "import abc\n",
    "class car:\n",
    "    @abc.abstractmethod\n",
    "    def milage(self):\n",
    "        pass "
   ]
  },
  {
   "cell_type": "code",
   "execution_count": 18,
   "id": "6d3edd82-71ab-497c-922a-6dbe9f865db7",
   "metadata": {},
   "outputs": [],
   "source": [
    "class suzuki(car):\n",
    "    def milage(self):\n",
    "        return \"suzuki milage is 25\""
   ]
  },
  {
   "cell_type": "code",
   "execution_count": 19,
   "id": "1a66787b-949a-453e-a669-2e0d0a67d2f8",
   "metadata": {},
   "outputs": [],
   "source": [
    "class maruti(car):\n",
    "    def milage(self):\n",
    "        return \"suzuki milage is 20\""
   ]
  },
  {
   "cell_type": "code",
   "execution_count": 20,
   "id": "c6548781-22dd-4814-818d-6aca0e8519b8",
   "metadata": {},
   "outputs": [],
   "source": [
    "s=suzuki()"
   ]
  },
  {
   "cell_type": "code",
   "execution_count": 22,
   "id": "12c60915-1df0-4598-b4df-0c23bfeb983c",
   "metadata": {},
   "outputs": [
    {
     "data": {
      "text/plain": [
       "'suzuki milage is 25'"
      ]
     },
     "execution_count": 22,
     "metadata": {},
     "output_type": "execute_result"
    }
   ],
   "source": [
    "s.milage()"
   ]
  },
  {
   "cell_type": "code",
   "execution_count": 23,
   "id": "9146eb05-8cc6-42cf-8003-1866356fcabe",
   "metadata": {},
   "outputs": [],
   "source": [
    "m=maruti()"
   ]
  },
  {
   "cell_type": "code",
   "execution_count": 24,
   "id": "f67af108-8f69-436f-98f2-309244c33f37",
   "metadata": {},
   "outputs": [
    {
     "data": {
      "text/plain": [
       "'suzuki milage is 20'"
      ]
     },
     "execution_count": 24,
     "metadata": {},
     "output_type": "execute_result"
    }
   ],
   "source": [
    "m.milage()"
   ]
  },
  {
   "cell_type": "code",
   "execution_count": 25,
   "id": "58da9954-3fe5-4abd-9b02-e7e2e33c9155",
   "metadata": {},
   "outputs": [],
   "source": [
    "#Enapsulation"
   ]
  },
  {
   "cell_type": "code",
   "execution_count": 33,
   "id": "6987b6ef-bca7-4766-a1db-cd1053a02802",
   "metadata": {},
   "outputs": [],
   "source": [
    "class student:\n",
    "    def __init__(self,name,mobile):\n",
    "        self.__name=name\n",
    "        self.__mobile=mobile\n",
    "    def show(self):\n",
    "        return self.__name,self.__mobile\n",
    "    "
   ]
  },
  {
   "cell_type": "code",
   "execution_count": 34,
   "id": "d7a74110-cf60-46dd-85f5-59b1b3e3973a",
   "metadata": {},
   "outputs": [],
   "source": [
    "s=student(\"sai\",9347163252652)"
   ]
  },
  {
   "cell_type": "code",
   "execution_count": 35,
   "id": "97ff5e97-f8b6-424f-830f-8cbbba08e764",
   "metadata": {},
   "outputs": [
    {
     "data": {
      "text/plain": [
       "('sai', 9347163252652)"
      ]
     },
     "execution_count": 35,
     "metadata": {},
     "output_type": "execute_result"
    }
   ],
   "source": [
    "s.show()"
   ]
  },
  {
   "cell_type": "code",
   "execution_count": 38,
   "id": "d4e1b726-7948-4234-88b6-e25d5360a059",
   "metadata": {},
   "outputs": [
    {
     "data": {
      "text/plain": [
       "'sai'"
      ]
     },
     "execution_count": 38,
     "metadata": {},
     "output_type": "execute_result"
    }
   ],
   "source": [
    "s._student__name"
   ]
  },
  {
   "cell_type": "code",
   "execution_count": 40,
   "id": "ff569956-34af-4970-9318-20430c878831",
   "metadata": {},
   "outputs": [
    {
     "data": {
      "text/plain": [
       "9347163252652"
      ]
     },
     "execution_count": 40,
     "metadata": {},
     "output_type": "execute_result"
    }
   ],
   "source": [
    "s._student__mobile"
   ]
  },
  {
   "cell_type": "markdown",
   "id": "007ee475-6f0f-47d1-a720-8c41ca25ab47",
   "metadata": {},
   "source": [
    "Q3. What is abc module in python? Why is it used?"
   ]
  },
  {
   "cell_type": "code",
   "execution_count": null,
   "id": "007b6d77-544d-4238-af30-5de0cf77a819",
   "metadata": {},
   "outputs": [],
   "source": [
    "In Python, the abc module stands for \"Abstract Base Classes.\" It provides a mechanism\n",
    "for defining abstract base classes in Python. An abstract base class is a class that \n",
    "cannot be instantiated directly but is meant to serve as a common interface or blueprint for its subclasses.\n",
    "it is used for Defining Abstract Base Classes "
   ]
  },
  {
   "cell_type": "markdown",
   "id": "5f7e5e94-651e-4539-a80d-03c891e219f3",
   "metadata": {},
   "source": [
    "Q4. How can we achieve data abstraction?"
   ]
  },
  {
   "cell_type": "markdown",
   "id": "537dc219-47d6-4986-a4b0-ec9b15dd36b9",
   "metadata": {},
   "source": [
    "An abstraction can be achieved using classes. A class is used to group all the data members and member\n",
    "functions into a single unit by using the access specifiers.\n",
    "A class has the responsibility to determine which data member is to be visible outside and which is not.\n",
    "Public specifier: When the members are declared as public, members can be accessed anywhere from the program.\n",
    "Private specifier: When the members are declared as private, members can only be accessed only by the member functions of the class."
   ]
  },
  {
   "cell_type": "markdown",
   "id": "bdcd0cac-bc33-4f92-9cbf-47656bc3f8fe",
   "metadata": {},
   "source": [
    "Q5. Can we create an instance of an abstract class? Explain your answer."
   ]
  },
  {
   "cell_type": "markdown",
   "id": "c0191c11-4039-443c-9338-bb7f32692a38",
   "metadata": {},
   "source": [
    "No, we cannot create an instance of an abstract class in most programming languages. An abstract class is\n",
    "a class that is declared with the intention of being inherited by subclasses, but it cannot be instantiated on its own.\n",
    "The main purpose of an abstract class is to provide a common interface and define common behavior \n",
    "for its subclasses. It usually contains abstract methods, which are methods without an implementation. \n",
    "Subclasses must provide concrete implementations for these abstract methods."
   ]
  }
 ],
 "metadata": {
  "kernelspec": {
   "display_name": "Python 3 (ipykernel)",
   "language": "python",
   "name": "python3"
  },
  "language_info": {
   "codemirror_mode": {
    "name": "ipython",
    "version": 3
   },
   "file_extension": ".py",
   "mimetype": "text/x-python",
   "name": "python",
   "nbconvert_exporter": "python",
   "pygments_lexer": "ipython3",
   "version": "3.10.8"
  }
 },
 "nbformat": 4,
 "nbformat_minor": 5
}
