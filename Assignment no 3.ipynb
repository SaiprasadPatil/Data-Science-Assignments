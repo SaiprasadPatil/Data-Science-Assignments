{
 "cells": [
  {
   "cell_type": "code",
   "execution_count": 11,
   "id": "f57bbeb0-2399-4c6d-898d-c6100a12ca88",
   "metadata": {},
   "outputs": [
    {
     "data": {
      "text/plain": [
       "[1, 3, 5, 7, 9, 11, 13, 15, 17, 19, 21, 23]"
      ]
     },
     "execution_count": 11,
     "metadata": {},
     "output_type": "execute_result"
    }
   ],
   "source": [
    "#####Q1. Which keyword is used to create a function? Create a function to return a list of odd numbers in the\n",
    "#range of 1 to 25.\n",
    "# def keyword is used to create a function\n",
    "l=[]\n",
    "def odd():\n",
    "    for i in range(1,25):\n",
    "        if i%2!=0:\n",
    "            l.append(i)\n",
    "    return l  \n",
    "odd()"
   ]
  },
  {
   "cell_type": "code",
   "execution_count": 20,
   "id": "d401d4c8-5f02-4824-8d81-78bbb4f47e82",
   "metadata": {},
   "outputs": [
    {
     "data": {
      "text/plain": [
       "(1, 2, 3, 'sai')"
      ]
     },
     "execution_count": 20,
     "metadata": {},
     "output_type": "execute_result"
    }
   ],
   "source": [
    "#Q2. Why *args and **kwargs is used in some functions? Create a function each for *args and **kwargs\n",
    "#to demonstrate their use.\n",
    "#*args it is store finite element and perform tuple opeartions\n",
    "#**args it is store finite element and perform dictionary opeartions\n",
    "def test(*args):\n",
    "    return args\n",
    "type(test())   \n",
    "test(1,2,3,\"sai\")"
   ]
  },
  {
   "cell_type": "code",
   "execution_count": 21,
   "id": "a9e2bccb-889f-417c-9c6d-6a5fdf601495",
   "metadata": {},
   "outputs": [
    {
     "data": {
      "text/plain": [
       "tuple"
      ]
     },
     "execution_count": 21,
     "metadata": {},
     "output_type": "execute_result"
    }
   ],
   "source": [
    "type(test())"
   ]
  },
  {
   "cell_type": "code",
   "execution_count": 27,
   "id": "ba07d427-1ee7-4de5-999d-1af4515e8acd",
   "metadata": {},
   "outputs": [
    {
     "data": {
      "text/plain": [
       "{'x': 'saiprasad', 'y': 'patil', 'z': 'sai'}"
      ]
     },
     "execution_count": 27,
     "metadata": {},
     "output_type": "execute_result"
    }
   ],
   "source": [
    "def test1(**args):\n",
    "    return args\n",
    "  \n",
    "test1(x = \"saiprasad\",y=\"patil\",z=\"sai\")"
   ]
  },
  {
   "cell_type": "code",
   "execution_count": 28,
   "id": "0f2f41c8-e196-447c-a8d9-d30686253524",
   "metadata": {},
   "outputs": [
    {
     "data": {
      "text/plain": [
       "dict"
      ]
     },
     "execution_count": 28,
     "metadata": {},
     "output_type": "execute_result"
    }
   ],
   "source": [
    "type(test1())"
   ]
  },
  {
   "cell_type": "code",
   "execution_count": 44,
   "id": "071485ed-8f94-43e1-8d7f-f5eb0015a715",
   "metadata": {},
   "outputs": [
    {
     "data": {
      "text/plain": [
       "[2, 4, 6, 8, 10]"
      ]
     },
     "execution_count": 44,
     "metadata": {},
     "output_type": "execute_result"
    }
   ],
   "source": [
    "#Q3. What is an iterator in python? Name the method used to initialise the iterator object and the method\n",
    "#used for iteration. Use these methods to print the first five elements of the given list [2, 4, 6, 8, 10, 12, 14,\n",
    "#16, 18, 20].\n",
    "#An iterator is an object that contains a countable number of values.Lists, tuples, dictionaries, and sets are all iterable objects.\n",
    "l1= [2, 4, 6, 8, 10, 12, 14, 16, 18, 20]\n",
    "l1[0:5:1] \n"
   ]
  },
  {
   "cell_type": "code",
   "execution_count": 10,
   "id": "bae4b7db-c7e4-4fd1-b08e-a154c232a77c",
   "metadata": {},
   "outputs": [],
   "source": [
    "#Q4. What is a generator function in python? Why yield keyword is used? Give an example of a generator\n",
    "#function.\n",
    "##In Python, a generator is a function that returns an iterator that produces a sequence of values when iterated over.\n",
    "##yield function is contol the flow of genrator function and it is sequancely executed when it call.\n",
    "def count1(n):\n",
    "    count=0\n",
    "    while count<=n:\n",
    "        yield count\n",
    "        count=count+1"
   ]
  },
  {
   "cell_type": "code",
   "execution_count": 11,
   "id": "db58a531-1b6f-451d-b6d7-ca8ef02d83c5",
   "metadata": {},
   "outputs": [],
   "source": [
    "c=count1(10)"
   ]
  },
  {
   "cell_type": "code",
   "execution_count": 12,
   "id": "50a26b3c-c378-4214-b58e-292c94cb2114",
   "metadata": {},
   "outputs": [
    {
     "name": "stdout",
     "output_type": "stream",
     "text": [
      "0\n",
      "1\n",
      "2\n",
      "3\n",
      "4\n",
      "5\n",
      "6\n",
      "7\n",
      "8\n",
      "9\n",
      "10\n"
     ]
    }
   ],
   "source": [
    "for i in c:\n",
    "    print(i)"
   ]
  },
  {
   "cell_type": "code",
   "execution_count": 14,
   "id": "3297df6c-2822-4e96-b03a-04fa52d04fba",
   "metadata": {},
   "outputs": [
    {
     "data": {
      "text/plain": [
       "generator"
      ]
     },
     "execution_count": 14,
     "metadata": {},
     "output_type": "execute_result"
    }
   ],
   "source": [
    "type(c)"
   ]
  },
  {
   "cell_type": "code",
   "execution_count": 55,
   "id": "3b581497-3eeb-4949-ad7d-004d672673df",
   "metadata": {},
   "outputs": [],
   "source": [
    "#Q5. Create a generator function for prime numbers less than 1000. Use the next() method to print the\n",
    "#first 20 prime numbers.\n",
    "def prime_generator():\n",
    "    primes = []\n",
    "    num = 2\n",
    "    while num < 1000:\n",
    "        is_prime = True\n",
    "        for prime in primes:\n",
    "            if num % prime == 0:\n",
    "                is_prime = False\n",
    "                break\n",
    "        if is_prime:\n",
    "            primes.append(num)\n",
    "            yield num\n",
    "        num =num+1\n"
   ]
  },
  {
   "cell_type": "code",
   "execution_count": 56,
   "id": "86d12033-a48f-4cbe-82d0-642d8419edc6",
   "metadata": {},
   "outputs": [
    {
     "name": "stdout",
     "output_type": "stream",
     "text": [
      "2\n",
      "3\n",
      "5\n",
      "7\n",
      "11\n",
      "13\n",
      "17\n",
      "19\n",
      "23\n",
      "29\n",
      "31\n",
      "37\n",
      "41\n",
      "43\n",
      "47\n",
      "53\n",
      "59\n",
      "61\n",
      "67\n",
      "71\n"
     ]
    }
   ],
   "source": [
    "generator = prime_generator()\n",
    "for _ in range(20):\n",
    "    prime = next(generator)\n",
    "    print(prime)\n"
   ]
  },
  {
   "cell_type": "code",
   "execution_count": 57,
   "id": "3ed78a32-058d-40be-bd2a-f035532d74db",
   "metadata": {},
   "outputs": [
    {
     "name": "stdout",
     "output_type": "stream",
     "text": [
      "0\n",
      "1\n",
      "1\n",
      "2\n",
      "3\n",
      "5\n",
      "8\n",
      "13\n",
      "21\n",
      "34\n"
     ]
    }
   ],
   "source": [
    "#Q6. Write a python program to print the first 10 Fibonacci numbers using a while loop.\n",
    "def fibonacci():\n",
    "    a, b = 0, 1\n",
    "    count = 0\n",
    "    while count < 10:\n",
    "        print(a)\n",
    "        a, b = b, a + b\n",
    "        count += 1\n",
    "\n",
    "fibonacci()\n"
   ]
  },
  {
   "cell_type": "code",
   "execution_count": 83,
   "id": "205e212c-5c2d-414e-8d2b-9c6f0c49972b",
   "metadata": {},
   "outputs": [],
   "source": [
    "#Q7. Write a List Comprehension to iterate through the given string: ‘pwskills’.\n",
    "#Expected output: ['p', 'w', 's', 'k', 'i', 'l', 'l', 's']\n",
    "l=[]\n",
    "def test():\n",
    "    s=\"pwskills\"\n",
    "    for i in s:\n",
    "         l.append(i)\n",
    "    return l"
   ]
  },
  {
   "cell_type": "code",
   "execution_count": 84,
   "id": "ae67da51-9347-405e-a666-a9333a03d0b4",
   "metadata": {},
   "outputs": [
    {
     "data": {
      "text/plain": [
       "['p', 'w', 's', 'k', 'i', 'l', 'l', 's']"
      ]
     },
     "execution_count": 84,
     "metadata": {},
     "output_type": "execute_result"
    }
   ],
   "source": [
    "test()"
   ]
  },
  {
   "cell_type": "code",
   "execution_count": 96,
   "id": "f2694088-8ac4-415f-b4df-0a4a3c1afdcf",
   "metadata": {},
   "outputs": [
    {
     "name": "stdin",
     "output_type": "stream",
     "text": [
      "Enter number: 121\n"
     ]
    },
    {
     "name": "stdout",
     "output_type": "stream",
     "text": [
      "The number is a palindrome!\n"
     ]
    }
   ],
   "source": [
    "#Write a python program to check whether a given number is Palindrome or not using a while loop.\n",
    "n=int(input(\"Enter number:\"))\n",
    "temp=n\n",
    "rev=0\n",
    "while(n>0):\n",
    "    a=n%10\n",
    "    rev=rev*10+a\n",
    "    n=n//10\n",
    "if(temp==rev):\n",
    "    print(\"The number is a palindrome\")\n",
    "else:\n",
    "    print(\"The number isn't a palindrome\")"
   ]
  },
  {
   "cell_type": "code",
   "execution_count": 89,
   "id": "5ae90dfa-1962-446e-9336-6472804843ab",
   "metadata": {},
   "outputs": [
    {
     "data": {
      "text/plain": [
       "[1,\n",
       " 3,\n",
       " 5,\n",
       " 7,\n",
       " 9,\n",
       " 11,\n",
       " 13,\n",
       " 15,\n",
       " 17,\n",
       " 19,\n",
       " 21,\n",
       " 23,\n",
       " 25,\n",
       " 27,\n",
       " 29,\n",
       " 31,\n",
       " 33,\n",
       " 35,\n",
       " 37,\n",
       " 39,\n",
       " 41,\n",
       " 43,\n",
       " 45,\n",
       " 47,\n",
       " 49,\n",
       " 51,\n",
       " 53,\n",
       " 55,\n",
       " 57,\n",
       " 59,\n",
       " 61,\n",
       " 63,\n",
       " 65,\n",
       " 67,\n",
       " 69,\n",
       " 71,\n",
       " 73,\n",
       " 75,\n",
       " 77,\n",
       " 79,\n",
       " 81,\n",
       " 83,\n",
       " 85,\n",
       " 87,\n",
       " 89,\n",
       " 91,\n",
       " 93,\n",
       " 95,\n",
       " 97,\n",
       " 99]"
      ]
     },
     "execution_count": 89,
     "metadata": {},
     "output_type": "execute_result"
    }
   ],
   "source": [
    "#Q9. Write a code to print odd numbers from 1 to 100 using list comprehension.\n",
    "#Note: Use a list comprehension to create a list from 1 to 100 and use another List comprehension to filter\n",
    "#out odd numbers.\n",
    "l=range(1,100)\n",
    "l1=list(filter(lambda x: x%2!=0,l))\n",
    "l1"
   ]
  },
  {
   "cell_type": "code",
   "execution_count": null,
   "id": "ffed4775-e92f-4eab-868f-5fa500745b30",
   "metadata": {},
   "outputs": [],
   "source": []
  }
 ],
 "metadata": {
  "kernelspec": {
   "display_name": "Python 3 (ipykernel)",
   "language": "python",
   "name": "python3"
  },
  "language_info": {
   "codemirror_mode": {
    "name": "ipython",
    "version": 3
   },
   "file_extension": ".py",
   "mimetype": "text/x-python",
   "name": "python",
   "nbconvert_exporter": "python",
   "pygments_lexer": "ipython3",
   "version": "3.10.8"
  }
 },
 "nbformat": 4,
 "nbformat_minor": 5
}
