{
 "cells": [
  {
   "cell_type": "markdown",
   "id": "7310f6b2-e09d-4199-b305-f635735b5203",
   "metadata": {},
   "source": [
    "Q1. What is the Probability density function?"
   ]
  },
  {
   "cell_type": "markdown",
   "id": "c86e1ea3-9846-4419-b6ad-29573801c7a4",
   "metadata": {},
   "source": [
    "The probability density function (PDF) is a concept in probability theory and statistics. It describes the likelihood of a continuous random variable taking on a specific value within a given range. Unlike the probability mass function (PMF) used for discrete random variables, which gives the probability of each possible value, the PDF gives the relative likelihood of different outcomes within a continuous range."
   ]
  },
  {
   "cell_type": "markdown",
   "id": "9c0281a8-49de-42a8-889a-f5c437c3ffaa",
   "metadata": {},
   "source": [
    "Q2. What are the types of Probability distribution?"
   ]
  },
  {
   "cell_type": "markdown",
   "id": "8838ad8d-3823-4b48-aeb7-1030ea7a9267",
   "metadata": {},
   "source": [
    "Discrete Probability Distributions: These distributions describe the probabilities of discrete random variables. Examples include:\n",
    "\n",
    "Bernoulli Distribution: Models the outcome of a single binary experiment (success/failure).\n",
    "Binomial Distribution: Describes the number of successes in a fixed number of independent Bernoulli trials.\n",
    "Poisson Distribution: Models the number of events occurring in a fixed interval of time or space.\n",
    "Continuous Probability Distributions: These distributions describe the probabilities of continuous random variables. Examples include:\n",
    "\n",
    "Normal (Gaussian) Distribution: Characterized by a symmetric bell-shaped curve and commonly used in many fields due to the Central Limit Theorem.\n",
    "Uniform Distribution: All outcomes in a given range are equally likely.\n",
    "Exponential Distribution: Models the time between events in a Poisson process, such as the time between arrivals of customers at a service point.\n",
    "\n",
    "Chi-Squared Distribution: Distribution of the sum of the squares of independent standard normal random variables, commonly used in hypothesis testing and confidence interval estimation.\n",
    "\n",
    "F-Distribution: Ratio of two independent chi-squared distributions, often used in analysis of variance (ANOVA) and regression analysis."
   ]
  },
  {
   "cell_type": "markdown",
   "id": "9c3f9d9a-4e82-4cdd-bda4-340c96a0ab80",
   "metadata": {},
   "source": [
    "Q3. Write a Python function to calculate the probability density function of a normal distribution with\n",
    "given mean and standard deviation at a given point."
   ]
  },
  {
   "cell_type": "code",
   "execution_count": 1,
   "id": "c8b54798-374a-485f-81b6-011839889ea1",
   "metadata": {},
   "outputs": [
    {
     "name": "stdout",
     "output_type": "stream",
     "text": [
      "PDF at x = 1 : 0.24197072451914337\n"
     ]
    }
   ],
   "source": [
    "import math\n",
    "\n",
    "def normal_pdf(x, mean, std_dev):\n",
    "    exponent = -0.5 * ((x - mean) / std_dev) ** 2\n",
    "    coefficient = 1 / (std_dev * math.sqrt(2 * math.pi))\n",
    "    pdf_value = coefficient * math.exp(exponent)\n",
    "    return pdf_value\n",
    "\n",
    "mean = 0\n",
    "std_dev = 1\n",
    "x = 1\n",
    "pdf_at_x = normal_pdf(x, mean, std_dev)\n",
    "print(\"PDF at x =\", x, \":\", pdf_at_x)\n"
   ]
  },
  {
   "cell_type": "markdown",
   "id": "3b50a7a6-098e-4e7c-ab20-4aebf45e1b4f",
   "metadata": {},
   "source": [
    "Q4. What are the properties of Binomial distribution? Give two examples of events where binomial\n",
    "distribution can be applied."
   ]
  },
  {
   "cell_type": "markdown",
   "id": "3d8a2621-0f90-454b-9631-e3396d2f21ac",
   "metadata": {},
   "source": [
    "The binomial distribution is a discrete probability distribution that describes the number of successes in a fixed number of independent Bernoulli trials, where each trial has only two possible outcomes (usually labeled as success and failure) and the probability of success remains constant across all trials. The properties of the binomial distribution include:\n",
    "\n",
    "Fixed number of trials: The number of trials, denoted by \n",
    "n, is fixed in advance.\n",
    "Independent trials: Each trial is independent of the others.\n",
    "Two possible outcomes: Each trial has only two possible outcomes, typically labeled as success (with probability \n",
    "p) and failure (with probability \n",
    "1\n",
    "−\n",
    "1−p).\n",
    "Constant probability of success: The probability of success, denoted by \n",
    "p, remains constant across all trials.\n",
    "Discrete outcomes: The binomial random variable represents the number of successes, which can only take on integer values from 0 to \n",
    "n.\n",
    "Examples of events where the binomial distribution can be applied include:\n",
    "\n",
    "Coin flipping: Suppose you flip a fair coin (where the probability of heads, \n",
    "p, is 0.5) 10 times. The number of heads obtained follows a binomial distribution with parameters \n",
    "=\n",
    "10\n",
    "n=10 and \n",
    "=\n",
    "0.5\n",
    "p=0.5.\n",
    "\n",
    "Medical trials: In a clinical trial, a new drug is tested on a group of patients to determine its effectiveness. Each patient either responds positively (success) or does not respond (failure) to the treatment. The number of patients who respond positively out of a fixed sample size follows a binomial distribution, with the probability of success determined by the efficacy of the drug."
   ]
  },
  {
   "cell_type": "markdown",
   "id": "31ff7f86-341d-4caa-a23b-eef8136d0710",
   "metadata": {},
   "source": [
    "Q5. Generate a random sample of size 1000 from a binomial distribution with probability of success 0.4\n",
    "and plot a histogram of the results using matplotlib."
   ]
  },
  {
   "cell_type": "code",
   "execution_count": 2,
   "id": "dfad2226-0e8e-4156-a414-e53907ce8a39",
   "metadata": {},
   "outputs": [
    {
     "data": {
      "image/png": "[encoded data removed]",
      "text/plain": [
       "<Figure size 640x480 with 1 Axes>"
      ]
     },
     "metadata": {},
     "output_type": "display_data"
    }
   ],
   "source": [
    "import numpy as np\n",
    "import matplotlib.pyplot as plt\n",
    "\n",
    "# Parameters\n",
    "n = 1000  # sample size\n",
    "p = 0.4   # probability of success\n",
    "\n",
    "# Generate random sample from binomial distribution\n",
    "sample = np.random.binomial(n=1, p=p, size=n)\n",
    "\n",
    "# Plot histogram\n",
    "plt.hist(sample, bins=2, color='skyblue', edgecolor='black')\n",
    "plt.title('Histogram of Binomial Distribution')\n",
    "plt.xlabel('Outcome (0 = Failure, 1 = Success)')\n",
    "plt.ylabel('Frequency')\n",
    "plt.xticks([0, 1], ['Failure', 'Success'])\n",
    "plt.grid(axis='y', linestyle='--', alpha=0.7)\n",
    "plt.show()\n"
   ]
  },
  {
   "cell_type": "markdown",
   "id": "662352ef-fbe9-4118-bcff-fe827e640bf1",
   "metadata": {},
   "source": [
    "Q6. Write a Python function to calculate the cumulative distribution function of a Poisson distribution\n",
    "with given mean at a given point."
   ]
  },
  {
   "cell_type": "code",
   "execution_count": 4,
   "id": "35c87c32-e763-4e74-a316-a7896384ac12",
   "metadata": {},
   "outputs": [
    {
     "name": "stdout",
     "output_type": "stream",
     "text": [
      "CDF at x = 2 : 0.42319008112684353\n"
     ]
    }
   ],
   "source": [
    "import math\n",
    "\n",
    "def poisson_cdf(x, mean):\n",
    "    cdf = 0\n",
    "    for i in range(x + 1):\n",
    "        cdf += math.exp(-mean) * (mean ** i) / math.factorial(i)\n",
    "    return cdf\n",
    "\n",
    "# Example usage:\n",
    "mean = 3\n",
    "x = 2\n",
    "cdf_at_x = poisson_cdf(x, mean)\n",
    "print(\"CDF at x =\", x, \":\", cdf_at_x)\n"
   ]
  },
  {
   "cell_type": "markdown",
   "id": "cf65e933-7eca-47c0-80b1-5a2c9fb9f2df",
   "metadata": {},
   "source": [
    "Q7. How Binomial distribution different from Poisson distribution?"
   ]
  },
  {
   "cell_type": "markdown",
   "id": "a66d4643-451c-413f-b5e9-0813b4c92456",
   "metadata": {},
   "source": [
    "The binomial distribution and the Poisson distribution are both discrete probability distributions, but they are used in different scenarios and have distinct characteristics:\n",
    "\n",
    "Nature of Events:\n",
    "\n",
    "Binomial Distribution: It models the number of successes in a fixed number of independent Bernoulli trials, where each trial has only two possible outcomes (success or failure) and the probability of success remains constant across all trials.\n",
    "Poisson Distribution: It models the number of events occurring in a fixed interval of time or space, where the events are rare and independent of each other. It is often used when the number of trials is very large and the probability of success is very small.\n",
    "Number of Trials:\n",
    "\n",
    "Binomial Distribution: It requires a fixed number of trials (\n",
    "n) to be specified in advance.\n",
    "Poisson Distribution: It does not require a fixed number of trials; it models the number of events in a continuous or indefinitely large number of trials.\n",
    "Probability of Success:\n",
    "\n",
    "Binomial Distribution: It requires the probability of success (\n",
    "p) to remain constant across all trials.\n",
    "Poisson Distribution: It does not directly model the probability of success; instead, it relies on the rate parameter (\n",
    "λ), which represents the average rate of events occurring in the fixed interval."
   ]
  },
  {
   "cell_type": "markdown",
   "id": "eefb4c01-c93d-42a2-9696-2d242a0c8f98",
   "metadata": {},
   "source": [
    "Q8. Generate a random sample of size 1000 from a Poisson distribution with mean 5 and calculate the\n",
    "sample mean and variance."
   ]
  },
  {
   "cell_type": "code",
   "execution_count": 5,
   "id": "7b7ef111-62da-4713-8eb9-32a88cc9106e",
   "metadata": {},
   "outputs": [
    {
     "name": "stdout",
     "output_type": "stream",
     "text": [
      "Sample Mean: 4.874\n",
      "Sample Variance: 5.076124000000001\n"
     ]
    }
   ],
   "source": [
    "import numpy as np\n",
    "\n",
    "# Parameters\n",
    "sample_size = 1000\n",
    "mean = 5\n",
    "\n",
    "# Generate random sample from Poisson distribution\n",
    "sample = np.random.poisson(mean, size=sample_size)\n",
    "\n",
    "# Calculate sample mean and variance\n",
    "sample_mean = np.mean(sample)\n",
    "sample_variance = np.var(sample)\n",
    "\n",
    "print(\"Sample Mean:\", sample_mean)\n",
    "print(\"Sample Variance:\", sample_variance)\n"
   ]
  },
  {
   "cell_type": "markdown",
   "id": "7738ba54-f01f-4cfd-9cb2-90100e902c4e",
   "metadata": {},
   "source": [
    "Q9. How mean and variance are related in Binomial distribution and Poisson distribution?"
   ]
  },
  {
   "cell_type": "markdown",
   "id": "652db74d-1895-4c4a-9444-e0639dc17fe4",
   "metadata": {},
   "source": [
    "In both the binomial distribution and the Poisson distribution, the mean and variance are related, but the nature of their relationship differs slightly between the two distributions.\n",
    "\n",
    "### Binomial Distribution:\n",
    "In the binomial distribution, the mean (\\( \\mu \\)) and variance (\\( \\sigma^2 \\)) are related as follows:\n",
    "\\[ \\mu = np \\]\n",
    "\\[ \\sigma^2 = np(1-p) \\]\n",
    "where:\n",
    "- \\( n \\) is the number of trials,\n",
    "- \\( p \\) is the probability of success on each trial.\n",
    "\n",
    "So, in the binomial distribution, the variance is a function of both the number of trials (\\( n \\)) and the probability of success (\\( p \\)).\n",
    "\n",
    "### Poisson Distribution:\n",
    "In the Poisson distribution, the mean (\\( \\lambda \\)) and variance (\\( \\sigma^2 \\)) are related as follows:\n",
    "\\[ \\mu = \\sigma^2 = \\lambda \\]\n",
    "where:\n",
    "- \\( \\lambda \\) is the rate parameter.\n",
    "\n",
    "In the Poisson distribution, the mean and variance are equal and are solely determined by the rate parameter \\( \\lambda \\).\n",
    "\n",
    "### Comparison:\n",
    "- In the binomial distribution, the variance depends on both the number of trials (\\( n \\)) and the probability of success (\\( p \\)).\n",
    "- In the Poisson distribution, the variance is solely determined by the rate parameter (\\( \\lambda \\)).\n",
    "\n",
    "Overall, while both distributions exhibit a relationship between their mean and variance, the specifics of this relationship differ between the binomial and Poisson distributions."
   ]
  },
  {
   "cell_type": "markdown",
   "id": "4e11ea57-aa64-4229-9ce9-952045f9c505",
   "metadata": {},
   "source": [
    "Q10. In normal distribution with respect to mean position, where does the least frequent data appear?"
   ]
  },
  {
   "cell_type": "markdown",
   "id": "c670a4a5-6c13-4603-9800-0bf2fac6b37a",
   "metadata": {},
   "source": [
    "In a normal distribution, also known as a Gaussian distribution, the least frequent data points appear at the tails of the distribution, farthest from the mean. \n",
    "\n",
    "The normal distribution is symmetric about its mean, with the highest frequency of data points occurring at the mean. As you move away from the mean towards the tails of the distribution, the frequency of data points gradually decreases. \n",
    "\n",
    "Specifically, the least frequent data points appear in the tails of the distribution, which are the regions that lie several standard deviations away from the mean. In a standard normal distribution (with mean 0 and standard deviation 1), about 68% of the data falls within one standard deviation of the mean, about 95% falls within two standard deviations, and about 99.7% falls within three standard deviations. Therefore, the data points beyond three standard deviations from the mean are relatively rare and occur with the least frequency in a normal distribution."
   ]
  }
 ],
 "metadata": {
  "kernelspec": {
   "display_name": "Python 3 (ipykernel)",
   "language": "python",
   "name": "python3"
  },
  "language_info": {
   "codemirror_mode": {
    "name": "ipython",
    "version": 3
   },
   "file_extension": ".py",
   "mimetype": "text/x-python",
   "name": "python",
   "nbconvert_exporter": "python",
   "pygments_lexer": "ipython3",
   "version": "3.10.8"
  }
 },
 "nbformat": 4,
 "nbformat_minor": 5
}
