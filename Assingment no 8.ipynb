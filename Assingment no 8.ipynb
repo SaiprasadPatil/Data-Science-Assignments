{
 "cells": [
  {
   "cell_type": "markdown",
   "id": "562708aa-35ca-4811-a04a-edd3b6becd15",
   "metadata": {},
   "source": [
    "Q1. What is an Exception in python ? Write the differnce between Exceptions and syntax errors."
   ]
  },
  {
   "cell_type": "markdown",
   "id": "a69e72e7-61e7-4199-a49b-0b189f29dade",
   "metadata": {},
   "source": [
    "Exceptions are raised when the program is syntactically correct, but the code results in an error. This error does not stop the execution of the program, however, it changes the normal flow of the program.\n",
    "SyntaxError: This exception is raised when the interpreter encounters a syntax error in the code, such as a \n",
    "misspelled keyword, a missing colon, or an unbalanced parenthesis."
   ]
  },
  {
   "cell_type": "markdown",
   "id": "9a43c284-ccd8-4279-9aaa-a7933eab235b",
   "metadata": {},
   "source": [
    "Q2. What happens when an exception is not handled? Explain with an example"
   ]
  },
  {
   "cell_type": "markdown",
   "id": "a2c090d8-42d7-4bdb-b205-65be27e1ae8c",
   "metadata": {},
   "source": [
    "when exception is not handeled we use try and except block, using this we all code of program is write in try block and when exception is occure it can handled by exception block return the exception type  "
   ]
  },
  {
   "cell_type": "code",
   "execution_count": 38,
   "id": "b383ce78-40e4-43d1-ba6f-69e8450659fa",
   "metadata": {},
   "outputs": [
    {
     "name": "stdout",
     "output_type": "stream",
     "text": [
      "division by zero\n"
     ]
    }
   ],
   "source": [
    "try:\n",
    "    10 / 0\n",
    "except Exception as e:\n",
    "    print(e)"
   ]
  },
  {
   "cell_type": "markdown",
   "id": "82ff7fcf-2d51-46a8-994e-979a18790bd2",
   "metadata": {},
   "source": [
    "Q3. which Python statements are used to , catch and handle exceptions? Explain with an example"
   ]
  },
  {
   "cell_type": "markdown",
   "id": "34a25c60-3651-47e3-bdfd-bb8d5b9ae8d9",
   "metadata": {},
   "source": [
    "In Python except statements are used to , catch and handle exceptions"
   ]
  },
  {
   "cell_type": "code",
   "execution_count": 40,
   "id": "3f886ad3-c9fd-4774-bfea-b38e7107e87b",
   "metadata": {},
   "outputs": [
    {
     "name": "stdout",
     "output_type": "stream",
     "text": [
      "unsupported operand type(s) for +: 'int' and 'str'\n"
     ]
    }
   ],
   "source": [
    "try :\n",
    "    1+\"sai\"\n",
    "except Exception as e :\n",
    "    print(e)"
   ]
  },
  {
   "cell_type": "markdown",
   "id": "08fabb09-2b41-4eac-bfdd-e14a7aba7242",
   "metadata": {},
   "source": [
    "Q4. Explain withan example:\n",
    "try and else\n",
    "finally\n",
    "raise"
   ]
  },
  {
   "cell_type": "code",
   "execution_count": 49,
   "id": "a4aa4e25-d1c2-47b6-8511-a1e56d2e1d5e",
   "metadata": {},
   "outputs": [
    {
     "name": "stdin",
     "output_type": "stream",
     "text": [
      "Enter the no: -3\n"
     ]
    },
    {
     "name": "stdout",
     "output_type": "stream",
     "text": [
      "Enter positive Number\n",
      "Finally block executed\n"
     ]
    }
   ],
   "source": [
    "try :\n",
    "    no = int(input(\"Enter the no:\"))\n",
    "    if no<=0:\n",
    "        raise ValueError(\"Enter positive Number\")\n",
    "        result=10/no\n",
    "except Exception as e:\n",
    "    print(e)\n",
    "else :\n",
    "    print(\"Answer is:\",result)\n",
    "finally :\n",
    "    print(\"Finally block executed\")\n",
    "            "
   ]
  },
  {
   "cell_type": "code",
   "execution_count": 52,
   "id": "35b3871e-482b-430a-bf08-e0aa68d7f132",
   "metadata": {},
   "outputs": [
    {
     "name": "stdin",
     "output_type": "stream",
     "text": [
      "Enter the no: 15\n"
     ]
    },
    {
     "name": "stdout",
     "output_type": "stream",
     "text": [
      "Answer is: 0.6666666666666666\n",
      "Finally block executed\n"
     ]
    }
   ],
   "source": [
    "try :\n",
    "    no = int(input(\"Enter the no:\"))\n",
    "    if no<=0:\n",
    "        raise ValueError(\"Enter positive Number\")\n",
    "    result=10/no\n",
    "except Exception as e:\n",
    "    print(e)\n",
    "else :\n",
    "    print(\"Answer is:\",result)\n",
    "finally :\n",
    "    print(\"Finally block executed\")\n",
    "            "
   ]
  },
  {
   "cell_type": "code",
   "execution_count": 53,
   "id": "749be854-89e2-44ac-8be3-862a98d58958",
   "metadata": {},
   "outputs": [
    {
     "name": "stdin",
     "output_type": "stream",
     "text": [
      "Enter the no: sai\n"
     ]
    },
    {
     "name": "stdout",
     "output_type": "stream",
     "text": [
      "invalid literal for int() with base 10: 'sai'\n",
      "Finally block executed\n"
     ]
    }
   ],
   "source": [
    "try :\n",
    "    no = int(input(\"Enter the no:\"))\n",
    "    if no<=0:\n",
    "        raise ValueError(\"Enter positive Number\")\n",
    "    result=10/no\n",
    "except Exception as e:\n",
    "    print(e)\n",
    "else :\n",
    "    print(\"Answer is:\",result)\n",
    "finally :\n",
    "    print(\"Finally block executed\")\n",
    "            "
   ]
  },
  {
   "cell_type": "markdown",
   "id": "2497f6f2-771a-4455-ab71-1ee0394c3a16",
   "metadata": {},
   "source": [
    "Q5. What are Custom Exceptions in python? Why do we need Custom Exceptions? Explain with an example"
   ]
  },
  {
   "cell_type": "markdown",
   "id": "9d866e1c-beff-4d84-9345-d621409da6fb",
   "metadata": {},
   "source": [
    "A custom exception, also known as a user-defined exception, is an exception class that you create in a programming language to \n",
    "handle specific error conditions or exceptional situations that may arise in your code.\n",
    "Custom exceptions allow you to define your own types of exceptions with customized behavior, error messages, and additional information.\n",
    "Need Custom Exceptions isSpecific Error Handling,Error Categorization,Clarity and Readability."
   ]
  },
  {
   "cell_type": "code",
   "execution_count": 57,
   "id": "9221c4eb-cd32-4f3e-98ac-2dfdfab5c4dd",
   "metadata": {},
   "outputs": [],
   "source": [
    "class validateage(Exception):\n",
    "    \n",
    "    def __init__(self,msg):\n",
    "        self.msg = msg"
   ]
  },
  {
   "cell_type": "code",
   "execution_count": 59,
   "id": "4630c5db-446b-4263-99fb-505788c58602",
   "metadata": {},
   "outputs": [],
   "source": [
    "def validate_age(a):\n",
    "    if a < 0:\n",
    "        raise validateage(\"entered age is negative\")\n",
    "    elif a > 200:\n",
    "        raise validateage(\"age is high\")\n",
    "    else:\n",
    "        print(\"age is vaild\")"
   ]
  },
  {
   "cell_type": "code",
   "execution_count": 60,
   "id": "5eed9909-1193-42b1-a306-cc367fea09ed",
   "metadata": {},
   "outputs": [
    {
     "name": "stdin",
     "output_type": "stream",
     "text": [
      "Enter your age: -455\n"
     ]
    },
    {
     "name": "stdout",
     "output_type": "stream",
     "text": [
      "entered age is negative\n"
     ]
    }
   ],
   "source": [
    "try:\n",
    "    a = int(input(\"Enter your age:\"))\n",
    "    validate_age(a)\n",
    "except validateage as e:\n",
    "    print(e)"
   ]
  },
  {
   "cell_type": "markdown",
   "id": "f35751cc-c0ef-4263-b6ca-3664add492b2",
   "metadata": {},
   "source": [
    "Q6. Create custom exception class. Use this ,class to handle an exception."
   ]
  },
  {
   "cell_type": "code",
   "execution_count": 76,
   "id": "59f247cb-834b-4af1-be01-fc8cbf875e75",
   "metadata": {},
   "outputs": [],
   "source": [
    "class validatename(Exception):\n",
    "    \n",
    "    def __init__(self,msg):\n",
    "        self.msg = msg"
   ]
  },
  {
   "cell_type": "code",
   "execution_count": 81,
   "id": "44f30096-d873-4a72-a69d-ca09c554e89a",
   "metadata": {},
   "outputs": [],
   "source": [
    "def name(a):\n",
    "    if a[-1] in[\"a\",\"e\",\"i\",\"o\",\"u\",\"A\",\"E\",\"I\",\"O\",\"U\"]:\n",
    "        raise validatename(\"entered name gender is Girl\")\n",
    "    else :\n",
    "        raise validateage(\"entered name gender is Boy\")"
   ]
  },
  {
   "cell_type": "code",
   "execution_count": 83,
   "id": "53e33fde-310c-4145-b977-fb41c9a38c7a",
   "metadata": {},
   "outputs": [
    {
     "name": "stdin",
     "output_type": "stream",
     "text": [
      "Enter your name: Sonali\n"
     ]
    },
    {
     "name": "stdout",
     "output_type": "stream",
     "text": [
      "entered name gender is Girl\n"
     ]
    }
   ],
   "source": [
    "try:\n",
    "    a = input(\"Enter your name:\")\n",
    "    name(a)\n",
    "except validatename as e:\n",
    "    print(e)"
   ]
  }
 ],
 "metadata": {
  "kernelspec": {
   "display_name": "Python 3 (ipykernel)",
   "language": "python",
   "name": "python3"
  },
  "language_info": {
   "codemirror_mode": {
    "name": "ipython",
    "version": 3
   },
   "file_extension": ".py",
   "mimetype": "text/x-python",
   "name": "python",
   "nbconvert_exporter": "python",
   "pygments_lexer": "ipython3",
   "version": "3.10.8"
  }
 },
 "nbformat": 4,
 "nbformat_minor": 5
}
